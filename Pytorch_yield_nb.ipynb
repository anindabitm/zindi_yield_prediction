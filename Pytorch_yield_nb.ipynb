{
  "nbformat": 4,
  "nbformat_minor": 0,
  "metadata": {
    "colab": {
      "name": "Pytorch-yield-nb.ipynb",
      "provenance": [],
      "collapsed_sections": [],
      "authorship_tag": "ABX9TyPoAeGkhWWqPuQLRYdIQ/qD",
      "include_colab_link": true
    },
    "kernelspec": {
      "display_name": "Python 3",
      "name": "python3"
    },
    "widgets": {
      "application/vnd.jupyter.widget-state+json": {
        "14a162db65ca41db9a0fc888c1be243b": {
          "model_module": "@jupyter-widgets/controls",
          "model_name": "HBoxModel",
          "state": {
            "_view_name": "HBoxView",
            "_dom_classes": [],
            "_model_name": "HBoxModel",
            "_view_module": "@jupyter-widgets/controls",
            "_model_module_version": "1.5.0",
            "_view_count": null,
            "_view_module_version": "1.5.0",
            "box_style": "",
            "layout": "IPY_MODEL_505d8667d687418fa777807d7cb8b308",
            "_model_module": "@jupyter-widgets/controls",
            "children": [
              "IPY_MODEL_357caaaafdcb4f3dbdea68e5295f9660",
              "IPY_MODEL_fbec0a6a5b4d4ed7831bf5c04e0e2dd6"
            ]
          }
        },
        "505d8667d687418fa777807d7cb8b308": {
          "model_module": "@jupyter-widgets/base",
          "model_name": "LayoutModel",
          "state": {
            "_view_name": "LayoutView",
            "grid_template_rows": null,
            "right": null,
            "justify_content": null,
            "_view_module": "@jupyter-widgets/base",
            "overflow": null,
            "_model_module_version": "1.2.0",
            "_view_count": null,
            "flex_flow": null,
            "width": null,
            "min_width": null,
            "border": null,
            "align_items": null,
            "bottom": null,
            "_model_module": "@jupyter-widgets/base",
            "top": null,
            "grid_column": null,
            "overflow_y": null,
            "overflow_x": null,
            "grid_auto_flow": null,
            "grid_area": null,
            "grid_template_columns": null,
            "flex": null,
            "_model_name": "LayoutModel",
            "justify_items": null,
            "grid_row": null,
            "max_height": null,
            "align_content": null,
            "visibility": null,
            "align_self": null,
            "height": null,
            "min_height": null,
            "padding": null,
            "grid_auto_rows": null,
            "grid_gap": null,
            "max_width": null,
            "order": null,
            "_view_module_version": "1.2.0",
            "grid_template_areas": null,
            "object_position": null,
            "object_fit": null,
            "grid_auto_columns": null,
            "margin": null,
            "display": null,
            "left": null
          }
        },
        "357caaaafdcb4f3dbdea68e5295f9660": {
          "model_module": "@jupyter-widgets/controls",
          "model_name": "FloatProgressModel",
          "state": {
            "_view_name": "ProgressView",
            "style": "IPY_MODEL_3ec3fca408694bbf9ec446230fa3511e",
            "_dom_classes": [],
            "description": "100%",
            "_model_name": "FloatProgressModel",
            "bar_style": "success",
            "max": 4032,
            "_view_module": "@jupyter-widgets/controls",
            "_model_module_version": "1.5.0",
            "value": 4032,
            "_view_count": null,
            "_view_module_version": "1.5.0",
            "orientation": "horizontal",
            "min": 0,
            "description_tooltip": null,
            "_model_module": "@jupyter-widgets/controls",
            "layout": "IPY_MODEL_a08fe31e51a64e92aaec27e62e85ef67"
          }
        },
        "fbec0a6a5b4d4ed7831bf5c04e0e2dd6": {
          "model_module": "@jupyter-widgets/controls",
          "model_name": "HTMLModel",
          "state": {
            "_view_name": "HTMLView",
            "style": "IPY_MODEL_45685693451c4f74b95cba0ce915f01f",
            "_dom_classes": [],
            "description": "",
            "_model_name": "HTMLModel",
            "placeholder": "​",
            "_view_module": "@jupyter-widgets/controls",
            "_model_module_version": "1.5.0",
            "value": " 4032/4032 [05:24&lt;00:00, 12.44it/s]",
            "_view_count": null,
            "_view_module_version": "1.5.0",
            "description_tooltip": null,
            "_model_module": "@jupyter-widgets/controls",
            "layout": "IPY_MODEL_058e7821e2e544f88ff8604206e33583"
          }
        },
        "3ec3fca408694bbf9ec446230fa3511e": {
          "model_module": "@jupyter-widgets/controls",
          "model_name": "ProgressStyleModel",
          "state": {
            "_view_name": "StyleView",
            "_model_name": "ProgressStyleModel",
            "description_width": "initial",
            "_view_module": "@jupyter-widgets/base",
            "_model_module_version": "1.5.0",
            "_view_count": null,
            "_view_module_version": "1.2.0",
            "bar_color": null,
            "_model_module": "@jupyter-widgets/controls"
          }
        },
        "a08fe31e51a64e92aaec27e62e85ef67": {
          "model_module": "@jupyter-widgets/base",
          "model_name": "LayoutModel",
          "state": {
            "_view_name": "LayoutView",
            "grid_template_rows": null,
            "right": null,
            "justify_content": null,
            "_view_module": "@jupyter-widgets/base",
            "overflow": null,
            "_model_module_version": "1.2.0",
            "_view_count": null,
            "flex_flow": null,
            "width": null,
            "min_width": null,
            "border": null,
            "align_items": null,
            "bottom": null,
            "_model_module": "@jupyter-widgets/base",
            "top": null,
            "grid_column": null,
            "overflow_y": null,
            "overflow_x": null,
            "grid_auto_flow": null,
            "grid_area": null,
            "grid_template_columns": null,
            "flex": null,
            "_model_name": "LayoutModel",
            "justify_items": null,
            "grid_row": null,
            "max_height": null,
            "align_content": null,
            "visibility": null,
            "align_self": null,
            "height": null,
            "min_height": null,
            "padding": null,
            "grid_auto_rows": null,
            "grid_gap": null,
            "max_width": null,
            "order": null,
            "_view_module_version": "1.2.0",
            "grid_template_areas": null,
            "object_position": null,
            "object_fit": null,
            "grid_auto_columns": null,
            "margin": null,
            "display": null,
            "left": null
          }
        },
        "45685693451c4f74b95cba0ce915f01f": {
          "model_module": "@jupyter-widgets/controls",
          "model_name": "DescriptionStyleModel",
          "state": {
            "_view_name": "StyleView",
            "_model_name": "DescriptionStyleModel",
            "description_width": "",
            "_view_module": "@jupyter-widgets/base",
            "_model_module_version": "1.5.0",
            "_view_count": null,
            "_view_module_version": "1.2.0",
            "_model_module": "@jupyter-widgets/controls"
          }
        },
        "058e7821e2e544f88ff8604206e33583": {
          "model_module": "@jupyter-widgets/base",
          "model_name": "LayoutModel",
          "state": {
            "_view_name": "LayoutView",
            "grid_template_rows": null,
            "right": null,
            "justify_content": null,
            "_view_module": "@jupyter-widgets/base",
            "overflow": null,
            "_model_module_version": "1.2.0",
            "_view_count": null,
            "flex_flow": null,
            "width": null,
            "min_width": null,
            "border": null,
            "align_items": null,
            "bottom": null,
            "_model_module": "@jupyter-widgets/base",
            "top": null,
            "grid_column": null,
            "overflow_y": null,
            "overflow_x": null,
            "grid_auto_flow": null,
            "grid_area": null,
            "grid_template_columns": null,
            "flex": null,
            "_model_name": "LayoutModel",
            "justify_items": null,
            "grid_row": null,
            "max_height": null,
            "align_content": null,
            "visibility": null,
            "align_self": null,
            "height": null,
            "min_height": null,
            "padding": null,
            "grid_auto_rows": null,
            "grid_gap": null,
            "max_width": null,
            "order": null,
            "_view_module_version": "1.2.0",
            "grid_template_areas": null,
            "object_position": null,
            "object_fit": null,
            "grid_auto_columns": null,
            "margin": null,
            "display": null,
            "left": null
          }
        },
        "7a54083bfb3344aa8d15079437db501a": {
          "model_module": "@jupyter-widgets/controls",
          "model_name": "HBoxModel",
          "state": {
            "_dom_classes": [],
            "_model_module": "@jupyter-widgets/controls",
            "_model_module_version": "1.5.0",
            "_model_name": "HBoxModel",
            "_view_count": null,
            "_view_module": "@jupyter-widgets/controls",
            "_view_module_version": "1.5.0",
            "_view_name": "HBoxView",
            "box_style": "",
            "children": [
              "IPY_MODEL_98e83c1ee4844d9f887e1b485a1053ca",
              "IPY_MODEL_922addb05eff4c62bf142e64beaae9cd"
            ],
            "layout": "IPY_MODEL_b7f7286d02a24471b767abba500e393e"
          }
        },
        "98e83c1ee4844d9f887e1b485a1053ca": {
          "model_module": "@jupyter-widgets/controls",
          "model_name": "FloatProgressModel",
          "state": {
            "_dom_classes": [],
            "_model_module": "@jupyter-widgets/controls",
            "_model_module_version": "1.5.0",
            "_model_name": "FloatProgressModel",
            "_view_count": null,
            "_view_module": "@jupyter-widgets/controls",
            "_view_module_version": "1.5.0",
            "_view_name": "ProgressView",
            "bar_style": "success",
            "description": "100%",
            "description_tooltip": null,
            "layout": "IPY_MODEL_7105a7b475fc46b68a6145cc28650181",
            "max": 2552,
            "min": 0,
            "orientation": "horizontal",
            "style": "IPY_MODEL_b33c62bdf730474d9bfecf2664b7add1",
            "value": 2552
          }
        },
        "922addb05eff4c62bf142e64beaae9cd": {
          "model_module": "@jupyter-widgets/controls",
          "model_name": "HTMLModel",
          "state": {
            "_dom_classes": [],
            "_model_module": "@jupyter-widgets/controls",
            "_model_module_version": "1.5.0",
            "_model_name": "HTMLModel",
            "_view_count": null,
            "_view_module": "@jupyter-widgets/controls",
            "_view_module_version": "1.5.0",
            "_view_name": "HTMLView",
            "description": "",
            "description_tooltip": null,
            "layout": "IPY_MODEL_4641eb00591649f5bd5d758bfa0a9ea5",
            "placeholder": "​",
            "style": "IPY_MODEL_17588ca7737c45b0b53c541ad75bdc6c",
            "value": " 2552/2552 [01:53&lt;00:00, 22.50it/s]"
          }
        },
        "b7f7286d02a24471b767abba500e393e": {
          "model_module": "@jupyter-widgets/base",
          "model_name": "LayoutModel",
          "state": {
            "_model_module": "@jupyter-widgets/base",
            "_model_module_version": "1.2.0",
            "_model_name": "LayoutModel",
            "_view_count": null,
            "_view_module": "@jupyter-widgets/base",
            "_view_module_version": "1.2.0",
            "_view_name": "LayoutView",
            "align_content": null,
            "align_items": null,
            "align_self": null,
            "border": null,
            "bottom": null,
            "display": null,
            "flex": null,
            "flex_flow": null,
            "grid_area": null,
            "grid_auto_columns": null,
            "grid_auto_flow": null,
            "grid_auto_rows": null,
            "grid_column": null,
            "grid_gap": null,
            "grid_row": null,
            "grid_template_areas": null,
            "grid_template_columns": null,
            "grid_template_rows": null,
            "height": null,
            "justify_content": null,
            "justify_items": null,
            "left": null,
            "margin": null,
            "max_height": null,
            "max_width": null,
            "min_height": null,
            "min_width": null,
            "object_fit": null,
            "object_position": null,
            "order": null,
            "overflow": null,
            "overflow_x": null,
            "overflow_y": null,
            "padding": null,
            "right": null,
            "top": null,
            "visibility": null,
            "width": null
          }
        },
        "7105a7b475fc46b68a6145cc28650181": {
          "model_module": "@jupyter-widgets/base",
          "model_name": "LayoutModel",
          "state": {
            "_model_module": "@jupyter-widgets/base",
            "_model_module_version": "1.2.0",
            "_model_name": "LayoutModel",
            "_view_count": null,
            "_view_module": "@jupyter-widgets/base",
            "_view_module_version": "1.2.0",
            "_view_name": "LayoutView",
            "align_content": null,
            "align_items": null,
            "align_self": null,
            "border": null,
            "bottom": null,
            "display": null,
            "flex": null,
            "flex_flow": null,
            "grid_area": null,
            "grid_auto_columns": null,
            "grid_auto_flow": null,
            "grid_auto_rows": null,
            "grid_column": null,
            "grid_gap": null,
            "grid_row": null,
            "grid_template_areas": null,
            "grid_template_columns": null,
            "grid_template_rows": null,
            "height": null,
            "justify_content": null,
            "justify_items": null,
            "left": null,
            "margin": null,
            "max_height": null,
            "max_width": null,
            "min_height": null,
            "min_width": null,
            "object_fit": null,
            "object_position": null,
            "order": null,
            "overflow": null,
            "overflow_x": null,
            "overflow_y": null,
            "padding": null,
            "right": null,
            "top": null,
            "visibility": null,
            "width": null
          }
        },
        "b33c62bdf730474d9bfecf2664b7add1": {
          "model_module": "@jupyter-widgets/controls",
          "model_name": "ProgressStyleModel",
          "state": {
            "_model_module": "@jupyter-widgets/controls",
            "_model_module_version": "1.5.0",
            "_model_name": "ProgressStyleModel",
            "_view_count": null,
            "_view_module": "@jupyter-widgets/base",
            "_view_module_version": "1.2.0",
            "_view_name": "StyleView",
            "bar_color": null,
            "description_width": "initial"
          }
        },
        "4641eb00591649f5bd5d758bfa0a9ea5": {
          "model_module": "@jupyter-widgets/base",
          "model_name": "LayoutModel",
          "state": {
            "_model_module": "@jupyter-widgets/base",
            "_model_module_version": "1.2.0",
            "_model_name": "LayoutModel",
            "_view_count": null,
            "_view_module": "@jupyter-widgets/base",
            "_view_module_version": "1.2.0",
            "_view_name": "LayoutView",
            "align_content": null,
            "align_items": null,
            "align_self": null,
            "border": null,
            "bottom": null,
            "display": null,
            "flex": null,
            "flex_flow": null,
            "grid_area": null,
            "grid_auto_columns": null,
            "grid_auto_flow": null,
            "grid_auto_rows": null,
            "grid_column": null,
            "grid_gap": null,
            "grid_row": null,
            "grid_template_areas": null,
            "grid_template_columns": null,
            "grid_template_rows": null,
            "height": null,
            "justify_content": null,
            "justify_items": null,
            "left": null,
            "margin": null,
            "max_height": null,
            "max_width": null,
            "min_height": null,
            "min_width": null,
            "object_fit": null,
            "object_position": null,
            "order": null,
            "overflow": null,
            "overflow_x": null,
            "overflow_y": null,
            "padding": null,
            "right": null,
            "top": null,
            "visibility": null,
            "width": null
          }
        },
        "17588ca7737c45b0b53c541ad75bdc6c": {
          "model_module": "@jupyter-widgets/controls",
          "model_name": "DescriptionStyleModel",
          "state": {
            "_model_module": "@jupyter-widgets/controls",
            "_model_module_version": "1.5.0",
            "_model_name": "DescriptionStyleModel",
            "_view_count": null,
            "_view_module": "@jupyter-widgets/base",
            "_view_module_version": "1.2.0",
            "_view_name": "StyleView",
            "description_width": ""
          }
        },
        "a45b4e4b17fb452c82f6fde5fda82288": {
          "model_module": "@jupyter-widgets/controls",
          "model_name": "HBoxModel",
          "state": {
            "_dom_classes": [],
            "_model_module": "@jupyter-widgets/controls",
            "_model_module_version": "1.5.0",
            "_model_name": "HBoxModel",
            "_view_count": null,
            "_view_module": "@jupyter-widgets/controls",
            "_view_module_version": "1.5.0",
            "_view_name": "HBoxView",
            "box_style": "",
            "children": [
              "IPY_MODEL_c3319b16979b45fb9156157629cea6cd",
              "IPY_MODEL_139639eda5b8422bad61609e0a033dcb"
            ],
            "layout": "IPY_MODEL_fe7169638f8a4099b599d86dd1a69810"
          }
        },
        "c3319b16979b45fb9156157629cea6cd": {
          "model_module": "@jupyter-widgets/controls",
          "model_name": "FloatProgressModel",
          "state": {
            "_dom_classes": [],
            "_model_module": "@jupyter-widgets/controls",
            "_model_module_version": "1.5.0",
            "_model_name": "FloatProgressModel",
            "_view_count": null,
            "_view_module": "@jupyter-widgets/controls",
            "_view_module_version": "1.5.0",
            "_view_name": "ProgressView",
            "bar_style": "success",
            "description": "100%",
            "description_tooltip": null,
            "layout": "IPY_MODEL_3c38fa103ebd4c2d9e228d56e904830e",
            "max": 1055,
            "min": 0,
            "orientation": "horizontal",
            "style": "IPY_MODEL_3713ce1ecc4e43aeb62b5b6692e41aa0",
            "value": 1055
          }
        },
        "139639eda5b8422bad61609e0a033dcb": {
          "model_module": "@jupyter-widgets/controls",
          "model_name": "HTMLModel",
          "state": {
            "_dom_classes": [],
            "_model_module": "@jupyter-widgets/controls",
            "_model_module_version": "1.5.0",
            "_model_name": "HTMLModel",
            "_view_count": null,
            "_view_module": "@jupyter-widgets/controls",
            "_view_module_version": "1.5.0",
            "_view_name": "HTMLView",
            "description": "",
            "description_tooltip": null,
            "layout": "IPY_MODEL_7fb26f42636f466cb0ca3266f2bc8188",
            "placeholder": "​",
            "style": "IPY_MODEL_b3494c685aa948e191097e77419e5a7e",
            "value": " 1055/1055 [00:47&lt;00:00, 22.44it/s]"
          }
        },
        "fe7169638f8a4099b599d86dd1a69810": {
          "model_module": "@jupyter-widgets/base",
          "model_name": "LayoutModel",
          "state": {
            "_model_module": "@jupyter-widgets/base",
            "_model_module_version": "1.2.0",
            "_model_name": "LayoutModel",
            "_view_count": null,
            "_view_module": "@jupyter-widgets/base",
            "_view_module_version": "1.2.0",
            "_view_name": "LayoutView",
            "align_content": null,
            "align_items": null,
            "align_self": null,
            "border": null,
            "bottom": null,
            "display": null,
            "flex": null,
            "flex_flow": null,
            "grid_area": null,
            "grid_auto_columns": null,
            "grid_auto_flow": null,
            "grid_auto_rows": null,
            "grid_column": null,
            "grid_gap": null,
            "grid_row": null,
            "grid_template_areas": null,
            "grid_template_columns": null,
            "grid_template_rows": null,
            "height": null,
            "justify_content": null,
            "justify_items": null,
            "left": null,
            "margin": null,
            "max_height": null,
            "max_width": null,
            "min_height": null,
            "min_width": null,
            "object_fit": null,
            "object_position": null,
            "order": null,
            "overflow": null,
            "overflow_x": null,
            "overflow_y": null,
            "padding": null,
            "right": null,
            "top": null,
            "visibility": null,
            "width": null
          }
        },
        "3c38fa103ebd4c2d9e228d56e904830e": {
          "model_module": "@jupyter-widgets/base",
          "model_name": "LayoutModel",
          "state": {
            "_model_module": "@jupyter-widgets/base",
            "_model_module_version": "1.2.0",
            "_model_name": "LayoutModel",
            "_view_count": null,
            "_view_module": "@jupyter-widgets/base",
            "_view_module_version": "1.2.0",
            "_view_name": "LayoutView",
            "align_content": null,
            "align_items": null,
            "align_self": null,
            "border": null,
            "bottom": null,
            "display": null,
            "flex": null,
            "flex_flow": null,
            "grid_area": null,
            "grid_auto_columns": null,
            "grid_auto_flow": null,
            "grid_auto_rows": null,
            "grid_column": null,
            "grid_gap": null,
            "grid_row": null,
            "grid_template_areas": null,
            "grid_template_columns": null,
            "grid_template_rows": null,
            "height": null,
            "justify_content": null,
            "justify_items": null,
            "left": null,
            "margin": null,
            "max_height": null,
            "max_width": null,
            "min_height": null,
            "min_width": null,
            "object_fit": null,
            "object_position": null,
            "order": null,
            "overflow": null,
            "overflow_x": null,
            "overflow_y": null,
            "padding": null,
            "right": null,
            "top": null,
            "visibility": null,
            "width": null
          }
        },
        "3713ce1ecc4e43aeb62b5b6692e41aa0": {
          "model_module": "@jupyter-widgets/controls",
          "model_name": "ProgressStyleModel",
          "state": {
            "_model_module": "@jupyter-widgets/controls",
            "_model_module_version": "1.5.0",
            "_model_name": "ProgressStyleModel",
            "_view_count": null,
            "_view_module": "@jupyter-widgets/base",
            "_view_module_version": "1.2.0",
            "_view_name": "StyleView",
            "bar_color": null,
            "description_width": "initial"
          }
        },
        "7fb26f42636f466cb0ca3266f2bc8188": {
          "model_module": "@jupyter-widgets/base",
          "model_name": "LayoutModel",
          "state": {
            "_model_module": "@jupyter-widgets/base",
            "_model_module_version": "1.2.0",
            "_model_name": "LayoutModel",
            "_view_count": null,
            "_view_module": "@jupyter-widgets/base",
            "_view_module_version": "1.2.0",
            "_view_name": "LayoutView",
            "align_content": null,
            "align_items": null,
            "align_self": null,
            "border": null,
            "bottom": null,
            "display": null,
            "flex": null,
            "flex_flow": null,
            "grid_area": null,
            "grid_auto_columns": null,
            "grid_auto_flow": null,
            "grid_auto_rows": null,
            "grid_column": null,
            "grid_gap": null,
            "grid_row": null,
            "grid_template_areas": null,
            "grid_template_columns": null,
            "grid_template_rows": null,
            "height": null,
            "justify_content": null,
            "justify_items": null,
            "left": null,
            "margin": null,
            "max_height": null,
            "max_width": null,
            "min_height": null,
            "min_width": null,
            "object_fit": null,
            "object_position": null,
            "order": null,
            "overflow": null,
            "overflow_x": null,
            "overflow_y": null,
            "padding": null,
            "right": null,
            "top": null,
            "visibility": null,
            "width": null
          }
        },
        "b3494c685aa948e191097e77419e5a7e": {
          "model_module": "@jupyter-widgets/controls",
          "model_name": "DescriptionStyleModel",
          "state": {
            "_model_module": "@jupyter-widgets/controls",
            "_model_module_version": "1.5.0",
            "_model_name": "DescriptionStyleModel",
            "_view_count": null,
            "_view_module": "@jupyter-widgets/base",
            "_view_module_version": "1.2.0",
            "_view_name": "StyleView",
            "description_width": ""
          }
        }
      }
    },
    "accelerator": "GPU"
  },
  "cells": [
    {
      "cell_type": "markdown",
      "metadata": {
        "id": "view-in-github",
        "colab_type": "text"
      },
      "source": [
        "<a href=\"https://colab.research.google.com/github/anindabitm/zindi_yield_prediction/blob/main/Pytorch_yield_nb.ipynb\" target=\"_parent\"><img src=\"https://colab.research.google.com/assets/colab-badge.svg\" alt=\"Open In Colab\"/></a>"
      ]
    },
    {
      "cell_type": "code",
      "metadata": {
        "id": "hOJKooTHdhjM",
        "colab": {
          "base_uri": "https://localhost:8080/"
        },
        "outputId": "450ebea1-d6b4-4e8e-b8c8-d7682788056c"
      },
      "source": [
        "!pip uninstall fastai -y -q\r\n",
        "!pip install fastai -q"
      ],
      "execution_count": null,
      "outputs": [
        {
          "output_type": "stream",
          "text": [
            "\u001b[K     |████████████████████████████████| 194kB 14.9MB/s \n",
            "\u001b[K     |████████████████████████████████| 61kB 10.3MB/s \n",
            "\u001b[?25h"
          ],
          "name": "stdout"
        }
      ]
    },
    {
      "cell_type": "code",
      "metadata": {
        "colab": {
          "base_uri": "https://localhost:8080/"
        },
        "id": "st7WD2MNhcJh",
        "outputId": "cd400fd3-985c-4a78-98b6-dbae33130aa2"
      },
      "source": [
        "from google.colab import drive\r\n",
        "drive.mount('/content/drive')\r\n",
        "import os"
      ],
      "execution_count": null,
      "outputs": [
        {
          "output_type": "stream",
          "text": [
            "Mounted at /content/drive\n"
          ],
          "name": "stdout"
        }
      ]
    },
    {
      "cell_type": "code",
      "metadata": {
        "id": "af9giedbRwF7"
      },
      "source": [
        "import pandas as pd\r\n",
        "import gc\r\n",
        "import numpy as np\r\n",
        "from matplotlib import pyplot as plt\r\n",
        "from tqdm.notebook import tqdm\r\n",
        "from sklearn.preprocessing import StandardScaler,LabelEncoder\r\n",
        "import glob\r\n",
        "import re\r\n",
        "import tensorflow as tf\r\n",
        "from tensorflow import keras\r\n",
        "from tensorflow.keras.callbacks import Callback, EarlyStopping, ReduceLROnPlateau, ModelCheckpoint\r\n",
        "from tensorflow.keras import backend as K\r\n",
        "from keras.layers import Dense,Conv2D,TimeDistributed,Flatten,Input,AvgPool2D,LSTM,LeakyReLU,Concatenate,Dropout,Embedding\r\n",
        "from keras import Model\r\n",
        "from fastai.vision.all import *\r\n",
        "import fastai"
      ],
      "execution_count": null,
      "outputs": []
    },
    {
      "cell_type": "code",
      "metadata": {
        "colab": {
          "base_uri": "https://localhost:8080/"
        },
        "id": "ABRPF2KotZcD",
        "outputId": "4df4bbf5-b7eb-4d29-ec11-99b6543d67e8"
      },
      "source": [
        "print(fastai.__version__)"
      ],
      "execution_count": null,
      "outputs": [
        {
          "output_type": "stream",
          "text": [
            "2.2.5\n"
          ],
          "name": "stdout"
        }
      ]
    },
    {
      "cell_type": "code",
      "metadata": {
        "id": "ELAr__rVQ2SV"
      },
      "source": [
        "data = pd.read_csv('/content/drive/My Drive/yield-estimate/Train.csv')\r\n",
        "data['train'] = 1\r\n",
        "test = pd.read_csv('/content/drive/My Drive/yield-estimate/test_field_ids_with_year.csv')\r\n",
        "test['Quality'] = 3\r\n",
        "test['train'] = 0"
      ],
      "execution_count": null,
      "outputs": []
    },
    {
      "cell_type": "code",
      "metadata": {
        "id": "v4A4Kys7LZGV"
      },
      "source": [
        "addl_data = pd.read_csv('/content/drive/My Drive/yield-estimate/fields_w_additional_info.csv')"
      ],
      "execution_count": null,
      "outputs": []
    },
    {
      "cell_type": "code",
      "metadata": {
        "colab": {
          "base_uri": "https://localhost:8080/",
          "height": 241
        },
        "id": "97DphGNuLoSv",
        "outputId": "d5784efd-9ff1-4ccd-8fa2-68afd057b50e"
      },
      "source": [
        "soil = addl_data.iloc[:,:12]\r\n",
        "soil.head()"
      ],
      "execution_count": null,
      "outputs": [
        {
          "output_type": "execute_result",
          "data": {
            "text/html": [
              "<div>\n",
              "<style scoped>\n",
              "    .dataframe tbody tr th:only-of-type {\n",
              "        vertical-align: middle;\n",
              "    }\n",
              "\n",
              "    .dataframe tbody tr th {\n",
              "        vertical-align: top;\n",
              "    }\n",
              "\n",
              "    .dataframe thead th {\n",
              "        text-align: right;\n",
              "    }\n",
              "</style>\n",
              "<table border=\"1\" class=\"dataframe\">\n",
              "  <thead>\n",
              "    <tr style=\"text-align: right;\">\n",
              "      <th></th>\n",
              "      <th>Field_ID</th>\n",
              "      <th>soil_bdod_5-15cm_mean</th>\n",
              "      <th>soil_cec_5-15cm_mean</th>\n",
              "      <th>soil_cfvo_5-15cm_mean</th>\n",
              "      <th>soil_clay_5-15cm_mean</th>\n",
              "      <th>soil_nitrogen_5-15cm_mean</th>\n",
              "      <th>soil_ocd_5-15cm_mean</th>\n",
              "      <th>soil_ocs_0-30cm_mean</th>\n",
              "      <th>soil_phh2o_5-15cm_mean</th>\n",
              "      <th>soil_sand_5-15cm_mean</th>\n",
              "      <th>soil_silt_5-15cm_mean</th>\n",
              "      <th>soil_soc_5-15cm_mean</th>\n",
              "    </tr>\n",
              "  </thead>\n",
              "  <tbody>\n",
              "    <tr>\n",
              "      <th>0</th>\n",
              "      <td>MH2O0YH</td>\n",
              "      <td>118.0</td>\n",
              "      <td>257.0</td>\n",
              "      <td>85.0</td>\n",
              "      <td>463.0</td>\n",
              "      <td>2458.0</td>\n",
              "      <td>323.0</td>\n",
              "      <td>57.0</td>\n",
              "      <td>59.0</td>\n",
              "      <td>308.0</td>\n",
              "      <td>229.0</td>\n",
              "      <td>330.0</td>\n",
              "    </tr>\n",
              "    <tr>\n",
              "      <th>1</th>\n",
              "      <td>O9TURWL</td>\n",
              "      <td>120.0</td>\n",
              "      <td>288.0</td>\n",
              "      <td>84.0</td>\n",
              "      <td>462.0</td>\n",
              "      <td>2108.0</td>\n",
              "      <td>306.0</td>\n",
              "      <td>58.0</td>\n",
              "      <td>61.0</td>\n",
              "      <td>243.0</td>\n",
              "      <td>295.0</td>\n",
              "      <td>280.0</td>\n",
              "    </tr>\n",
              "    <tr>\n",
              "      <th>2</th>\n",
              "      <td>35AFSDD</td>\n",
              "      <td>120.0</td>\n",
              "      <td>263.0</td>\n",
              "      <td>102.0</td>\n",
              "      <td>495.0</td>\n",
              "      <td>1991.0</td>\n",
              "      <td>288.0</td>\n",
              "      <td>58.0</td>\n",
              "      <td>60.0</td>\n",
              "      <td>271.0</td>\n",
              "      <td>234.0</td>\n",
              "      <td>284.0</td>\n",
              "    </tr>\n",
              "    <tr>\n",
              "      <th>3</th>\n",
              "      <td>PM05EG9</td>\n",
              "      <td>122.0</td>\n",
              "      <td>206.0</td>\n",
              "      <td>66.0</td>\n",
              "      <td>431.0</td>\n",
              "      <td>2432.0</td>\n",
              "      <td>337.0</td>\n",
              "      <td>65.0</td>\n",
              "      <td>57.0</td>\n",
              "      <td>332.0</td>\n",
              "      <td>237.0</td>\n",
              "      <td>335.0</td>\n",
              "    </tr>\n",
              "    <tr>\n",
              "      <th>4</th>\n",
              "      <td>V7PZBCG</td>\n",
              "      <td>124.0</td>\n",
              "      <td>167.0</td>\n",
              "      <td>116.0</td>\n",
              "      <td>439.0</td>\n",
              "      <td>566.0</td>\n",
              "      <td>302.0</td>\n",
              "      <td>53.0</td>\n",
              "      <td>56.0</td>\n",
              "      <td>326.0</td>\n",
              "      <td>235.0</td>\n",
              "      <td>187.0</td>\n",
              "    </tr>\n",
              "  </tbody>\n",
              "</table>\n",
              "</div>"
            ],
            "text/plain": [
              "  Field_ID  soil_bdod_5-15cm_mean  ...  soil_silt_5-15cm_mean  soil_soc_5-15cm_mean\n",
              "0  MH2O0YH                  118.0  ...                  229.0                 330.0\n",
              "1  O9TURWL                  120.0  ...                  295.0                 280.0\n",
              "2  35AFSDD                  120.0  ...                  234.0                 284.0\n",
              "3  PM05EG9                  122.0  ...                  237.0                 335.0\n",
              "4  V7PZBCG                  124.0  ...                  235.0                 187.0\n",
              "\n",
              "[5 rows x 12 columns]"
            ]
          },
          "metadata": {
            "tags": []
          },
          "execution_count": 21
        }
      ]
    },
    {
      "cell_type": "code",
      "metadata": {
        "colab": {
          "base_uri": "https://localhost:8080/",
          "height": 241
        },
        "id": "tKcPkE8QM8Ho",
        "outputId": "0a58a60a-07da-4dbe-c6ba-e65655c072b8"
      },
      "source": [
        "soil['Quality'] = np.concatenate((data.Quality.values,test.Quality.values))\r\n",
        "soil.head()"
      ],
      "execution_count": null,
      "outputs": [
        {
          "output_type": "execute_result",
          "data": {
            "text/html": [
              "<div>\n",
              "<style scoped>\n",
              "    .dataframe tbody tr th:only-of-type {\n",
              "        vertical-align: middle;\n",
              "    }\n",
              "\n",
              "    .dataframe tbody tr th {\n",
              "        vertical-align: top;\n",
              "    }\n",
              "\n",
              "    .dataframe thead th {\n",
              "        text-align: right;\n",
              "    }\n",
              "</style>\n",
              "<table border=\"1\" class=\"dataframe\">\n",
              "  <thead>\n",
              "    <tr style=\"text-align: right;\">\n",
              "      <th></th>\n",
              "      <th>Field_ID</th>\n",
              "      <th>soil_bdod_5-15cm_mean</th>\n",
              "      <th>soil_cec_5-15cm_mean</th>\n",
              "      <th>soil_cfvo_5-15cm_mean</th>\n",
              "      <th>soil_clay_5-15cm_mean</th>\n",
              "      <th>soil_nitrogen_5-15cm_mean</th>\n",
              "      <th>soil_ocd_5-15cm_mean</th>\n",
              "      <th>soil_ocs_0-30cm_mean</th>\n",
              "      <th>soil_phh2o_5-15cm_mean</th>\n",
              "      <th>soil_sand_5-15cm_mean</th>\n",
              "      <th>soil_silt_5-15cm_mean</th>\n",
              "      <th>soil_soc_5-15cm_mean</th>\n",
              "      <th>Quality</th>\n",
              "    </tr>\n",
              "  </thead>\n",
              "  <tbody>\n",
              "    <tr>\n",
              "      <th>0</th>\n",
              "      <td>MH2O0YH</td>\n",
              "      <td>118.0</td>\n",
              "      <td>257.0</td>\n",
              "      <td>85.0</td>\n",
              "      <td>463.0</td>\n",
              "      <td>2458.0</td>\n",
              "      <td>323.0</td>\n",
              "      <td>57.0</td>\n",
              "      <td>59.0</td>\n",
              "      <td>308.0</td>\n",
              "      <td>229.0</td>\n",
              "      <td>330.0</td>\n",
              "      <td>3</td>\n",
              "    </tr>\n",
              "    <tr>\n",
              "      <th>1</th>\n",
              "      <td>O9TURWL</td>\n",
              "      <td>120.0</td>\n",
              "      <td>288.0</td>\n",
              "      <td>84.0</td>\n",
              "      <td>462.0</td>\n",
              "      <td>2108.0</td>\n",
              "      <td>306.0</td>\n",
              "      <td>58.0</td>\n",
              "      <td>61.0</td>\n",
              "      <td>243.0</td>\n",
              "      <td>295.0</td>\n",
              "      <td>280.0</td>\n",
              "      <td>2</td>\n",
              "    </tr>\n",
              "    <tr>\n",
              "      <th>2</th>\n",
              "      <td>35AFSDD</td>\n",
              "      <td>120.0</td>\n",
              "      <td>263.0</td>\n",
              "      <td>102.0</td>\n",
              "      <td>495.0</td>\n",
              "      <td>1991.0</td>\n",
              "      <td>288.0</td>\n",
              "      <td>58.0</td>\n",
              "      <td>60.0</td>\n",
              "      <td>271.0</td>\n",
              "      <td>234.0</td>\n",
              "      <td>284.0</td>\n",
              "      <td>3</td>\n",
              "    </tr>\n",
              "    <tr>\n",
              "      <th>3</th>\n",
              "      <td>PM05EG9</td>\n",
              "      <td>122.0</td>\n",
              "      <td>206.0</td>\n",
              "      <td>66.0</td>\n",
              "      <td>431.0</td>\n",
              "      <td>2432.0</td>\n",
              "      <td>337.0</td>\n",
              "      <td>65.0</td>\n",
              "      <td>57.0</td>\n",
              "      <td>332.0</td>\n",
              "      <td>237.0</td>\n",
              "      <td>335.0</td>\n",
              "      <td>2</td>\n",
              "    </tr>\n",
              "    <tr>\n",
              "      <th>4</th>\n",
              "      <td>V7PZBCG</td>\n",
              "      <td>124.0</td>\n",
              "      <td>167.0</td>\n",
              "      <td>116.0</td>\n",
              "      <td>439.0</td>\n",
              "      <td>566.0</td>\n",
              "      <td>302.0</td>\n",
              "      <td>53.0</td>\n",
              "      <td>56.0</td>\n",
              "      <td>326.0</td>\n",
              "      <td>235.0</td>\n",
              "      <td>187.0</td>\n",
              "      <td>2</td>\n",
              "    </tr>\n",
              "  </tbody>\n",
              "</table>\n",
              "</div>"
            ],
            "text/plain": [
              "  Field_ID  soil_bdod_5-15cm_mean  ...  soil_soc_5-15cm_mean  Quality\n",
              "0  MH2O0YH                  118.0  ...                 330.0        3\n",
              "1  O9TURWL                  120.0  ...                 280.0        2\n",
              "2  35AFSDD                  120.0  ...                 284.0        3\n",
              "3  PM05EG9                  122.0  ...                 335.0        2\n",
              "4  V7PZBCG                  124.0  ...                 187.0        2\n",
              "\n",
              "[5 rows x 13 columns]"
            ]
          },
          "metadata": {
            "tags": []
          },
          "execution_count": 28
        }
      ]
    },
    {
      "cell_type": "code",
      "metadata": {
        "id": "ASJuu7fbj4Pa"
      },
      "source": [
        "soil.to_csv('/content/drive/My Drive/yield-estimate/Soil.csv',index=False)"
      ],
      "execution_count": null,
      "outputs": []
    },
    {
      "cell_type": "code",
      "metadata": {
        "colab": {
          "base_uri": "https://localhost:8080/"
        },
        "id": "i0zu0fhSQkcd",
        "outputId": "13ca7392-3d69-4190-d4b9-1979ffd66e95"
      },
      "source": [
        "data.drop(['Yield'],axis=1,inplace=True)\r\n",
        "data.shape"
      ],
      "execution_count": null,
      "outputs": [
        {
          "output_type": "execute_result",
          "data": {
            "text/plain": [
              "(2977, 4)"
            ]
          },
          "metadata": {
            "tags": []
          },
          "execution_count": 33
        }
      ]
    },
    {
      "cell_type": "code",
      "metadata": {
        "colab": {
          "base_uri": "https://localhost:8080/",
          "height": 204
        },
        "id": "moAo9r59RHAp",
        "outputId": "ce1c7f49-8df4-4eb4-8f23-ca74ec15480a"
      },
      "source": [
        "data = pd.concat([data,test]).reset_index(drop=True)\r\n",
        "data.head()"
      ],
      "execution_count": null,
      "outputs": [
        {
          "output_type": "execute_result",
          "data": {
            "text/html": [
              "<div>\n",
              "<style scoped>\n",
              "    .dataframe tbody tr th:only-of-type {\n",
              "        vertical-align: middle;\n",
              "    }\n",
              "\n",
              "    .dataframe tbody tr th {\n",
              "        vertical-align: top;\n",
              "    }\n",
              "\n",
              "    .dataframe thead th {\n",
              "        text-align: right;\n",
              "    }\n",
              "</style>\n",
              "<table border=\"1\" class=\"dataframe\">\n",
              "  <thead>\n",
              "    <tr style=\"text-align: right;\">\n",
              "      <th></th>\n",
              "      <th>Field_ID</th>\n",
              "      <th>Year</th>\n",
              "      <th>Quality</th>\n",
              "      <th>train</th>\n",
              "    </tr>\n",
              "  </thead>\n",
              "  <tbody>\n",
              "    <tr>\n",
              "      <th>0</th>\n",
              "      <td>MH2O0YH</td>\n",
              "      <td>2019</td>\n",
              "      <td>3</td>\n",
              "      <td>1</td>\n",
              "    </tr>\n",
              "    <tr>\n",
              "      <th>1</th>\n",
              "      <td>O9TURWL</td>\n",
              "      <td>2019</td>\n",
              "      <td>2</td>\n",
              "      <td>1</td>\n",
              "    </tr>\n",
              "    <tr>\n",
              "      <th>2</th>\n",
              "      <td>35AFSDD</td>\n",
              "      <td>2019</td>\n",
              "      <td>3</td>\n",
              "      <td>1</td>\n",
              "    </tr>\n",
              "    <tr>\n",
              "      <th>3</th>\n",
              "      <td>PM05EG9</td>\n",
              "      <td>2019</td>\n",
              "      <td>2</td>\n",
              "      <td>1</td>\n",
              "    </tr>\n",
              "    <tr>\n",
              "      <th>4</th>\n",
              "      <td>V7PZBCG</td>\n",
              "      <td>2019</td>\n",
              "      <td>2</td>\n",
              "      <td>1</td>\n",
              "    </tr>\n",
              "  </tbody>\n",
              "</table>\n",
              "</div>"
            ],
            "text/plain": [
              "  Field_ID  Year  Quality  train\n",
              "0  MH2O0YH  2019        3      1\n",
              "1  O9TURWL  2019        2      1\n",
              "2  35AFSDD  2019        3      1\n",
              "3  PM05EG9  2019        2      1\n",
              "4  V7PZBCG  2019        2      1"
            ]
          },
          "metadata": {
            "tags": []
          },
          "execution_count": 34
        }
      ]
    },
    {
      "cell_type": "code",
      "metadata": {
        "id": "7p25GPaBMBZ3"
      },
      "source": [
        "climate=pd.DataFrame()\r\n",
        "climate['Field_ID'] = addl_data['Field_ID']\r\n",
        "climate['Year'] = data['Year']\r\n",
        "climate['Quality'] = data['Quality']"
      ],
      "execution_count": null,
      "outputs": []
    },
    {
      "cell_type": "code",
      "metadata": {
        "colab": {
          "base_uri": "https://localhost:8080/",
          "height": 302,
          "referenced_widgets": [
            "14a162db65ca41db9a0fc888c1be243b",
            "505d8667d687418fa777807d7cb8b308",
            "357caaaafdcb4f3dbdea68e5295f9660",
            "fbec0a6a5b4d4ed7831bf5c04e0e2dd6",
            "3ec3fca408694bbf9ec446230fa3511e",
            "a08fe31e51a64e92aaec27e62e85ef67",
            "45685693451c4f74b95cba0ce915f01f",
            "058e7821e2e544f88ff8604206e33583"
          ]
        },
        "id": "2KjyKRVQL5eG",
        "outputId": "12c35f71-9223-4647-8e05-1137406d02c5"
      },
      "source": [
        "cols = addl_data.columns[12:]\r\n",
        "cols = list(cols[:168])\r\n",
        "fea = []\r\n",
        "for col in cols:\r\n",
        "  fea.append(re.sub(\"_\\d+_\", \"\",col))\r\n",
        "\r\n",
        "for idx in tqdm(range(len(climate))):\r\n",
        "  year = climate.loc[idx,'Year']\r\n",
        "  field = climate.loc[idx,'Field_ID']\r\n",
        "  if (year == 2016):\r\n",
        "    col = list(range(12,180))\r\n",
        "  elif (year == 2017):\r\n",
        "    col = list(range(180,348))\r\n",
        "  elif (year == 2018):\r\n",
        "    col = list(range(348,516))\r\n",
        "  else:\r\n",
        "   col = list(range(516,684))\r\n",
        "\r\n",
        "  climate.loc[idx,fea] = addl_data.iloc[idx,col].values\r\n",
        "  \r\n",
        "climate.head()"
      ],
      "execution_count": null,
      "outputs": [
        {
          "output_type": "display_data",
          "data": {
            "application/vnd.jupyter.widget-view+json": {
              "model_id": "14a162db65ca41db9a0fc888c1be243b",
              "version_minor": 0,
              "version_major": 2
            },
            "text/plain": [
              "HBox(children=(FloatProgress(value=0.0, max=4032.0), HTML(value='')))"
            ]
          },
          "metadata": {
            "tags": []
          }
        },
        {
          "output_type": "stream",
          "text": [
            "\n"
          ],
          "name": "stdout"
        },
        {
          "output_type": "execute_result",
          "data": {
            "text/html": [
              "<div>\n",
              "<style scoped>\n",
              "    .dataframe tbody tr th:only-of-type {\n",
              "        vertical-align: middle;\n",
              "    }\n",
              "\n",
              "    .dataframe tbody tr th {\n",
              "        vertical-align: top;\n",
              "    }\n",
              "\n",
              "    .dataframe thead th {\n",
              "        text-align: right;\n",
              "    }\n",
              "</style>\n",
              "<table border=\"1\" class=\"dataframe\">\n",
              "  <thead>\n",
              "    <tr style=\"text-align: right;\">\n",
              "      <th></th>\n",
              "      <th>Field_ID</th>\n",
              "      <th>Year</th>\n",
              "      <th>Quality</th>\n",
              "      <th>climate1_aet</th>\n",
              "      <th>climate1_def</th>\n",
              "      <th>climate1_pdsi</th>\n",
              "      <th>climate1_pet</th>\n",
              "      <th>climate1_pr</th>\n",
              "      <th>climate1_ro</th>\n",
              "      <th>climate1_soil</th>\n",
              "      <th>climate1_srad</th>\n",
              "      <th>climate1_swe</th>\n",
              "      <th>climate1_tmmn</th>\n",
              "      <th>climate1_tmmx</th>\n",
              "      <th>climate1_vap</th>\n",
              "      <th>climate1_vpd</th>\n",
              "      <th>climate1_vs</th>\n",
              "      <th>climate2_aet</th>\n",
              "      <th>climate2_def</th>\n",
              "      <th>climate2_pdsi</th>\n",
              "      <th>climate2_pet</th>\n",
              "      <th>climate2_pr</th>\n",
              "      <th>climate2_ro</th>\n",
              "      <th>climate2_soil</th>\n",
              "      <th>climate2_srad</th>\n",
              "      <th>climate2_swe</th>\n",
              "      <th>climate2_tmmn</th>\n",
              "      <th>climate2_tmmx</th>\n",
              "      <th>climate2_vap</th>\n",
              "      <th>climate2_vpd</th>\n",
              "      <th>climate2_vs</th>\n",
              "      <th>climate3_aet</th>\n",
              "      <th>climate3_def</th>\n",
              "      <th>climate3_pdsi</th>\n",
              "      <th>climate3_pet</th>\n",
              "      <th>climate3_pr</th>\n",
              "      <th>climate3_ro</th>\n",
              "      <th>climate3_soil</th>\n",
              "      <th>climate3_srad</th>\n",
              "      <th>climate3_swe</th>\n",
              "      <th>...</th>\n",
              "      <th>climate10_pdsi</th>\n",
              "      <th>climate10_pet</th>\n",
              "      <th>climate10_pr</th>\n",
              "      <th>climate10_ro</th>\n",
              "      <th>climate10_soil</th>\n",
              "      <th>climate10_srad</th>\n",
              "      <th>climate10_swe</th>\n",
              "      <th>climate10_tmmn</th>\n",
              "      <th>climate10_tmmx</th>\n",
              "      <th>climate10_vap</th>\n",
              "      <th>climate10_vpd</th>\n",
              "      <th>climate10_vs</th>\n",
              "      <th>climate11_aet</th>\n",
              "      <th>climate11_def</th>\n",
              "      <th>climate11_pdsi</th>\n",
              "      <th>climate11_pet</th>\n",
              "      <th>climate11_pr</th>\n",
              "      <th>climate11_ro</th>\n",
              "      <th>climate11_soil</th>\n",
              "      <th>climate11_srad</th>\n",
              "      <th>climate11_swe</th>\n",
              "      <th>climate11_tmmn</th>\n",
              "      <th>climate11_tmmx</th>\n",
              "      <th>climate11_vap</th>\n",
              "      <th>climate11_vpd</th>\n",
              "      <th>climate11_vs</th>\n",
              "      <th>climate12_aet</th>\n",
              "      <th>climate12_def</th>\n",
              "      <th>climate12_pdsi</th>\n",
              "      <th>climate12_pet</th>\n",
              "      <th>climate12_pr</th>\n",
              "      <th>climate12_ro</th>\n",
              "      <th>climate12_soil</th>\n",
              "      <th>climate12_srad</th>\n",
              "      <th>climate12_swe</th>\n",
              "      <th>climate12_tmmn</th>\n",
              "      <th>climate12_tmmx</th>\n",
              "      <th>climate12_vap</th>\n",
              "      <th>climate12_vpd</th>\n",
              "      <th>climate12_vs</th>\n",
              "    </tr>\n",
              "  </thead>\n",
              "  <tbody>\n",
              "    <tr>\n",
              "      <th>0</th>\n",
              "      <td>MH2O0YH</td>\n",
              "      <td>2019</td>\n",
              "      <td>3</td>\n",
              "      <td>119.0</td>\n",
              "      <td>1405.0</td>\n",
              "      <td>370.0</td>\n",
              "      <td>1524.0</td>\n",
              "      <td>4.0</td>\n",
              "      <td>0.0</td>\n",
              "      <td>287.0</td>\n",
              "      <td>2543.0</td>\n",
              "      <td>0.0</td>\n",
              "      <td>112.0</td>\n",
              "      <td>285.0</td>\n",
              "      <td>1246.0</td>\n",
              "      <td>138.0</td>\n",
              "      <td>260.0</td>\n",
              "      <td>122.0</td>\n",
              "      <td>1367.0</td>\n",
              "      <td>260.0</td>\n",
              "      <td>1489.0</td>\n",
              "      <td>7.0</td>\n",
              "      <td>0.0</td>\n",
              "      <td>236.0</td>\n",
              "      <td>2609.0</td>\n",
              "      <td>0.0</td>\n",
              "      <td>116.0</td>\n",
              "      <td>297.0</td>\n",
              "      <td>1166.0</td>\n",
              "      <td>161.0</td>\n",
              "      <td>260.0</td>\n",
              "      <td>170.0</td>\n",
              "      <td>1464.0</td>\n",
              "      <td>120.0</td>\n",
              "      <td>1634.0</td>\n",
              "      <td>14.0</td>\n",
              "      <td>1.0</td>\n",
              "      <td>200.0</td>\n",
              "      <td>2585.0</td>\n",
              "      <td>0.0</td>\n",
              "      <td>...</td>\n",
              "      <td>-600.0</td>\n",
              "      <td>1191.0</td>\n",
              "      <td>96.0</td>\n",
              "      <td>5.0</td>\n",
              "      <td>99.0</td>\n",
              "      <td>2057.0</td>\n",
              "      <td>0.0</td>\n",
              "      <td>109.0</td>\n",
              "      <td>269.0</td>\n",
              "      <td>1637.0</td>\n",
              "      <td>80.0</td>\n",
              "      <td>250.0</td>\n",
              "      <td>791.0</td>\n",
              "      <td>357.0</td>\n",
              "      <td>-570.0</td>\n",
              "      <td>1148.0</td>\n",
              "      <td>83.0</td>\n",
              "      <td>4.0</td>\n",
              "      <td>93.0</td>\n",
              "      <td>2029.0</td>\n",
              "      <td>0.0</td>\n",
              "      <td>112.0</td>\n",
              "      <td>271.0</td>\n",
              "      <td>1615.0</td>\n",
              "      <td>85.0</td>\n",
              "      <td>240.0</td>\n",
              "      <td>1067.0</td>\n",
              "      <td>0.0</td>\n",
              "      <td>-400.0</td>\n",
              "      <td>1067.0</td>\n",
              "      <td>125.0</td>\n",
              "      <td>6.0</td>\n",
              "      <td>215.0</td>\n",
              "      <td>1880.0</td>\n",
              "      <td>0.0</td>\n",
              "      <td>100.0</td>\n",
              "      <td>267.0</td>\n",
              "      <td>1680.0</td>\n",
              "      <td>69.0</td>\n",
              "      <td>210.0</td>\n",
              "    </tr>\n",
              "    <tr>\n",
              "      <th>1</th>\n",
              "      <td>O9TURWL</td>\n",
              "      <td>2019</td>\n",
              "      <td>2</td>\n",
              "      <td>115.0</td>\n",
              "      <td>1376.0</td>\n",
              "      <td>410.0</td>\n",
              "      <td>1491.0</td>\n",
              "      <td>4.0</td>\n",
              "      <td>0.0</td>\n",
              "      <td>287.0</td>\n",
              "      <td>2581.0</td>\n",
              "      <td>0.0</td>\n",
              "      <td>108.0</td>\n",
              "      <td>288.0</td>\n",
              "      <td>1260.0</td>\n",
              "      <td>138.0</td>\n",
              "      <td>220.0</td>\n",
              "      <td>119.0</td>\n",
              "      <td>1362.0</td>\n",
              "      <td>290.0</td>\n",
              "      <td>1481.0</td>\n",
              "      <td>7.0</td>\n",
              "      <td>0.0</td>\n",
              "      <td>237.0</td>\n",
              "      <td>2639.0</td>\n",
              "      <td>0.0</td>\n",
              "      <td>118.0</td>\n",
              "      <td>305.0</td>\n",
              "      <td>1157.0</td>\n",
              "      <td>173.0</td>\n",
              "      <td>230.0</td>\n",
              "      <td>178.0</td>\n",
              "      <td>1518.0</td>\n",
              "      <td>160.0</td>\n",
              "      <td>1696.0</td>\n",
              "      <td>15.0</td>\n",
              "      <td>1.0</td>\n",
              "      <td>203.0</td>\n",
              "      <td>2652.0</td>\n",
              "      <td>0.0</td>\n",
              "      <td>...</td>\n",
              "      <td>-580.0</td>\n",
              "      <td>1228.0</td>\n",
              "      <td>79.0</td>\n",
              "      <td>4.0</td>\n",
              "      <td>102.0</td>\n",
              "      <td>2095.0</td>\n",
              "      <td>0.0</td>\n",
              "      <td>109.0</td>\n",
              "      <td>279.0</td>\n",
              "      <td>1640.0</td>\n",
              "      <td>90.0</td>\n",
              "      <td>230.0</td>\n",
              "      <td>743.0</td>\n",
              "      <td>413.0</td>\n",
              "      <td>-540.0</td>\n",
              "      <td>1156.0</td>\n",
              "      <td>78.0</td>\n",
              "      <td>4.0</td>\n",
              "      <td>96.0</td>\n",
              "      <td>2050.0</td>\n",
              "      <td>0.0</td>\n",
              "      <td>111.0</td>\n",
              "      <td>280.0</td>\n",
              "      <td>1628.0</td>\n",
              "      <td>93.0</td>\n",
              "      <td>200.0</td>\n",
              "      <td>1078.0</td>\n",
              "      <td>0.0</td>\n",
              "      <td>-360.0</td>\n",
              "      <td>1078.0</td>\n",
              "      <td>126.0</td>\n",
              "      <td>6.0</td>\n",
              "      <td>215.0</td>\n",
              "      <td>1883.0</td>\n",
              "      <td>0.0</td>\n",
              "      <td>99.0</td>\n",
              "      <td>273.0</td>\n",
              "      <td>1682.0</td>\n",
              "      <td>75.0</td>\n",
              "      <td>190.0</td>\n",
              "    </tr>\n",
              "    <tr>\n",
              "      <th>2</th>\n",
              "      <td>35AFSDD</td>\n",
              "      <td>2019</td>\n",
              "      <td>3</td>\n",
              "      <td>111.0</td>\n",
              "      <td>1401.0</td>\n",
              "      <td>410.0</td>\n",
              "      <td>1512.0</td>\n",
              "      <td>4.0</td>\n",
              "      <td>0.0</td>\n",
              "      <td>278.0</td>\n",
              "      <td>2571.0</td>\n",
              "      <td>0.0</td>\n",
              "      <td>109.0</td>\n",
              "      <td>288.0</td>\n",
              "      <td>1276.0</td>\n",
              "      <td>137.0</td>\n",
              "      <td>240.0</td>\n",
              "      <td>112.0</td>\n",
              "      <td>1384.0</td>\n",
              "      <td>290.0</td>\n",
              "      <td>1496.0</td>\n",
              "      <td>7.0</td>\n",
              "      <td>0.0</td>\n",
              "      <td>230.0</td>\n",
              "      <td>2629.0</td>\n",
              "      <td>0.0</td>\n",
              "      <td>119.0</td>\n",
              "      <td>306.0</td>\n",
              "      <td>1165.0</td>\n",
              "      <td>174.0</td>\n",
              "      <td>240.0</td>\n",
              "      <td>173.0</td>\n",
              "      <td>1548.0</td>\n",
              "      <td>160.0</td>\n",
              "      <td>1721.0</td>\n",
              "      <td>15.0</td>\n",
              "      <td>1.0</td>\n",
              "      <td>197.0</td>\n",
              "      <td>2632.0</td>\n",
              "      <td>0.0</td>\n",
              "      <td>...</td>\n",
              "      <td>-600.0</td>\n",
              "      <td>1240.0</td>\n",
              "      <td>73.0</td>\n",
              "      <td>4.0</td>\n",
              "      <td>100.0</td>\n",
              "      <td>2095.0</td>\n",
              "      <td>0.0</td>\n",
              "      <td>110.0</td>\n",
              "      <td>280.0</td>\n",
              "      <td>1644.0</td>\n",
              "      <td>91.0</td>\n",
              "      <td>240.0</td>\n",
              "      <td>718.0</td>\n",
              "      <td>435.0</td>\n",
              "      <td>-560.0</td>\n",
              "      <td>1153.0</td>\n",
              "      <td>75.0</td>\n",
              "      <td>4.0</td>\n",
              "      <td>93.0</td>\n",
              "      <td>2041.0</td>\n",
              "      <td>0.0</td>\n",
              "      <td>112.0</td>\n",
              "      <td>280.0</td>\n",
              "      <td>1637.0</td>\n",
              "      <td>93.0</td>\n",
              "      <td>200.0</td>\n",
              "      <td>1084.0</td>\n",
              "      <td>0.0</td>\n",
              "      <td>-360.0</td>\n",
              "      <td>1084.0</td>\n",
              "      <td>135.0</td>\n",
              "      <td>7.0</td>\n",
              "      <td>289.0</td>\n",
              "      <td>1875.0</td>\n",
              "      <td>0.0</td>\n",
              "      <td>100.0</td>\n",
              "      <td>274.0</td>\n",
              "      <td>1690.0</td>\n",
              "      <td>76.0</td>\n",
              "      <td>200.0</td>\n",
              "    </tr>\n",
              "    <tr>\n",
              "      <th>3</th>\n",
              "      <td>PM05EG9</td>\n",
              "      <td>2019</td>\n",
              "      <td>2</td>\n",
              "      <td>123.0</td>\n",
              "      <td>1378.0</td>\n",
              "      <td>370.0</td>\n",
              "      <td>1501.0</td>\n",
              "      <td>3.0</td>\n",
              "      <td>0.0</td>\n",
              "      <td>299.0</td>\n",
              "      <td>2550.0</td>\n",
              "      <td>0.0</td>\n",
              "      <td>110.0</td>\n",
              "      <td>282.0</td>\n",
              "      <td>1236.0</td>\n",
              "      <td>134.0</td>\n",
              "      <td>250.0</td>\n",
              "      <td>128.0</td>\n",
              "      <td>1325.0</td>\n",
              "      <td>250.0</td>\n",
              "      <td>1453.0</td>\n",
              "      <td>8.0</td>\n",
              "      <td>0.0</td>\n",
              "      <td>244.0</td>\n",
              "      <td>2612.0</td>\n",
              "      <td>0.0</td>\n",
              "      <td>115.0</td>\n",
              "      <td>295.0</td>\n",
              "      <td>1171.0</td>\n",
              "      <td>158.0</td>\n",
              "      <td>240.0</td>\n",
              "      <td>169.0</td>\n",
              "      <td>1475.0</td>\n",
              "      <td>120.0</td>\n",
              "      <td>1644.0</td>\n",
              "      <td>14.0</td>\n",
              "      <td>1.0</td>\n",
              "      <td>207.0</td>\n",
              "      <td>2592.0</td>\n",
              "      <td>0.0</td>\n",
              "      <td>...</td>\n",
              "      <td>-580.0</td>\n",
              "      <td>1161.0</td>\n",
              "      <td>106.0</td>\n",
              "      <td>5.0</td>\n",
              "      <td>102.0</td>\n",
              "      <td>2062.0</td>\n",
              "      <td>0.0</td>\n",
              "      <td>108.0</td>\n",
              "      <td>264.0</td>\n",
              "      <td>1648.0</td>\n",
              "      <td>73.0</td>\n",
              "      <td>240.0</td>\n",
              "      <td>826.0</td>\n",
              "      <td>297.0</td>\n",
              "      <td>-550.0</td>\n",
              "      <td>1123.0</td>\n",
              "      <td>86.0</td>\n",
              "      <td>4.0</td>\n",
              "      <td>95.0</td>\n",
              "      <td>2041.0</td>\n",
              "      <td>0.0</td>\n",
              "      <td>110.0</td>\n",
              "      <td>268.0</td>\n",
              "      <td>1619.0</td>\n",
              "      <td>81.0</td>\n",
              "      <td>220.0</td>\n",
              "      <td>1053.0</td>\n",
              "      <td>0.0</td>\n",
              "      <td>-390.0</td>\n",
              "      <td>1053.0</td>\n",
              "      <td>121.0</td>\n",
              "      <td>6.0</td>\n",
              "      <td>189.0</td>\n",
              "      <td>1898.0</td>\n",
              "      <td>0.0</td>\n",
              "      <td>98.0</td>\n",
              "      <td>263.0</td>\n",
              "      <td>1688.0</td>\n",
              "      <td>64.0</td>\n",
              "      <td>210.0</td>\n",
              "    </tr>\n",
              "    <tr>\n",
              "      <th>4</th>\n",
              "      <td>V7PZBCG</td>\n",
              "      <td>2019</td>\n",
              "      <td>2</td>\n",
              "      <td>643.0</td>\n",
              "      <td>988.0</td>\n",
              "      <td>270.0</td>\n",
              "      <td>1631.0</td>\n",
              "      <td>20.0</td>\n",
              "      <td>1.0</td>\n",
              "      <td>427.0</td>\n",
              "      <td>2438.0</td>\n",
              "      <td>0.0</td>\n",
              "      <td>161.0</td>\n",
              "      <td>320.0</td>\n",
              "      <td>1575.0</td>\n",
              "      <td>173.0</td>\n",
              "      <td>270.0</td>\n",
              "      <td>294.0</td>\n",
              "      <td>1370.0</td>\n",
              "      <td>140.0</td>\n",
              "      <td>1664.0</td>\n",
              "      <td>18.0</td>\n",
              "      <td>1.0</td>\n",
              "      <td>300.0</td>\n",
              "      <td>2576.0</td>\n",
              "      <td>0.0</td>\n",
              "      <td>174.0</td>\n",
              "      <td>332.0</td>\n",
              "      <td>1478.0</td>\n",
              "      <td>208.0</td>\n",
              "      <td>290.0</td>\n",
              "      <td>395.0</td>\n",
              "      <td>1409.0</td>\n",
              "      <td>-280.0</td>\n",
              "      <td>1804.0</td>\n",
              "      <td>35.0</td>\n",
              "      <td>2.0</td>\n",
              "      <td>234.0</td>\n",
              "      <td>2641.0</td>\n",
              "      <td>0.0</td>\n",
              "      <td>...</td>\n",
              "      <td>-590.0</td>\n",
              "      <td>1250.0</td>\n",
              "      <td>237.0</td>\n",
              "      <td>12.0</td>\n",
              "      <td>1179.0</td>\n",
              "      <td>2057.0</td>\n",
              "      <td>0.0</td>\n",
              "      <td>150.0</td>\n",
              "      <td>292.0</td>\n",
              "      <td>1998.0</td>\n",
              "      <td>89.0</td>\n",
              "      <td>240.0</td>\n",
              "      <td>1213.0</td>\n",
              "      <td>34.0</td>\n",
              "      <td>-550.0</td>\n",
              "      <td>1247.0</td>\n",
              "      <td>122.0</td>\n",
              "      <td>6.0</td>\n",
              "      <td>1123.0</td>\n",
              "      <td>2106.0</td>\n",
              "      <td>0.0</td>\n",
              "      <td>152.0</td>\n",
              "      <td>296.0</td>\n",
              "      <td>1960.0</td>\n",
              "      <td>99.0</td>\n",
              "      <td>250.0</td>\n",
              "      <td>1199.0</td>\n",
              "      <td>0.0</td>\n",
              "      <td>-380.0</td>\n",
              "      <td>1199.0</td>\n",
              "      <td>194.0</td>\n",
              "      <td>66.0</td>\n",
              "      <td>1214.0</td>\n",
              "      <td>1930.0</td>\n",
              "      <td>0.0</td>\n",
              "      <td>143.0</td>\n",
              "      <td>291.0</td>\n",
              "      <td>1972.0</td>\n",
              "      <td>87.0</td>\n",
              "      <td>270.0</td>\n",
              "    </tr>\n",
              "  </tbody>\n",
              "</table>\n",
              "<p>5 rows × 171 columns</p>\n",
              "</div>"
            ],
            "text/plain": [
              "  Field_ID  Year  Quality  ...  climate12_vap  climate12_vpd  climate12_vs\n",
              "0  MH2O0YH  2019        3  ...         1680.0           69.0         210.0\n",
              "1  O9TURWL  2019        2  ...         1682.0           75.0         190.0\n",
              "2  35AFSDD  2019        3  ...         1690.0           76.0         200.0\n",
              "3  PM05EG9  2019        2  ...         1688.0           64.0         210.0\n",
              "4  V7PZBCG  2019        2  ...         1972.0           87.0         270.0\n",
              "\n",
              "[5 rows x 171 columns]"
            ]
          },
          "metadata": {
            "tags": []
          },
          "execution_count": 36
        }
      ]
    },
    {
      "cell_type": "code",
      "metadata": {
        "id": "gFDi4D2IZ-nV"
      },
      "source": [
        "climate.to_csv('/content/drive/My Drive/yield-estimate/Climate.csv',index=False)"
      ],
      "execution_count": null,
      "outputs": []
    },
    {
      "cell_type": "code",
      "metadata": {
        "colab": {
          "base_uri": "https://localhost:8080/"
        },
        "id": "JPCCI4bBkrgJ",
        "outputId": "96d3fa4d-f00f-4df1-da5a-f662ac8bf22c"
      },
      "source": [
        "climate.iloc[:,3:].values.reshape(4032,12,14)[:,0,:]"
      ],
      "execution_count": null,
      "outputs": [
        {
          "output_type": "execute_result",
          "data": {
            "text/plain": [
              "array([[ 119., 1405.,  370., ..., 1246.,  138.,  260.],\n",
              "       [ 115., 1376.,  410., ..., 1260.,  138.,  220.],\n",
              "       [ 111., 1401.,  410., ..., 1276.,  137.,  240.],\n",
              "       ...,\n",
              "       [1043.,  265.,  432., ..., 1931.,  105.,  289.],\n",
              "       [1131.,  187.,  404., ..., 1850.,  111.,  273.],\n",
              "       [1121.,  205.,  409., ..., 1851.,  111.,  277.]])"
            ]
          },
          "metadata": {
            "tags": []
          },
          "execution_count": 39
        }
      ]
    },
    {
      "cell_type": "markdown",
      "metadata": {
        "id": "oIuaStQTL7xm"
      },
      "source": [
        "# Creating folds"
      ]
    },
    {
      "cell_type": "code",
      "metadata": {
        "id": "UiKFtQTTL7FW"
      },
      "source": [
        "from sklearn.model_selection import train_test_split,KFold\r\n",
        "kf = KFold(n_splits=5,shuffle=True,random_state=2020)\r\n",
        "fold_df = train.copy(deep=True)\r\n",
        "crop_yield = np.zeros(shape=(1055,1))\r\n",
        "for fold,(train_index, test_index) in enumerate(kf.split(train.Field_ID.values,train.Yield.values)):\r\n",
        "  fold_df.loc[test_index,f'fold'] = fold+1\r\n",
        "\r\n",
        "fold_df.head()"
      ],
      "execution_count": null,
      "outputs": []
    },
    {
      "cell_type": "code",
      "metadata": {
        "id": "ueUpnduWMDSS"
      },
      "source": [
        "fold_df.to_csv('/content/drive/My Drive/yield-estimate/folds.csv',index=False)"
      ],
      "execution_count": null,
      "outputs": []
    },
    {
      "cell_type": "markdown",
      "metadata": {
        "id": "Dcn5sM8-Rm3m"
      },
      "source": [
        "# Data reading section"
      ]
    },
    {
      "cell_type": "code",
      "metadata": {
        "id": "yd3v4rnrkwVS"
      },
      "source": [
        "# Copying in the zip files from Google Drive (alternately just upload them)\r\n",
        "!cp '/content/drive/My Drive/yield-estimate/image_arrays_train.zip' .\r\n",
        "!cp '/content/drive/My Drive/yield-estimate/image_arrays_test.zip' ."
      ],
      "execution_count": null,
      "outputs": []
    },
    {
      "cell_type": "code",
      "metadata": {
        "id": "Tf_cMN8llx1y"
      },
      "source": [
        "# Extract\r\n",
        "!unzip -q image_arrays_train.zip\r\n",
        "!unzip -q image_arrays_test.zip"
      ],
      "execution_count": null,
      "outputs": []
    },
    {
      "cell_type": "code",
      "metadata": {
        "colab": {
          "base_uri": "https://localhost:8080/"
        },
        "id": "h-qiW7uquvsU",
        "outputId": "55dc72af-38f8-441d-b51b-b5149b7f2a14"
      },
      "source": [
        "!ls"
      ],
      "execution_count": null,
      "outputs": [
        {
          "output_type": "stream",
          "text": [
            "drive\t\t   image_arrays_test.zip  image_arrays_train.zip\n",
            "image_arrays_test  image_arrays_train\t  sample_data\n"
          ],
          "name": "stdout"
        }
      ]
    },
    {
      "cell_type": "code",
      "metadata": {
        "colab": {
          "base_uri": "https://localhost:8080/"
        },
        "id": "ODh5XCQBugTO",
        "outputId": "e926b9ba-0a0c-4e3d-881c-69ba9a31dcc4"
      },
      "source": [
        "train_fns = glob.glob('./image_arrays_train/*.*')\r\n",
        "test_fns = glob.glob('./image_arrays_test/*.*')\r\n",
        "print('The number of training files are:',len(train_fns),' and number of test filenames are:',len(test_fns))"
      ],
      "execution_count": null,
      "outputs": [
        {
          "output_type": "stream",
          "text": [
            "The number of training files are: 2977  and number of test filenames are: 1055\n"
          ],
          "name": "stdout"
        }
      ]
    },
    {
      "cell_type": "code",
      "metadata": {
        "colab": {
          "base_uri": "https://localhost:8080/",
          "height": 221
        },
        "id": "Jzgwp_lKofBr",
        "outputId": "8b1362cb-fb33-4f50-b9bc-9e201bf35b31"
      },
      "source": [
        "train = pd.read_csv('/content/drive/My Drive/yield-estimate/Train.csv')\r\n",
        "print(train.shape)\r\n",
        "train.head()"
      ],
      "execution_count": null,
      "outputs": [
        {
          "output_type": "stream",
          "text": [
            "(2977, 4)\n"
          ],
          "name": "stdout"
        },
        {
          "output_type": "execute_result",
          "data": {
            "text/html": [
              "<div>\n",
              "<style scoped>\n",
              "    .dataframe tbody tr th:only-of-type {\n",
              "        vertical-align: middle;\n",
              "    }\n",
              "\n",
              "    .dataframe tbody tr th {\n",
              "        vertical-align: top;\n",
              "    }\n",
              "\n",
              "    .dataframe thead th {\n",
              "        text-align: right;\n",
              "    }\n",
              "</style>\n",
              "<table border=\"1\" class=\"dataframe\">\n",
              "  <thead>\n",
              "    <tr style=\"text-align: right;\">\n",
              "      <th></th>\n",
              "      <th>Field_ID</th>\n",
              "      <th>Year</th>\n",
              "      <th>Quality</th>\n",
              "      <th>Yield</th>\n",
              "    </tr>\n",
              "  </thead>\n",
              "  <tbody>\n",
              "    <tr>\n",
              "      <th>0</th>\n",
              "      <td>MH2O0YH</td>\n",
              "      <td>2019</td>\n",
              "      <td>3</td>\n",
              "      <td>3.686</td>\n",
              "    </tr>\n",
              "    <tr>\n",
              "      <th>1</th>\n",
              "      <td>O9TURWL</td>\n",
              "      <td>2019</td>\n",
              "      <td>2</td>\n",
              "      <td>5.657</td>\n",
              "    </tr>\n",
              "    <tr>\n",
              "      <th>2</th>\n",
              "      <td>35AFSDD</td>\n",
              "      <td>2019</td>\n",
              "      <td>3</td>\n",
              "      <td>3.082</td>\n",
              "    </tr>\n",
              "    <tr>\n",
              "      <th>3</th>\n",
              "      <td>PM05EG9</td>\n",
              "      <td>2019</td>\n",
              "      <td>2</td>\n",
              "      <td>2.707</td>\n",
              "    </tr>\n",
              "    <tr>\n",
              "      <th>4</th>\n",
              "      <td>V7PZBCG</td>\n",
              "      <td>2019</td>\n",
              "      <td>2</td>\n",
              "      <td>2.679</td>\n",
              "    </tr>\n",
              "  </tbody>\n",
              "</table>\n",
              "</div>"
            ],
            "text/plain": [
              "  Field_ID  Year  Quality  Yield\n",
              "0  MH2O0YH  2019        3  3.686\n",
              "1  O9TURWL  2019        2  5.657\n",
              "2  35AFSDD  2019        3  3.082\n",
              "3  PM05EG9  2019        2  2.707\n",
              "4  V7PZBCG  2019        2  2.679"
            ]
          },
          "metadata": {
            "tags": []
          },
          "execution_count": 4
        }
      ]
    },
    {
      "cell_type": "code",
      "metadata": {
        "colab": {
          "base_uri": "https://localhost:8080/",
          "height": 221
        },
        "id": "3br4hFOSEFp0",
        "outputId": "87b4a579-c355-40fc-c730-1878bcf66984"
      },
      "source": [
        "ss = pd.read_csv('/content/drive/My Drive/yield-estimate/SampleSubmission.csv')\r\n",
        "print(ss.shape)\r\n",
        "ss.head()"
      ],
      "execution_count": null,
      "outputs": [
        {
          "output_type": "stream",
          "text": [
            "(1055, 2)\n"
          ],
          "name": "stdout"
        },
        {
          "output_type": "execute_result",
          "data": {
            "text/html": [
              "<div>\n",
              "<style scoped>\n",
              "    .dataframe tbody tr th:only-of-type {\n",
              "        vertical-align: middle;\n",
              "    }\n",
              "\n",
              "    .dataframe tbody tr th {\n",
              "        vertical-align: top;\n",
              "    }\n",
              "\n",
              "    .dataframe thead th {\n",
              "        text-align: right;\n",
              "    }\n",
              "</style>\n",
              "<table border=\"1\" class=\"dataframe\">\n",
              "  <thead>\n",
              "    <tr style=\"text-align: right;\">\n",
              "      <th></th>\n",
              "      <th>Field_ID</th>\n",
              "      <th>Yield</th>\n",
              "    </tr>\n",
              "  </thead>\n",
              "  <tbody>\n",
              "    <tr>\n",
              "      <th>0</th>\n",
              "      <td>E9UZCEA</td>\n",
              "      <td>0</td>\n",
              "    </tr>\n",
              "    <tr>\n",
              "      <th>1</th>\n",
              "      <td>1WGGS1Q</td>\n",
              "      <td>0</td>\n",
              "    </tr>\n",
              "    <tr>\n",
              "      <th>2</th>\n",
              "      <td>EG2KXE2</td>\n",
              "      <td>0</td>\n",
              "    </tr>\n",
              "    <tr>\n",
              "      <th>3</th>\n",
              "      <td>HC3GQXF</td>\n",
              "      <td>0</td>\n",
              "    </tr>\n",
              "    <tr>\n",
              "      <th>4</th>\n",
              "      <td>7AK6GFK</td>\n",
              "      <td>0</td>\n",
              "    </tr>\n",
              "  </tbody>\n",
              "</table>\n",
              "</div>"
            ],
            "text/plain": [
              "  Field_ID  Yield\n",
              "0  E9UZCEA      0\n",
              "1  1WGGS1Q      0\n",
              "2  EG2KXE2      0\n",
              "3  HC3GQXF      0\n",
              "4  7AK6GFK      0"
            ]
          },
          "metadata": {
            "tags": []
          },
          "execution_count": 5
        }
      ]
    },
    {
      "cell_type": "code",
      "metadata": {
        "colab": {
          "base_uri": "https://localhost:8080/"
        },
        "id": "IucNsX6p3W9t",
        "outputId": "1dcb0086-5619-4888-85db-bad1a0721d31"
      },
      "source": [
        "train = train.loc[(train['Quality']==3) | (train['Quality']==2),:].reset_index(drop=True)\r\n",
        "train.shape"
      ],
      "execution_count": null,
      "outputs": [
        {
          "output_type": "execute_result",
          "data": {
            "text/plain": [
              "(2552, 4)"
            ]
          },
          "metadata": {
            "tags": []
          },
          "execution_count": 6
        }
      ]
    },
    {
      "cell_type": "code",
      "metadata": {
        "colab": {
          "base_uri": "https://localhost:8080/",
          "height": 204
        },
        "id": "4cRo9CeS36x0",
        "outputId": "6a48a3ea-24b7-480a-89ab-d05f5c2a8100"
      },
      "source": [
        "train.head()"
      ],
      "execution_count": null,
      "outputs": [
        {
          "output_type": "execute_result",
          "data": {
            "text/html": [
              "<div>\n",
              "<style scoped>\n",
              "    .dataframe tbody tr th:only-of-type {\n",
              "        vertical-align: middle;\n",
              "    }\n",
              "\n",
              "    .dataframe tbody tr th {\n",
              "        vertical-align: top;\n",
              "    }\n",
              "\n",
              "    .dataframe thead th {\n",
              "        text-align: right;\n",
              "    }\n",
              "</style>\n",
              "<table border=\"1\" class=\"dataframe\">\n",
              "  <thead>\n",
              "    <tr style=\"text-align: right;\">\n",
              "      <th></th>\n",
              "      <th>Field_ID</th>\n",
              "      <th>Year</th>\n",
              "      <th>Quality</th>\n",
              "      <th>Yield</th>\n",
              "    </tr>\n",
              "  </thead>\n",
              "  <tbody>\n",
              "    <tr>\n",
              "      <th>0</th>\n",
              "      <td>MH2O0YH</td>\n",
              "      <td>2019</td>\n",
              "      <td>3</td>\n",
              "      <td>3.686</td>\n",
              "    </tr>\n",
              "    <tr>\n",
              "      <th>1</th>\n",
              "      <td>O9TURWL</td>\n",
              "      <td>2019</td>\n",
              "      <td>2</td>\n",
              "      <td>5.657</td>\n",
              "    </tr>\n",
              "    <tr>\n",
              "      <th>2</th>\n",
              "      <td>35AFSDD</td>\n",
              "      <td>2019</td>\n",
              "      <td>3</td>\n",
              "      <td>3.082</td>\n",
              "    </tr>\n",
              "    <tr>\n",
              "      <th>3</th>\n",
              "      <td>PM05EG9</td>\n",
              "      <td>2019</td>\n",
              "      <td>2</td>\n",
              "      <td>2.707</td>\n",
              "    </tr>\n",
              "    <tr>\n",
              "      <th>4</th>\n",
              "      <td>V7PZBCG</td>\n",
              "      <td>2019</td>\n",
              "      <td>2</td>\n",
              "      <td>2.679</td>\n",
              "    </tr>\n",
              "  </tbody>\n",
              "</table>\n",
              "</div>"
            ],
            "text/plain": [
              "  Field_ID  Year  Quality  Yield\n",
              "0  MH2O0YH  2019        3  3.686\n",
              "1  O9TURWL  2019        2  5.657\n",
              "2  35AFSDD  2019        3  3.082\n",
              "3  PM05EG9  2019        2  2.707\n",
              "4  V7PZBCG  2019        2  2.679"
            ]
          },
          "metadata": {
            "tags": []
          },
          "execution_count": 7
        }
      ]
    },
    {
      "cell_type": "code",
      "metadata": {
        "id": "2Z7EPRKGvAPH"
      },
      "source": [
        "def get_array(df,length,train_status):\r\n",
        "  array = []\r\n",
        "  for idx in tqdm(range(length)):\r\n",
        "    if train_status == 1:\r\n",
        "      fn = './image_arrays_train/' + df.loc[idx,'Field_ID'] + '.npy'\r\n",
        "\r\n",
        "    else:\r\n",
        "      fn = './image_arrays_test/' + df.loc[idx,'Field_ID'] + '.npy'\r\n",
        "    \r\n",
        "    img = np.load(fn)[:,:32,:32]\r\n",
        "    img = img.transpose((1,2,0))\r\n",
        "    img = img.reshape(32,32,30,-1)\r\n",
        "    img = img.transpose((3,0,1,2))\r\n",
        "    img = img/np.max(img)\r\n",
        "    img = img.astype('float16')\r\n",
        "    array.append(img)\r\n",
        "  return np.stack(array)"
      ],
      "execution_count": null,
      "outputs": []
    },
    {
      "cell_type": "code",
      "metadata": {
        "colab": {
          "base_uri": "https://localhost:8080/",
          "height": 66,
          "referenced_widgets": [
            "7a54083bfb3344aa8d15079437db501a",
            "98e83c1ee4844d9f887e1b485a1053ca",
            "922addb05eff4c62bf142e64beaae9cd",
            "b7f7286d02a24471b767abba500e393e",
            "7105a7b475fc46b68a6145cc28650181",
            "b33c62bdf730474d9bfecf2664b7add1",
            "4641eb00591649f5bd5d758bfa0a9ea5",
            "17588ca7737c45b0b53c541ad75bdc6c"
          ]
        },
        "id": "unBpc1pWE26_",
        "outputId": "7145e9fc-728d-4043-8286-59a93f83490e"
      },
      "source": [
        "X = get_array(train,len(train),1)"
      ],
      "execution_count": null,
      "outputs": [
        {
          "output_type": "display_data",
          "data": {
            "application/vnd.jupyter.widget-view+json": {
              "model_id": "7a54083bfb3344aa8d15079437db501a",
              "version_major": 2,
              "version_minor": 0
            },
            "text/plain": [
              "HBox(children=(FloatProgress(value=0.0, max=2552.0), HTML(value='')))"
            ]
          },
          "metadata": {
            "tags": []
          }
        },
        {
          "output_type": "stream",
          "text": [
            "\n"
          ],
          "name": "stdout"
        }
      ]
    },
    {
      "cell_type": "code",
      "metadata": {
        "colab": {
          "base_uri": "https://localhost:8080/"
        },
        "id": "_45Q1FitJhu2",
        "outputId": "f5196259-5337-415f-e525-0272cd183bcc"
      },
      "source": [
        "X.shape"
      ],
      "execution_count": null,
      "outputs": [
        {
          "output_type": "execute_result",
          "data": {
            "text/plain": [
              "(2552, 12, 32, 32, 30)"
            ]
          },
          "metadata": {
            "tags": []
          },
          "execution_count": 32
        }
      ]
    },
    {
      "cell_type": "code",
      "metadata": {
        "id": "44y1FCMzGutj"
      },
      "source": [
        "np.save('/content/drive/My Drive/yield-estimate/train',X)"
      ],
      "execution_count": null,
      "outputs": []
    },
    {
      "cell_type": "code",
      "metadata": {
        "colab": {
          "base_uri": "https://localhost:8080/",
          "height": 83,
          "referenced_widgets": [
            "a45b4e4b17fb452c82f6fde5fda82288",
            "c3319b16979b45fb9156157629cea6cd",
            "139639eda5b8422bad61609e0a033dcb",
            "fe7169638f8a4099b599d86dd1a69810",
            "3c38fa103ebd4c2d9e228d56e904830e",
            "3713ce1ecc4e43aeb62b5b6692e41aa0",
            "7fb26f42636f466cb0ca3266f2bc8188",
            "b3494c685aa948e191097e77419e5a7e"
          ]
        },
        "id": "8GNKVPcQR-cj",
        "outputId": "a478ec5e-a7e1-449b-e6a1-3c3db9f2d322"
      },
      "source": [
        "test = get_array(ss,len(ss),0)\r\n",
        "print(test.shape)\r\n",
        "np.save('/content/drive/My Drive/yield-estimate/test',test)"
      ],
      "execution_count": null,
      "outputs": [
        {
          "output_type": "display_data",
          "data": {
            "application/vnd.jupyter.widget-view+json": {
              "model_id": "a45b4e4b17fb452c82f6fde5fda82288",
              "version_major": 2,
              "version_minor": 0
            },
            "text/plain": [
              "HBox(children=(FloatProgress(value=0.0, max=1055.0), HTML(value='')))"
            ]
          },
          "metadata": {
            "tags": []
          }
        },
        {
          "output_type": "stream",
          "text": [
            "\n",
            "(1055, 12, 32, 32, 30)\n"
          ],
          "name": "stdout"
        }
      ]
    },
    {
      "cell_type": "markdown",
      "metadata": {
        "id": "6rYbuj53SLOu"
      },
      "source": [
        "# Modelling"
      ]
    },
    {
      "cell_type": "code",
      "metadata": {
        "colab": {
          "base_uri": "https://localhost:8080/"
        },
        "id": "UoHFSos4Se8h",
        "outputId": "708fa625-9629-45bb-b56e-dd6911113a7a"
      },
      "source": [
        "#train = pd.read_csv('/content/drive/My Drive/yield-estimate/Train.csv')\r\n",
        "#train = train.loc[(train['Quality']==3) | (train['Quality']==2),:].reset_index(drop=True)\r\n",
        "train = pd.read_csv('/content/drive/My Drive/yield-estimate/folds.csv')\r\n",
        "train.shape"
      ],
      "execution_count": null,
      "outputs": [
        {
          "output_type": "execute_result",
          "data": {
            "text/plain": [
              "(2552, 5)"
            ]
          },
          "metadata": {
            "tags": []
          },
          "execution_count": 4
        }
      ]
    },
    {
      "cell_type": "code",
      "metadata": {
        "colab": {
          "base_uri": "https://localhost:8080/"
        },
        "id": "GZgF4PrZS4GA",
        "outputId": "c733a255-80bb-4d83-8319-327c464feab6"
      },
      "source": [
        "ss = pd.read_csv('/content/drive/My Drive/yield-estimate/SampleSubmission.csv')\r\n",
        "print(ss.shape)"
      ],
      "execution_count": null,
      "outputs": [
        {
          "output_type": "stream",
          "text": [
            "(1055, 2)\n"
          ],
          "name": "stdout"
        }
      ]
    },
    {
      "cell_type": "code",
      "metadata": {
        "colab": {
          "base_uri": "https://localhost:8080/"
        },
        "id": "LFo_v9MMHhUx",
        "outputId": "7c4b8f4c-c6b9-49eb-a7c9-deba65f5032a"
      },
      "source": [
        "climate_df = pd.read_csv('/content/drive/My Drive/yield-estimate/Climate.csv')\r\n",
        "climate_train = climate_df.iloc[:2977]\r\n",
        "climate_train = climate_train.loc[(climate_train['Quality']==3) | (climate_train['Quality']==2),:].reset_index(drop=True)\r\n",
        "climate_train.fillna(value=0,inplace=True)\r\n",
        "climate_train.shape"
      ],
      "execution_count": null,
      "outputs": [
        {
          "output_type": "execute_result",
          "data": {
            "text/plain": [
              "(2552, 171)"
            ]
          },
          "metadata": {
            "tags": []
          },
          "execution_count": 6
        }
      ]
    },
    {
      "cell_type": "code",
      "metadata": {
        "colab": {
          "base_uri": "https://localhost:8080/"
        },
        "id": "jco2QGWtSQQn",
        "outputId": "96c4a4fe-c381-46e2-8aa6-9eaab97723b2"
      },
      "source": [
        "soil = pd.read_csv('/content/drive/My Drive/yield-estimate/Soil.csv')\r\n",
        "soil_train = soil.iloc[:2977]\r\n",
        "soil_train = soil_train.loc[(soil_train['Quality']==3) | (soil_train['Quality']==2),:].reset_index(drop=True)\r\n",
        "soil_train.fillna(value=0,inplace=True)\r\n",
        "soil_train.shape"
      ],
      "execution_count": null,
      "outputs": [
        {
          "output_type": "execute_result",
          "data": {
            "text/plain": [
              "(2552, 13)"
            ]
          },
          "metadata": {
            "tags": []
          },
          "execution_count": 7
        }
      ]
    },
    {
      "cell_type": "code",
      "metadata": {
        "colab": {
          "base_uri": "https://localhost:8080/",
          "height": 204
        },
        "id": "VVthR7y5Dq6J",
        "outputId": "aa502dd4-b420-4de0-b422-318451d8533e"
      },
      "source": [
        "test_year = pd.read_csv('/content/drive/My Drive/yield-estimate/test_field_ids_with_year.csv')\r\n",
        "test_year.head()"
      ],
      "execution_count": null,
      "outputs": [
        {
          "output_type": "execute_result",
          "data": {
            "text/html": [
              "<div>\n",
              "<style scoped>\n",
              "    .dataframe tbody tr th:only-of-type {\n",
              "        vertical-align: middle;\n",
              "    }\n",
              "\n",
              "    .dataframe tbody tr th {\n",
              "        vertical-align: top;\n",
              "    }\n",
              "\n",
              "    .dataframe thead th {\n",
              "        text-align: right;\n",
              "    }\n",
              "</style>\n",
              "<table border=\"1\" class=\"dataframe\">\n",
              "  <thead>\n",
              "    <tr style=\"text-align: right;\">\n",
              "      <th></th>\n",
              "      <th>Field_ID</th>\n",
              "      <th>Year</th>\n",
              "    </tr>\n",
              "  </thead>\n",
              "  <tbody>\n",
              "    <tr>\n",
              "      <th>0</th>\n",
              "      <td>E9UZCEA</td>\n",
              "      <td>2019</td>\n",
              "    </tr>\n",
              "    <tr>\n",
              "      <th>1</th>\n",
              "      <td>1WGGS1Q</td>\n",
              "      <td>2019</td>\n",
              "    </tr>\n",
              "    <tr>\n",
              "      <th>2</th>\n",
              "      <td>EG2KXE2</td>\n",
              "      <td>2019</td>\n",
              "    </tr>\n",
              "    <tr>\n",
              "      <th>3</th>\n",
              "      <td>HC3GQXF</td>\n",
              "      <td>2019</td>\n",
              "    </tr>\n",
              "    <tr>\n",
              "      <th>4</th>\n",
              "      <td>7AK6GFK</td>\n",
              "      <td>2019</td>\n",
              "    </tr>\n",
              "  </tbody>\n",
              "</table>\n",
              "</div>"
            ],
            "text/plain": [
              "  Field_ID  Year\n",
              "0  E9UZCEA  2019\n",
              "1  1WGGS1Q  2019\n",
              "2  EG2KXE2  2019\n",
              "3  HC3GQXF  2019\n",
              "4  7AK6GFK  2019"
            ]
          },
          "metadata": {
            "tags": []
          },
          "execution_count": 8
        }
      ]
    },
    {
      "cell_type": "code",
      "metadata": {
        "id": "O-NIuRY_ucb8"
      },
      "source": [
        "X1 = np.load('/content/drive/My Drive/yield-estimate/train.npy')"
      ],
      "execution_count": null,
      "outputs": []
    },
    {
      "cell_type": "code",
      "metadata": {
        "colab": {
          "base_uri": "https://localhost:8080/"
        },
        "id": "hSruXr6_Q2_V",
        "outputId": "1c72f567-d1c7-425c-e0a6-a4332984ccb0"
      },
      "source": [
        "X1 = X1.transpose(0,1,4,2,3)\r\n",
        "X1.shape"
      ],
      "execution_count": null,
      "outputs": [
        {
          "output_type": "execute_result",
          "data": {
            "text/plain": [
              "(2552, 12, 30, 32, 32)"
            ]
          },
          "metadata": {
            "tags": []
          },
          "execution_count": 10
        }
      ]
    },
    {
      "cell_type": "code",
      "metadata": {
        "colab": {
          "base_uri": "https://localhost:8080/"
        },
        "id": "Drihi0EKlV4Z",
        "outputId": "a17a8ec7-82ef-433b-8cd5-6aa39accde9e"
      },
      "source": [
        "X1 = X1[:,:6,:,:,:]\r\n",
        "X1.shape"
      ],
      "execution_count": null,
      "outputs": [
        {
          "output_type": "execute_result",
          "data": {
            "text/plain": [
              "(2552, 6, 30, 32, 32)"
            ]
          },
          "metadata": {
            "tags": []
          },
          "execution_count": 43
        }
      ]
    },
    {
      "cell_type": "code",
      "metadata": {
        "colab": {
          "base_uri": "https://localhost:8080/"
        },
        "id": "uSgzNnx_Q464",
        "outputId": "d24b43a1-80f3-467a-c09d-7b18eb289d5d"
      },
      "source": [
        "X2 = climate_train.iloc[:,3:].values\r\n",
        "y = train.Yield.values\r\n",
        "X2.shape,y.shape"
      ],
      "execution_count": null,
      "outputs": [
        {
          "output_type": "execute_result",
          "data": {
            "text/plain": [
              "((2552, 168), (2552,))"
            ]
          },
          "metadata": {
            "tags": []
          },
          "execution_count": 11
        }
      ]
    },
    {
      "cell_type": "code",
      "metadata": {
        "colab": {
          "base_uri": "https://localhost:8080/"
        },
        "id": "N6j_KtDCRI1W",
        "outputId": "2025431b-fa6d-440b-fe73-fa3430056ffc"
      },
      "source": [
        "scaler1 = StandardScaler()\r\n",
        "X2 = scaler1.fit_transform(X2)\r\n",
        "X2 = X2.reshape(-1,12,14)\r\n",
        "X2.shape"
      ],
      "execution_count": null,
      "outputs": [
        {
          "output_type": "execute_result",
          "data": {
            "text/plain": [
              "(2552, 12, 14)"
            ]
          },
          "metadata": {
            "tags": []
          },
          "execution_count": 12
        }
      ]
    },
    {
      "cell_type": "code",
      "metadata": {
        "colab": {
          "base_uri": "https://localhost:8080/"
        },
        "id": "_q-b4DLIUFmC",
        "outputId": "187d9232-f0b0-403b-d192-067fccca7fe5"
      },
      "source": [
        "X3 = soil_train.iloc[:,1:12].values\r\n",
        "scaler2 = StandardScaler()\r\n",
        "X3 = scaler2.fit_transform(X3)\r\n",
        "X3.shape"
      ],
      "execution_count": null,
      "outputs": [
        {
          "output_type": "execute_result",
          "data": {
            "text/plain": [
              "(2552, 11)"
            ]
          },
          "metadata": {
            "tags": []
          },
          "execution_count": 13
        }
      ]
    },
    {
      "cell_type": "code",
      "metadata": {
        "colab": {
          "base_uri": "https://localhost:8080/"
        },
        "id": "XtXg21SSEc96",
        "outputId": "d3187ebe-a5c3-4af9-c36d-97c708382970"
      },
      "source": [
        "X4 = train.Year.values\r\n",
        "le = LabelEncoder()\r\n",
        "X4 = le.fit_transform(X4)\r\n",
        "X4.shape"
      ],
      "execution_count": null,
      "outputs": [
        {
          "output_type": "execute_result",
          "data": {
            "text/plain": [
              "(2552,)"
            ]
          },
          "metadata": {
            "tags": []
          },
          "execution_count": 14
        }
      ]
    },
    {
      "cell_type": "code",
      "metadata": {
        "id": "tcMG8KYKSp6g",
        "colab": {
          "base_uri": "https://localhost:8080/"
        },
        "outputId": "813462eb-4065-4912-87a0-317168ec1d39"
      },
      "source": [
        "test1 = np.load('/content/drive/My Drive/yield-estimate/test.npy')\r\n",
        "test1.shape"
      ],
      "execution_count": null,
      "outputs": [
        {
          "output_type": "execute_result",
          "data": {
            "text/plain": [
              "(1055, 12, 32, 32, 30)"
            ]
          },
          "metadata": {
            "tags": []
          },
          "execution_count": 15
        }
      ]
    },
    {
      "cell_type": "code",
      "metadata": {
        "colab": {
          "base_uri": "https://localhost:8080/"
        },
        "id": "9CWBlyc4OEYQ",
        "outputId": "228f1cca-41c5-42d4-d046-7787bb3e2522"
      },
      "source": [
        "test1 = test1.transpose(0,1,4,2,3)\r\n",
        "dummy = np.zeros(shape=(1055,1))\r\n",
        "test1.shape,dummy.shape"
      ],
      "execution_count": null,
      "outputs": [
        {
          "output_type": "execute_result",
          "data": {
            "text/plain": [
              "((1055, 12, 30, 32, 32), (1055, 1))"
            ]
          },
          "metadata": {
            "tags": []
          },
          "execution_count": 16
        }
      ]
    },
    {
      "cell_type": "code",
      "metadata": {
        "colab": {
          "base_uri": "https://localhost:8080/"
        },
        "id": "xbKkFpDPlkND",
        "outputId": "4088fe81-dbba-4f12-86ba-c33866148381"
      },
      "source": [
        "test1 = test1[:,:6,:,:,:]\r\n",
        "test1.shape"
      ],
      "execution_count": null,
      "outputs": [
        {
          "output_type": "execute_result",
          "data": {
            "text/plain": [
              "(1055, 6, 30, 32, 32)"
            ]
          },
          "metadata": {
            "tags": []
          },
          "execution_count": 44
        }
      ]
    },
    {
      "cell_type": "code",
      "metadata": {
        "colab": {
          "base_uri": "https://localhost:8080/"
        },
        "id": "x3-6QkWWaw64",
        "outputId": "de33fda9-88c4-42b9-d39c-94dcd516db0f"
      },
      "source": [
        "climate_test = climate_df.iloc[2977:]\r\n",
        "climate_test.fillna(value=0,inplace=True)\r\n",
        "climate_test.shape"
      ],
      "execution_count": null,
      "outputs": [
        {
          "output_type": "stream",
          "text": [
            "/usr/local/lib/python3.6/dist-packages/pandas/core/frame.py:4327: SettingWithCopyWarning: \n",
            "A value is trying to be set on a copy of a slice from a DataFrame\n",
            "\n",
            "See the caveats in the documentation: https://pandas.pydata.org/pandas-docs/stable/user_guide/indexing.html#returning-a-view-versus-a-copy\n",
            "  downcast=downcast,\n"
          ],
          "name": "stderr"
        },
        {
          "output_type": "execute_result",
          "data": {
            "text/plain": [
              "(1055, 171)"
            ]
          },
          "metadata": {
            "tags": []
          },
          "execution_count": 17
        }
      ]
    },
    {
      "cell_type": "code",
      "metadata": {
        "colab": {
          "base_uri": "https://localhost:8080/"
        },
        "id": "oTsUqgKbbLkD",
        "outputId": "95cf619b-1caf-4be0-b782-e83a592ba779"
      },
      "source": [
        "soil_test = soil.iloc[2977:]\r\n",
        "soil_test.fillna(value=0,inplace=True)\r\n",
        "soil_test.shape"
      ],
      "execution_count": null,
      "outputs": [
        {
          "output_type": "stream",
          "text": [
            "/usr/local/lib/python3.6/dist-packages/pandas/core/frame.py:4327: SettingWithCopyWarning: \n",
            "A value is trying to be set on a copy of a slice from a DataFrame\n",
            "\n",
            "See the caveats in the documentation: https://pandas.pydata.org/pandas-docs/stable/user_guide/indexing.html#returning-a-view-versus-a-copy\n",
            "  downcast=downcast,\n"
          ],
          "name": "stderr"
        },
        {
          "output_type": "execute_result",
          "data": {
            "text/plain": [
              "(1055, 13)"
            ]
          },
          "metadata": {
            "tags": []
          },
          "execution_count": 18
        }
      ]
    },
    {
      "cell_type": "code",
      "metadata": {
        "colab": {
          "base_uri": "https://localhost:8080/"
        },
        "id": "KLZLloAwbYqw",
        "outputId": "41235233-a99a-4222-891e-de50d34b20b2"
      },
      "source": [
        "test2 = climate_test.iloc[:,3:].values\r\n",
        "test2 = scaler1.transform(test2)\r\n",
        "test2 = test2.reshape(-1,12,14)\r\n",
        "test2.shape"
      ],
      "execution_count": null,
      "outputs": [
        {
          "output_type": "execute_result",
          "data": {
            "text/plain": [
              "(1055, 12, 14)"
            ]
          },
          "metadata": {
            "tags": []
          },
          "execution_count": 19
        }
      ]
    },
    {
      "cell_type": "code",
      "metadata": {
        "colab": {
          "base_uri": "https://localhost:8080/"
        },
        "id": "r2sxzEw4byYt",
        "outputId": "0561fefc-9777-4a3f-efe4-a64a9a710f8c"
      },
      "source": [
        "test3 = soil_test.iloc[:,1:12].values\r\n",
        "test3 = scaler2.transform(test3)\r\n",
        "test3.shape"
      ],
      "execution_count": null,
      "outputs": [
        {
          "output_type": "execute_result",
          "data": {
            "text/plain": [
              "(1055, 11)"
            ]
          },
          "metadata": {
            "tags": []
          },
          "execution_count": 20
        }
      ]
    },
    {
      "cell_type": "code",
      "metadata": {
        "colab": {
          "base_uri": "https://localhost:8080/"
        },
        "id": "UeBOUo7jElGT",
        "outputId": "0f4d4a2f-9f4f-4512-e991-2875ade0ac99"
      },
      "source": [
        "test4 = test_year.Year.values\r\n",
        "test4 = le.transform(test4)\r\n",
        "test4.shape"
      ],
      "execution_count": null,
      "outputs": [
        {
          "output_type": "execute_result",
          "data": {
            "text/plain": [
              "(1055,)"
            ]
          },
          "metadata": {
            "tags": []
          },
          "execution_count": 21
        }
      ]
    },
    {
      "cell_type": "code",
      "metadata": {
        "id": "eIcvztD_eJc1"
      },
      "source": [
        "class YieldDataset():\r\n",
        "  def __init__(self,x1,x2,x3,y):\r\n",
        "    self.x1 = x1\r\n",
        "    self.x2 = x2\r\n",
        "    self.x3 = x3\r\n",
        "    self.y = y\r\n",
        "    \r\n",
        "\r\n",
        "  def __len__(self):\r\n",
        "    return(len(self.x1))\r\n",
        "\r\n",
        "  def __getitem__(self,idx):\r\n",
        "    x1 = self.x1[idx]\r\n",
        "    x2 = self.x2[idx]\r\n",
        "    x3 = self.x3[idx]\r\n",
        "    y = self.y[idx]\r\n",
        "    return torch.tensor(x1,dtype=torch.float),torch.tensor(x2,dtype=torch.float),torch.tensor(x3,dtype=torch.float),torch.tensor(y,dtype=torch.float)"
      ],
      "execution_count": null,
      "outputs": []
    },
    {
      "cell_type": "code",
      "metadata": {
        "id": "_Z0_bIwcgeRa"
      },
      "source": [
        "class YieldNet(nn.Module):\r\n",
        "  def __init__(self):\r\n",
        "    super(YieldNet, self).__init__()\r\n",
        "    self.conv1 = ConvLayer(30, 64)\r\n",
        "    self.conv2 = ConvLayer(64, 128)\r\n",
        "    self.pool = AdaptiveConcatPool2d(size=None)\r\n",
        "    self.fc1 = nn.Linear(1536,512)\r\n",
        "    self.fc2 = nn.Linear(691,1)\r\n",
        "\r\n",
        "  def forward(self, x1,x2,x3):\r\n",
        "    batch_size, time_steps, C, H, W = x1.size()\r\n",
        "    x1 = x1.view(batch_size*time_steps,C,H,W)\r\n",
        "    x1 = F.relu(self.conv1(x1))\r\n",
        "    x1 = F.relu(self.conv2(x1))\r\n",
        "    x1 = self.pool(x1)\r\n",
        "    x1 = x1.view(batch_size,-1)\r\n",
        "    inp1 = F.relu(self.fc1(x1))\r\n",
        "    x2 = x2.view(batch_size,-1)\r\n",
        "    inp = torch.cat([inp1,x2,x3],dim=1)\r\n",
        "    out = self.fc2(inp)\r\n",
        "    return out\r\n",
        "\r\n",
        "model = YieldNet()"
      ],
      "execution_count": null,
      "outputs": []
    },
    {
      "cell_type": "code",
      "metadata": {
        "colab": {
          "base_uri": "https://localhost:8080/"
        },
        "id": "PCXnSZo3cUFI",
        "outputId": "1e35958a-0210-4e6a-9cc3-4364ec377f31"
      },
      "source": [
        "#tdl = learn.dls.test_dl(test1)\r\n",
        "#batch_size, time_steps, C, H, W = tdl.one_batch().size()\r\n",
        "\r\n",
        "gc.collect()"
      ],
      "execution_count": null,
      "outputs": [
        {
          "output_type": "execute_result",
          "data": {
            "text/plain": [
              "756"
            ]
          },
          "metadata": {
            "tags": []
          },
          "execution_count": 30
        }
      ]
    },
    {
      "cell_type": "code",
      "metadata": {
        "colab": {
          "base_uri": "https://localhost:8080/"
        },
        "id": "7uP9kZcT_m-B",
        "outputId": "841ff112-6c35-4778-9c9c-3ba0aaa9dae0"
      },
      "source": [
        "train_ds = YieldDataset(x_train1,y_train)\r\n",
        "valid_ds = YieldDataset(x_valid1,y_valid)\r\n",
        "\r\n",
        "dls = DataLoaders.from_dsets(train_ds,valid_ds)\r\n",
        "x,y = first(dls.train)\r\n",
        "model(x).shape"
      ],
      "execution_count": null,
      "outputs": [
        {
          "output_type": "execute_result",
          "data": {
            "text/plain": [
              "torch.Size([64, 1])"
            ]
          },
          "metadata": {
            "tags": []
          },
          "execution_count": 73
        }
      ]
    },
    {
      "cell_type": "code",
      "metadata": {
        "colab": {
          "base_uri": "https://localhost:8080/"
        },
        "id": "cMuZjIrPClo1",
        "outputId": "fc354af8-d681-4c28-8f9d-6b3c36978b8c"
      },
      "source": [
        "((100663296/64)/128)"
      ],
      "execution_count": null,
      "outputs": [
        {
          "output_type": "execute_result",
          "data": {
            "text/plain": [
              "12288.0"
            ]
          },
          "metadata": {
            "tags": []
          },
          "execution_count": 48
        }
      ]
    },
    {
      "cell_type": "code",
      "metadata": {
        "id": "Ja160AHlAtgr",
        "colab": {
          "base_uri": "https://localhost:8080/",
          "height": 1000
        },
        "outputId": "4b0e09a4-ba90-45f7-c030-0bb306cca83a"
      },
      "source": [
        "##########################FOLDS ##################################################\r\n",
        "test_ds = YieldDataset(test1,test2,test3,dummy)\r\n",
        "final_preds = np.zeros(shape=(test1.shape[0],1))\r\n",
        "\r\n",
        "for f in range(0,5):\r\n",
        "  print('#'*10,'In fold:',f+1,'#'*10)\r\n",
        "  model = YieldNet()\r\n",
        "  train_index = list(train.loc[train['fold']!=f+1].index)\r\n",
        "  test_index = list(train.loc[train['fold']==f+1].index)\r\n",
        "  x_train1,x_valid1 = X1[train_index],X1[test_index]\r\n",
        "  x_train2,x_valid2 = X2[train_index],X2[test_index]\r\n",
        "  x_train3,x_valid3 = X3[train_index],X3[test_index]\r\n",
        "  x_train4,x_valid4 = X4[train_index],X4[test_index]\r\n",
        "  y_train,y_valid = y[train_index],y[test_index]\r\n",
        "  print(x_train1.shape,x_train2.shape,x_train3.shape,x_train4.shape,x_valid1.shape,x_valid2.shape,x_valid3.shape,x_valid4.shape)\r\n",
        "\r\n",
        "  train_ds = YieldDataset(x_train1,x_train2,x_train3,y_train)\r\n",
        "  valid_ds = YieldDataset(x_valid1,x_valid2,x_valid3,y_valid)\r\n",
        "\r\n",
        "  dls = DataLoaders.from_dsets(train_ds,valid_ds)\r\n",
        "  dls = dls.cuda()\r\n",
        "\r\n",
        "  learn = Learner(dls,model,loss_func=MSELossFlat(),metrics=[rmse]).to_fp16()\r\n",
        "\r\n",
        "  learn.fit_one_cycle(15,slice(3e-03,3e-02),cbs=SaveModelCallback())\r\n",
        "\r\n",
        "  tdl = learn.dls.test_dl(test_ds)\r\n",
        "  \r\n",
        "  preds,_ = learn.get_preds(dl=tdl)\r\n",
        "\r\n",
        "  final_preds += preds.numpy()\r\n",
        "\r\n",
        "  print('#'*10,'Finished predictions!!','#'*10)\r\n",
        "  print('')\r\n",
        "  del dls\r\n",
        "  del model\r\n",
        "  del learn\r\n",
        "  gc.collect()\r\n",
        "  \r\n"
      ],
      "execution_count": null,
      "outputs": [
        {
          "output_type": "stream",
          "text": [
            "########## In fold: 1 ##########\n",
            "(2041, 6, 30, 32, 32) (2041, 12, 14) (2041, 11) (2041,) (511, 6, 30, 32, 32) (511, 12, 14) (511, 11) (511,)\n"
          ],
          "name": "stdout"
        },
        {
          "output_type": "display_data",
          "data": {
            "text/html": [
              "<table border=\"1\" class=\"dataframe\">\n",
              "  <thead>\n",
              "    <tr style=\"text-align: left;\">\n",
              "      <th>epoch</th>\n",
              "      <th>train_loss</th>\n",
              "      <th>valid_loss</th>\n",
              "      <th>_rmse</th>\n",
              "      <th>time</th>\n",
              "    </tr>\n",
              "  </thead>\n",
              "  <tbody>\n",
              "    <tr>\n",
              "      <td>0</td>\n",
              "      <td>8.194236</td>\n",
              "      <td>5.499785</td>\n",
              "      <td>2.345162</td>\n",
              "      <td>00:04</td>\n",
              "    </tr>\n",
              "    <tr>\n",
              "      <td>1</td>\n",
              "      <td>4.646342</td>\n",
              "      <td>2.920510</td>\n",
              "      <td>1.708950</td>\n",
              "      <td>00:03</td>\n",
              "    </tr>\n",
              "    <tr>\n",
              "      <td>2</td>\n",
              "      <td>3.526086</td>\n",
              "      <td>3.801250</td>\n",
              "      <td>1.949679</td>\n",
              "      <td>00:03</td>\n",
              "    </tr>\n",
              "    <tr>\n",
              "      <td>3</td>\n",
              "      <td>4.884637</td>\n",
              "      <td>5.427475</td>\n",
              "      <td>2.329694</td>\n",
              "      <td>00:03</td>\n",
              "    </tr>\n",
              "    <tr>\n",
              "      <td>4</td>\n",
              "      <td>4.720910</td>\n",
              "      <td>3.549597</td>\n",
              "      <td>1.884037</td>\n",
              "      <td>00:03</td>\n",
              "    </tr>\n",
              "    <tr>\n",
              "      <td>5</td>\n",
              "      <td>4.204156</td>\n",
              "      <td>3.426302</td>\n",
              "      <td>1.851027</td>\n",
              "      <td>00:03</td>\n",
              "    </tr>\n",
              "    <tr>\n",
              "      <td>6</td>\n",
              "      <td>3.483257</td>\n",
              "      <td>2.862901</td>\n",
              "      <td>1.692011</td>\n",
              "      <td>00:03</td>\n",
              "    </tr>\n",
              "    <tr>\n",
              "      <td>7</td>\n",
              "      <td>3.117975</td>\n",
              "      <td>2.819451</td>\n",
              "      <td>1.679122</td>\n",
              "      <td>00:03</td>\n",
              "    </tr>\n",
              "    <tr>\n",
              "      <td>8</td>\n",
              "      <td>2.772807</td>\n",
              "      <td>3.043460</td>\n",
              "      <td>1.744551</td>\n",
              "      <td>00:03</td>\n",
              "    </tr>\n",
              "    <tr>\n",
              "      <td>9</td>\n",
              "      <td>2.571760</td>\n",
              "      <td>2.887970</td>\n",
              "      <td>1.699403</td>\n",
              "      <td>00:03</td>\n",
              "    </tr>\n",
              "    <tr>\n",
              "      <td>10</td>\n",
              "      <td>2.422450</td>\n",
              "      <td>2.819088</td>\n",
              "      <td>1.679014</td>\n",
              "      <td>00:03</td>\n",
              "    </tr>\n",
              "    <tr>\n",
              "      <td>11</td>\n",
              "      <td>2.319555</td>\n",
              "      <td>2.835093</td>\n",
              "      <td>1.683774</td>\n",
              "      <td>00:03</td>\n",
              "    </tr>\n",
              "    <tr>\n",
              "      <td>12</td>\n",
              "      <td>2.232475</td>\n",
              "      <td>2.800905</td>\n",
              "      <td>1.673591</td>\n",
              "      <td>00:03</td>\n",
              "    </tr>\n",
              "    <tr>\n",
              "      <td>13</td>\n",
              "      <td>2.204887</td>\n",
              "      <td>2.812366</td>\n",
              "      <td>1.677011</td>\n",
              "      <td>00:03</td>\n",
              "    </tr>\n",
              "    <tr>\n",
              "      <td>14</td>\n",
              "      <td>2.161907</td>\n",
              "      <td>2.800053</td>\n",
              "      <td>1.673336</td>\n",
              "      <td>00:03</td>\n",
              "    </tr>\n",
              "  </tbody>\n",
              "</table>"
            ],
            "text/plain": [
              "<IPython.core.display.HTML object>"
            ]
          },
          "metadata": {
            "tags": []
          }
        },
        {
          "output_type": "stream",
          "text": [
            "Better model found at epoch 0 with valid_loss value: 5.49978494644165.\n",
            "Better model found at epoch 1 with valid_loss value: 2.9205102920532227.\n",
            "Better model found at epoch 6 with valid_loss value: 2.862901449203491.\n",
            "Better model found at epoch 7 with valid_loss value: 2.819451332092285.\n",
            "Better model found at epoch 10 with valid_loss value: 2.8190884590148926.\n",
            "Better model found at epoch 12 with valid_loss value: 2.800905466079712.\n",
            "Better model found at epoch 14 with valid_loss value: 2.800053119659424.\n"
          ],
          "name": "stdout"
        },
        {
          "output_type": "display_data",
          "data": {
            "text/html": [
              ""
            ],
            "text/plain": [
              "<IPython.core.display.HTML object>"
            ]
          },
          "metadata": {
            "tags": []
          }
        },
        {
          "output_type": "stream",
          "text": [
            "########## Finished predictions!! ##########\n",
            "\n",
            "########## In fold: 2 ##########\n",
            "(2041, 6, 30, 32, 32) (2041, 12, 14) (2041, 11) (2041,) (511, 6, 30, 32, 32) (511, 12, 14) (511, 11) (511,)\n"
          ],
          "name": "stdout"
        },
        {
          "output_type": "display_data",
          "data": {
            "text/html": [
              "<table border=\"1\" class=\"dataframe\">\n",
              "  <thead>\n",
              "    <tr style=\"text-align: left;\">\n",
              "      <th>epoch</th>\n",
              "      <th>train_loss</th>\n",
              "      <th>valid_loss</th>\n",
              "      <th>_rmse</th>\n",
              "      <th>time</th>\n",
              "    </tr>\n",
              "  </thead>\n",
              "  <tbody>\n",
              "    <tr>\n",
              "      <td>0</td>\n",
              "      <td>8.285322</td>\n",
              "      <td>6.009381</td>\n",
              "      <td>2.451404</td>\n",
              "      <td>00:03</td>\n",
              "    </tr>\n",
              "    <tr>\n",
              "      <td>1</td>\n",
              "      <td>4.798836</td>\n",
              "      <td>2.606873</td>\n",
              "      <td>1.614581</td>\n",
              "      <td>00:03</td>\n",
              "    </tr>\n",
              "    <tr>\n",
              "      <td>2</td>\n",
              "      <td>3.998492</td>\n",
              "      <td>5.225610</td>\n",
              "      <td>2.285959</td>\n",
              "      <td>00:03</td>\n",
              "    </tr>\n",
              "    <tr>\n",
              "      <td>3</td>\n",
              "      <td>6.700023</td>\n",
              "      <td>16.812494</td>\n",
              "      <td>4.100304</td>\n",
              "      <td>00:03</td>\n",
              "    </tr>\n",
              "    <tr>\n",
              "      <td>4</td>\n",
              "      <td>8.704836</td>\n",
              "      <td>3.720021</td>\n",
              "      <td>1.928735</td>\n",
              "      <td>00:03</td>\n",
              "    </tr>\n",
              "    <tr>\n",
              "      <td>5</td>\n",
              "      <td>6.343195</td>\n",
              "      <td>4.068006</td>\n",
              "      <td>2.016930</td>\n",
              "      <td>00:03</td>\n",
              "    </tr>\n",
              "    <tr>\n",
              "      <td>6</td>\n",
              "      <td>5.046350</td>\n",
              "      <td>2.747918</td>\n",
              "      <td>1.657685</td>\n",
              "      <td>00:03</td>\n",
              "    </tr>\n",
              "    <tr>\n",
              "      <td>7</td>\n",
              "      <td>3.946624</td>\n",
              "      <td>3.626049</td>\n",
              "      <td>1.904219</td>\n",
              "      <td>00:03</td>\n",
              "    </tr>\n",
              "    <tr>\n",
              "      <td>8</td>\n",
              "      <td>3.383161</td>\n",
              "      <td>2.723641</td>\n",
              "      <td>1.650346</td>\n",
              "      <td>00:03</td>\n",
              "    </tr>\n",
              "    <tr>\n",
              "      <td>9</td>\n",
              "      <td>3.120031</td>\n",
              "      <td>2.556173</td>\n",
              "      <td>1.598804</td>\n",
              "      <td>00:03</td>\n",
              "    </tr>\n",
              "    <tr>\n",
              "      <td>10</td>\n",
              "      <td>2.783439</td>\n",
              "      <td>2.457812</td>\n",
              "      <td>1.567741</td>\n",
              "      <td>00:03</td>\n",
              "    </tr>\n",
              "    <tr>\n",
              "      <td>11</td>\n",
              "      <td>2.586355</td>\n",
              "      <td>2.356221</td>\n",
              "      <td>1.534999</td>\n",
              "      <td>00:03</td>\n",
              "    </tr>\n",
              "    <tr>\n",
              "      <td>12</td>\n",
              "      <td>2.447603</td>\n",
              "      <td>2.432969</td>\n",
              "      <td>1.559798</td>\n",
              "      <td>00:03</td>\n",
              "    </tr>\n",
              "    <tr>\n",
              "      <td>13</td>\n",
              "      <td>2.373162</td>\n",
              "      <td>2.385479</td>\n",
              "      <td>1.544500</td>\n",
              "      <td>00:03</td>\n",
              "    </tr>\n",
              "    <tr>\n",
              "      <td>14</td>\n",
              "      <td>2.326885</td>\n",
              "      <td>2.372546</td>\n",
              "      <td>1.540307</td>\n",
              "      <td>00:03</td>\n",
              "    </tr>\n",
              "  </tbody>\n",
              "</table>"
            ],
            "text/plain": [
              "<IPython.core.display.HTML object>"
            ]
          },
          "metadata": {
            "tags": []
          }
        },
        {
          "output_type": "stream",
          "text": [
            "Better model found at epoch 0 with valid_loss value: 6.009381294250488.\n",
            "Better model found at epoch 1 with valid_loss value: 2.606872797012329.\n",
            "Better model found at epoch 9 with valid_loss value: 2.5561728477478027.\n",
            "Better model found at epoch 10 with valid_loss value: 2.4578115940093994.\n",
            "Better model found at epoch 11 with valid_loss value: 2.3562207221984863.\n"
          ],
          "name": "stdout"
        },
        {
          "output_type": "display_data",
          "data": {
            "text/html": [
              ""
            ],
            "text/plain": [
              "<IPython.core.display.HTML object>"
            ]
          },
          "metadata": {
            "tags": []
          }
        },
        {
          "output_type": "stream",
          "text": [
            "########## Finished predictions!! ##########\n",
            "\n",
            "########## In fold: 3 ##########\n",
            "(2042, 6, 30, 32, 32) (2042, 12, 14) (2042, 11) (2042,) (510, 6, 30, 32, 32) (510, 12, 14) (510, 11) (510,)\n"
          ],
          "name": "stdout"
        },
        {
          "output_type": "display_data",
          "data": {
            "text/html": [
              "<table border=\"1\" class=\"dataframe\">\n",
              "  <thead>\n",
              "    <tr style=\"text-align: left;\">\n",
              "      <th>epoch</th>\n",
              "      <th>train_loss</th>\n",
              "      <th>valid_loss</th>\n",
              "      <th>_rmse</th>\n",
              "      <th>time</th>\n",
              "    </tr>\n",
              "  </thead>\n",
              "  <tbody>\n",
              "    <tr>\n",
              "      <td>0</td>\n",
              "      <td>8.341042</td>\n",
              "      <td>3.337207</td>\n",
              "      <td>1.826802</td>\n",
              "      <td>00:03</td>\n",
              "    </tr>\n",
              "    <tr>\n",
              "      <td>1</td>\n",
              "      <td>4.629403</td>\n",
              "      <td>2.782435</td>\n",
              "      <td>1.668063</td>\n",
              "      <td>00:03</td>\n",
              "    </tr>\n",
              "    <tr>\n",
              "      <td>2</td>\n",
              "      <td>4.139996</td>\n",
              "      <td>3.706275</td>\n",
              "      <td>1.925169</td>\n",
              "      <td>00:03</td>\n",
              "    </tr>\n",
              "    <tr>\n",
              "      <td>3</td>\n",
              "      <td>4.759580</td>\n",
              "      <td>9.746194</td>\n",
              "      <td>3.121889</td>\n",
              "      <td>00:03</td>\n",
              "    </tr>\n",
              "    <tr>\n",
              "      <td>4</td>\n",
              "      <td>9.861121</td>\n",
              "      <td>12.604482</td>\n",
              "      <td>3.550279</td>\n",
              "      <td>00:03</td>\n",
              "    </tr>\n",
              "    <tr>\n",
              "      <td>5</td>\n",
              "      <td>8.619514</td>\n",
              "      <td>2.921040</td>\n",
              "      <td>1.709105</td>\n",
              "      <td>00:03</td>\n",
              "    </tr>\n",
              "    <tr>\n",
              "      <td>6</td>\n",
              "      <td>5.829993</td>\n",
              "      <td>2.784702</td>\n",
              "      <td>1.668743</td>\n",
              "      <td>00:03</td>\n",
              "    </tr>\n",
              "    <tr>\n",
              "      <td>7</td>\n",
              "      <td>4.221786</td>\n",
              "      <td>2.810198</td>\n",
              "      <td>1.676364</td>\n",
              "      <td>00:03</td>\n",
              "    </tr>\n",
              "    <tr>\n",
              "      <td>8</td>\n",
              "      <td>3.424173</td>\n",
              "      <td>2.609480</td>\n",
              "      <td>1.615389</td>\n",
              "      <td>00:03</td>\n",
              "    </tr>\n",
              "    <tr>\n",
              "      <td>9</td>\n",
              "      <td>2.930564</td>\n",
              "      <td>3.024833</td>\n",
              "      <td>1.739205</td>\n",
              "      <td>00:03</td>\n",
              "    </tr>\n",
              "    <tr>\n",
              "      <td>10</td>\n",
              "      <td>2.772527</td>\n",
              "      <td>3.086691</td>\n",
              "      <td>1.756898</td>\n",
              "      <td>00:03</td>\n",
              "    </tr>\n",
              "    <tr>\n",
              "      <td>11</td>\n",
              "      <td>2.589973</td>\n",
              "      <td>2.678260</td>\n",
              "      <td>1.636539</td>\n",
              "      <td>00:03</td>\n",
              "    </tr>\n",
              "    <tr>\n",
              "      <td>12</td>\n",
              "      <td>2.442215</td>\n",
              "      <td>2.649981</td>\n",
              "      <td>1.627876</td>\n",
              "      <td>00:03</td>\n",
              "    </tr>\n",
              "    <tr>\n",
              "      <td>13</td>\n",
              "      <td>2.326007</td>\n",
              "      <td>2.647187</td>\n",
              "      <td>1.627017</td>\n",
              "      <td>00:03</td>\n",
              "    </tr>\n",
              "    <tr>\n",
              "      <td>14</td>\n",
              "      <td>2.237285</td>\n",
              "      <td>2.639386</td>\n",
              "      <td>1.624619</td>\n",
              "      <td>00:03</td>\n",
              "    </tr>\n",
              "  </tbody>\n",
              "</table>"
            ],
            "text/plain": [
              "<IPython.core.display.HTML object>"
            ]
          },
          "metadata": {
            "tags": []
          }
        },
        {
          "output_type": "stream",
          "text": [
            "Better model found at epoch 0 with valid_loss value: 3.337207317352295.\n",
            "Better model found at epoch 1 with valid_loss value: 2.7824347019195557.\n",
            "Better model found at epoch 8 with valid_loss value: 2.609480142593384.\n"
          ],
          "name": "stdout"
        },
        {
          "output_type": "display_data",
          "data": {
            "text/html": [
              ""
            ],
            "text/plain": [
              "<IPython.core.display.HTML object>"
            ]
          },
          "metadata": {
            "tags": []
          }
        },
        {
          "output_type": "stream",
          "text": [
            "########## Finished predictions!! ##########\n",
            "\n",
            "########## In fold: 4 ##########\n",
            "(2042, 6, 30, 32, 32) (2042, 12, 14) (2042, 11) (2042,) (510, 6, 30, 32, 32) (510, 12, 14) (510, 11) (510,)\n"
          ],
          "name": "stdout"
        },
        {
          "output_type": "display_data",
          "data": {
            "text/html": [
              "<table border=\"1\" class=\"dataframe\">\n",
              "  <thead>\n",
              "    <tr style=\"text-align: left;\">\n",
              "      <th>epoch</th>\n",
              "      <th>train_loss</th>\n",
              "      <th>valid_loss</th>\n",
              "      <th>_rmse</th>\n",
              "      <th>time</th>\n",
              "    </tr>\n",
              "  </thead>\n",
              "  <tbody>\n",
              "    <tr>\n",
              "      <td>0</td>\n",
              "      <td>7.334198</td>\n",
              "      <td>5.086926</td>\n",
              "      <td>2.255421</td>\n",
              "      <td>00:03</td>\n",
              "    </tr>\n",
              "    <tr>\n",
              "      <td>1</td>\n",
              "      <td>4.494106</td>\n",
              "      <td>2.835197</td>\n",
              "      <td>1.683804</td>\n",
              "      <td>00:03</td>\n",
              "    </tr>\n",
              "    <tr>\n",
              "      <td>2</td>\n",
              "      <td>4.847544</td>\n",
              "      <td>8.842806</td>\n",
              "      <td>2.973686</td>\n",
              "      <td>00:03</td>\n",
              "    </tr>\n",
              "    <tr>\n",
              "      <td>3</td>\n",
              "      <td>5.206259</td>\n",
              "      <td>12.210470</td>\n",
              "      <td>3.494348</td>\n",
              "      <td>00:03</td>\n",
              "    </tr>\n",
              "    <tr>\n",
              "      <td>4</td>\n",
              "      <td>5.261857</td>\n",
              "      <td>4.369458</td>\n",
              "      <td>2.090325</td>\n",
              "      <td>00:03</td>\n",
              "    </tr>\n",
              "    <tr>\n",
              "      <td>5</td>\n",
              "      <td>4.254800</td>\n",
              "      <td>2.707146</td>\n",
              "      <td>1.645341</td>\n",
              "      <td>00:03</td>\n",
              "    </tr>\n",
              "    <tr>\n",
              "      <td>6</td>\n",
              "      <td>3.435571</td>\n",
              "      <td>3.088097</td>\n",
              "      <td>1.757298</td>\n",
              "      <td>00:03</td>\n",
              "    </tr>\n",
              "    <tr>\n",
              "      <td>7</td>\n",
              "      <td>3.062707</td>\n",
              "      <td>2.526037</td>\n",
              "      <td>1.589351</td>\n",
              "      <td>00:03</td>\n",
              "    </tr>\n",
              "    <tr>\n",
              "      <td>8</td>\n",
              "      <td>2.820187</td>\n",
              "      <td>3.032763</td>\n",
              "      <td>1.741483</td>\n",
              "      <td>00:03</td>\n",
              "    </tr>\n",
              "    <tr>\n",
              "      <td>9</td>\n",
              "      <td>2.692485</td>\n",
              "      <td>2.513529</td>\n",
              "      <td>1.585411</td>\n",
              "      <td>00:03</td>\n",
              "    </tr>\n",
              "    <tr>\n",
              "      <td>10</td>\n",
              "      <td>2.536541</td>\n",
              "      <td>2.446755</td>\n",
              "      <td>1.564211</td>\n",
              "      <td>00:03</td>\n",
              "    </tr>\n",
              "    <tr>\n",
              "      <td>11</td>\n",
              "      <td>2.445379</td>\n",
              "      <td>2.401330</td>\n",
              "      <td>1.549623</td>\n",
              "      <td>00:03</td>\n",
              "    </tr>\n",
              "    <tr>\n",
              "      <td>12</td>\n",
              "      <td>2.363330</td>\n",
              "      <td>2.504255</td>\n",
              "      <td>1.582484</td>\n",
              "      <td>00:03</td>\n",
              "    </tr>\n",
              "    <tr>\n",
              "      <td>13</td>\n",
              "      <td>2.348190</td>\n",
              "      <td>2.469116</td>\n",
              "      <td>1.571342</td>\n",
              "      <td>00:03</td>\n",
              "    </tr>\n",
              "    <tr>\n",
              "      <td>14</td>\n",
              "      <td>2.314748</td>\n",
              "      <td>2.457487</td>\n",
              "      <td>1.567637</td>\n",
              "      <td>00:03</td>\n",
              "    </tr>\n",
              "  </tbody>\n",
              "</table>"
            ],
            "text/plain": [
              "<IPython.core.display.HTML object>"
            ]
          },
          "metadata": {
            "tags": []
          }
        },
        {
          "output_type": "stream",
          "text": [
            "Better model found at epoch 0 with valid_loss value: 5.086925983428955.\n",
            "Better model found at epoch 1 with valid_loss value: 2.8351967334747314.\n",
            "Better model found at epoch 5 with valid_loss value: 2.707146406173706.\n",
            "Better model found at epoch 7 with valid_loss value: 2.5260372161865234.\n",
            "Better model found at epoch 9 with valid_loss value: 2.513528823852539.\n",
            "Better model found at epoch 10 with valid_loss value: 2.4467549324035645.\n",
            "Better model found at epoch 11 with valid_loss value: 2.4013304710388184.\n"
          ],
          "name": "stdout"
        },
        {
          "output_type": "display_data",
          "data": {
            "text/html": [
              ""
            ],
            "text/plain": [
              "<IPython.core.display.HTML object>"
            ]
          },
          "metadata": {
            "tags": []
          }
        },
        {
          "output_type": "stream",
          "text": [
            "########## Finished predictions!! ##########\n",
            "\n",
            "########## In fold: 5 ##########\n",
            "(2042, 6, 30, 32, 32) (2042, 12, 14) (2042, 11) (2042,) (510, 6, 30, 32, 32) (510, 12, 14) (510, 11) (510,)\n"
          ],
          "name": "stdout"
        },
        {
          "output_type": "display_data",
          "data": {
            "text/html": [
              "<table border=\"1\" class=\"dataframe\">\n",
              "  <thead>\n",
              "    <tr style=\"text-align: left;\">\n",
              "      <th>epoch</th>\n",
              "      <th>train_loss</th>\n",
              "      <th>valid_loss</th>\n",
              "      <th>_rmse</th>\n",
              "      <th>time</th>\n",
              "    </tr>\n",
              "  </thead>\n",
              "  <tbody>\n",
              "    <tr>\n",
              "      <td>0</td>\n",
              "      <td>9.300026</td>\n",
              "      <td>2.507362</td>\n",
              "      <td>1.583465</td>\n",
              "      <td>00:03</td>\n",
              "    </tr>\n",
              "    <tr>\n",
              "      <td>1</td>\n",
              "      <td>5.099607</td>\n",
              "      <td>2.522525</td>\n",
              "      <td>1.588246</td>\n",
              "      <td>00:03</td>\n",
              "    </tr>\n",
              "    <tr>\n",
              "      <td>2</td>\n",
              "      <td>4.765451</td>\n",
              "      <td>4.103572</td>\n",
              "      <td>2.025728</td>\n",
              "      <td>00:03</td>\n",
              "    </tr>\n",
              "    <tr>\n",
              "      <td>3</td>\n",
              "      <td>11.049525</td>\n",
              "      <td>5.319185</td>\n",
              "      <td>2.306336</td>\n",
              "      <td>00:03</td>\n",
              "    </tr>\n",
              "    <tr>\n",
              "      <td>4</td>\n",
              "      <td>8.568411</td>\n",
              "      <td>2.592291</td>\n",
              "      <td>1.610059</td>\n",
              "      <td>00:03</td>\n",
              "    </tr>\n",
              "    <tr>\n",
              "      <td>5</td>\n",
              "      <td>5.798234</td>\n",
              "      <td>2.289076</td>\n",
              "      <td>1.512969</td>\n",
              "      <td>00:03</td>\n",
              "    </tr>\n",
              "    <tr>\n",
              "      <td>6</td>\n",
              "      <td>4.363254</td>\n",
              "      <td>2.020132</td>\n",
              "      <td>1.421313</td>\n",
              "      <td>00:03</td>\n",
              "    </tr>\n",
              "    <tr>\n",
              "      <td>7</td>\n",
              "      <td>3.633945</td>\n",
              "      <td>2.233048</td>\n",
              "      <td>1.494339</td>\n",
              "      <td>00:03</td>\n",
              "    </tr>\n",
              "    <tr>\n",
              "      <td>8</td>\n",
              "      <td>3.136521</td>\n",
              "      <td>2.238905</td>\n",
              "      <td>1.496297</td>\n",
              "      <td>00:03</td>\n",
              "    </tr>\n",
              "    <tr>\n",
              "      <td>9</td>\n",
              "      <td>2.990381</td>\n",
              "      <td>2.338218</td>\n",
              "      <td>1.529123</td>\n",
              "      <td>00:03</td>\n",
              "    </tr>\n",
              "    <tr>\n",
              "      <td>10</td>\n",
              "      <td>2.761070</td>\n",
              "      <td>2.031125</td>\n",
              "      <td>1.425175</td>\n",
              "      <td>00:03</td>\n",
              "    </tr>\n",
              "    <tr>\n",
              "      <td>11</td>\n",
              "      <td>2.581484</td>\n",
              "      <td>2.157689</td>\n",
              "      <td>1.468907</td>\n",
              "      <td>00:03</td>\n",
              "    </tr>\n",
              "    <tr>\n",
              "      <td>12</td>\n",
              "      <td>2.456192</td>\n",
              "      <td>2.048264</td>\n",
              "      <td>1.431175</td>\n",
              "      <td>00:03</td>\n",
              "    </tr>\n",
              "    <tr>\n",
              "      <td>13</td>\n",
              "      <td>2.391344</td>\n",
              "      <td>2.027430</td>\n",
              "      <td>1.423878</td>\n",
              "      <td>00:03</td>\n",
              "    </tr>\n",
              "    <tr>\n",
              "      <td>14</td>\n",
              "      <td>2.331132</td>\n",
              "      <td>2.032702</td>\n",
              "      <td>1.425729</td>\n",
              "      <td>00:03</td>\n",
              "    </tr>\n",
              "  </tbody>\n",
              "</table>"
            ],
            "text/plain": [
              "<IPython.core.display.HTML object>"
            ]
          },
          "metadata": {
            "tags": []
          }
        },
        {
          "output_type": "stream",
          "text": [
            "Better model found at epoch 0 with valid_loss value: 2.5073623657226562.\n",
            "Better model found at epoch 5 with valid_loss value: 2.289076089859009.\n",
            "Better model found at epoch 6 with valid_loss value: 2.0201315879821777.\n"
          ],
          "name": "stdout"
        },
        {
          "output_type": "display_data",
          "data": {
            "text/html": [
              ""
            ],
            "text/plain": [
              "<IPython.core.display.HTML object>"
            ]
          },
          "metadata": {
            "tags": []
          }
        },
        {
          "output_type": "stream",
          "text": [
            "########## Finished predictions!! ##########\n",
            "\n"
          ],
          "name": "stdout"
        }
      ]
    },
    {
      "cell_type": "markdown",
      "metadata": {
        "id": "yEbhmfDWNDgo"
      },
      "source": [
        "# Generating predictions"
      ]
    },
    {
      "cell_type": "code",
      "metadata": {
        "id": "LyWbhUCAH53d"
      },
      "source": [
        "ss['Yield'] = final_preds/5"
      ],
      "execution_count": null,
      "outputs": []
    },
    {
      "cell_type": "code",
      "metadata": {
        "colab": {
          "base_uri": "https://localhost:8080/",
          "height": 204
        },
        "id": "ZTgDLbqDahmV",
        "outputId": "90ace0b2-1c06-4523-81c5-a0eb256b9f63"
      },
      "source": [
        "#ss['Yield'] = crop_yield/5\r\n",
        "ss.head()"
      ],
      "execution_count": null,
      "outputs": [
        {
          "output_type": "execute_result",
          "data": {
            "text/html": [
              "<div>\n",
              "<style scoped>\n",
              "    .dataframe tbody tr th:only-of-type {\n",
              "        vertical-align: middle;\n",
              "    }\n",
              "\n",
              "    .dataframe tbody tr th {\n",
              "        vertical-align: top;\n",
              "    }\n",
              "\n",
              "    .dataframe thead th {\n",
              "        text-align: right;\n",
              "    }\n",
              "</style>\n",
              "<table border=\"1\" class=\"dataframe\">\n",
              "  <thead>\n",
              "    <tr style=\"text-align: right;\">\n",
              "      <th></th>\n",
              "      <th>Field_ID</th>\n",
              "      <th>Yield</th>\n",
              "    </tr>\n",
              "  </thead>\n",
              "  <tbody>\n",
              "    <tr>\n",
              "      <th>0</th>\n",
              "      <td>E9UZCEA</td>\n",
              "      <td>3.037109</td>\n",
              "    </tr>\n",
              "    <tr>\n",
              "      <th>1</th>\n",
              "      <td>1WGGS1Q</td>\n",
              "      <td>3.356641</td>\n",
              "    </tr>\n",
              "    <tr>\n",
              "      <th>2</th>\n",
              "      <td>EG2KXE2</td>\n",
              "      <td>3.371094</td>\n",
              "    </tr>\n",
              "    <tr>\n",
              "      <th>3</th>\n",
              "      <td>HC3GQXF</td>\n",
              "      <td>3.393750</td>\n",
              "    </tr>\n",
              "    <tr>\n",
              "      <th>4</th>\n",
              "      <td>7AK6GFK</td>\n",
              "      <td>3.115625</td>\n",
              "    </tr>\n",
              "  </tbody>\n",
              "</table>\n",
              "</div>"
            ],
            "text/plain": [
              "  Field_ID     Yield\n",
              "0  E9UZCEA  3.037109\n",
              "1  1WGGS1Q  3.356641\n",
              "2  EG2KXE2  3.371094\n",
              "3  HC3GQXF  3.393750\n",
              "4  7AK6GFK  3.115625"
            ]
          },
          "metadata": {
            "tags": []
          },
          "execution_count": 49
        }
      ]
    },
    {
      "cell_type": "code",
      "metadata": {
        "id": "1Y6rdRizap6N"
      },
      "source": [
        "ss.to_csv('/content/drive/My Drive/yield-estimate/fastai_5fold4.csv',index=False)"
      ],
      "execution_count": null,
      "outputs": []
    }
  ]
}