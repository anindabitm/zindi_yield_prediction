{
  "nbformat": 4,
  "nbformat_minor": 0,
  "metadata": {
    "colab": {
      "name": "yield-nb.ipynb",
      "provenance": [],
      "collapsed_sections": [],
      "authorship_tag": "ABX9TyMhATE1wuUYZG0kaAGkNQ2i",
      "include_colab_link": true
    },
    "kernelspec": {
      "display_name": "Python 3",
      "name": "python3"
    },
    "widgets": {
      "application/vnd.jupyter.widget-state+json": {
        "14a162db65ca41db9a0fc888c1be243b": {
          "model_module": "@jupyter-widgets/controls",
          "model_name": "HBoxModel",
          "state": {
            "_view_name": "HBoxView",
            "_dom_classes": [],
            "_model_name": "HBoxModel",
            "_view_module": "@jupyter-widgets/controls",
            "_model_module_version": "1.5.0",
            "_view_count": null,
            "_view_module_version": "1.5.0",
            "box_style": "",
            "layout": "IPY_MODEL_505d8667d687418fa777807d7cb8b308",
            "_model_module": "@jupyter-widgets/controls",
            "children": [
              "IPY_MODEL_357caaaafdcb4f3dbdea68e5295f9660",
              "IPY_MODEL_fbec0a6a5b4d4ed7831bf5c04e0e2dd6"
            ]
          }
        },
        "505d8667d687418fa777807d7cb8b308": {
          "model_module": "@jupyter-widgets/base",
          "model_name": "LayoutModel",
          "state": {
            "_view_name": "LayoutView",
            "grid_template_rows": null,
            "right": null,
            "justify_content": null,
            "_view_module": "@jupyter-widgets/base",
            "overflow": null,
            "_model_module_version": "1.2.0",
            "_view_count": null,
            "flex_flow": null,
            "width": null,
            "min_width": null,
            "border": null,
            "align_items": null,
            "bottom": null,
            "_model_module": "@jupyter-widgets/base",
            "top": null,
            "grid_column": null,
            "overflow_y": null,
            "overflow_x": null,
            "grid_auto_flow": null,
            "grid_area": null,
            "grid_template_columns": null,
            "flex": null,
            "_model_name": "LayoutModel",
            "justify_items": null,
            "grid_row": null,
            "max_height": null,
            "align_content": null,
            "visibility": null,
            "align_self": null,
            "height": null,
            "min_height": null,
            "padding": null,
            "grid_auto_rows": null,
            "grid_gap": null,
            "max_width": null,
            "order": null,
            "_view_module_version": "1.2.0",
            "grid_template_areas": null,
            "object_position": null,
            "object_fit": null,
            "grid_auto_columns": null,
            "margin": null,
            "display": null,
            "left": null
          }
        },
        "357caaaafdcb4f3dbdea68e5295f9660": {
          "model_module": "@jupyter-widgets/controls",
          "model_name": "FloatProgressModel",
          "state": {
            "_view_name": "ProgressView",
            "style": "IPY_MODEL_3ec3fca408694bbf9ec446230fa3511e",
            "_dom_classes": [],
            "description": "100%",
            "_model_name": "FloatProgressModel",
            "bar_style": "success",
            "max": 4032,
            "_view_module": "@jupyter-widgets/controls",
            "_model_module_version": "1.5.0",
            "value": 4032,
            "_view_count": null,
            "_view_module_version": "1.5.0",
            "orientation": "horizontal",
            "min": 0,
            "description_tooltip": null,
            "_model_module": "@jupyter-widgets/controls",
            "layout": "IPY_MODEL_a08fe31e51a64e92aaec27e62e85ef67"
          }
        },
        "fbec0a6a5b4d4ed7831bf5c04e0e2dd6": {
          "model_module": "@jupyter-widgets/controls",
          "model_name": "HTMLModel",
          "state": {
            "_view_name": "HTMLView",
            "style": "IPY_MODEL_45685693451c4f74b95cba0ce915f01f",
            "_dom_classes": [],
            "description": "",
            "_model_name": "HTMLModel",
            "placeholder": "​",
            "_view_module": "@jupyter-widgets/controls",
            "_model_module_version": "1.5.0",
            "value": " 4032/4032 [05:24&lt;00:00, 12.44it/s]",
            "_view_count": null,
            "_view_module_version": "1.5.0",
            "description_tooltip": null,
            "_model_module": "@jupyter-widgets/controls",
            "layout": "IPY_MODEL_058e7821e2e544f88ff8604206e33583"
          }
        },
        "3ec3fca408694bbf9ec446230fa3511e": {
          "model_module": "@jupyter-widgets/controls",
          "model_name": "ProgressStyleModel",
          "state": {
            "_view_name": "StyleView",
            "_model_name": "ProgressStyleModel",
            "description_width": "initial",
            "_view_module": "@jupyter-widgets/base",
            "_model_module_version": "1.5.0",
            "_view_count": null,
            "_view_module_version": "1.2.0",
            "bar_color": null,
            "_model_module": "@jupyter-widgets/controls"
          }
        },
        "a08fe31e51a64e92aaec27e62e85ef67": {
          "model_module": "@jupyter-widgets/base",
          "model_name": "LayoutModel",
          "state": {
            "_view_name": "LayoutView",
            "grid_template_rows": null,
            "right": null,
            "justify_content": null,
            "_view_module": "@jupyter-widgets/base",
            "overflow": null,
            "_model_module_version": "1.2.0",
            "_view_count": null,
            "flex_flow": null,
            "width": null,
            "min_width": null,
            "border": null,
            "align_items": null,
            "bottom": null,
            "_model_module": "@jupyter-widgets/base",
            "top": null,
            "grid_column": null,
            "overflow_y": null,
            "overflow_x": null,
            "grid_auto_flow": null,
            "grid_area": null,
            "grid_template_columns": null,
            "flex": null,
            "_model_name": "LayoutModel",
            "justify_items": null,
            "grid_row": null,
            "max_height": null,
            "align_content": null,
            "visibility": null,
            "align_self": null,
            "height": null,
            "min_height": null,
            "padding": null,
            "grid_auto_rows": null,
            "grid_gap": null,
            "max_width": null,
            "order": null,
            "_view_module_version": "1.2.0",
            "grid_template_areas": null,
            "object_position": null,
            "object_fit": null,
            "grid_auto_columns": null,
            "margin": null,
            "display": null,
            "left": null
          }
        },
        "45685693451c4f74b95cba0ce915f01f": {
          "model_module": "@jupyter-widgets/controls",
          "model_name": "DescriptionStyleModel",
          "state": {
            "_view_name": "StyleView",
            "_model_name": "DescriptionStyleModel",
            "description_width": "",
            "_view_module": "@jupyter-widgets/base",
            "_model_module_version": "1.5.0",
            "_view_count": null,
            "_view_module_version": "1.2.0",
            "_model_module": "@jupyter-widgets/controls"
          }
        },
        "058e7821e2e544f88ff8604206e33583": {
          "model_module": "@jupyter-widgets/base",
          "model_name": "LayoutModel",
          "state": {
            "_view_name": "LayoutView",
            "grid_template_rows": null,
            "right": null,
            "justify_content": null,
            "_view_module": "@jupyter-widgets/base",
            "overflow": null,
            "_model_module_version": "1.2.0",
            "_view_count": null,
            "flex_flow": null,
            "width": null,
            "min_width": null,
            "border": null,
            "align_items": null,
            "bottom": null,
            "_model_module": "@jupyter-widgets/base",
            "top": null,
            "grid_column": null,
            "overflow_y": null,
            "overflow_x": null,
            "grid_auto_flow": null,
            "grid_area": null,
            "grid_template_columns": null,
            "flex": null,
            "_model_name": "LayoutModel",
            "justify_items": null,
            "grid_row": null,
            "max_height": null,
            "align_content": null,
            "visibility": null,
            "align_self": null,
            "height": null,
            "min_height": null,
            "padding": null,
            "grid_auto_rows": null,
            "grid_gap": null,
            "max_width": null,
            "order": null,
            "_view_module_version": "1.2.0",
            "grid_template_areas": null,
            "object_position": null,
            "object_fit": null,
            "grid_auto_columns": null,
            "margin": null,
            "display": null,
            "left": null
          }
        },
        "7a54083bfb3344aa8d15079437db501a": {
          "model_module": "@jupyter-widgets/controls",
          "model_name": "HBoxModel",
          "state": {
            "_dom_classes": [],
            "_model_module": "@jupyter-widgets/controls",
            "_model_module_version": "1.5.0",
            "_model_name": "HBoxModel",
            "_view_count": null,
            "_view_module": "@jupyter-widgets/controls",
            "_view_module_version": "1.5.0",
            "_view_name": "HBoxView",
            "box_style": "",
            "children": [
              "IPY_MODEL_98e83c1ee4844d9f887e1b485a1053ca",
              "IPY_MODEL_922addb05eff4c62bf142e64beaae9cd"
            ],
            "layout": "IPY_MODEL_b7f7286d02a24471b767abba500e393e"
          }
        },
        "98e83c1ee4844d9f887e1b485a1053ca": {
          "model_module": "@jupyter-widgets/controls",
          "model_name": "FloatProgressModel",
          "state": {
            "_dom_classes": [],
            "_model_module": "@jupyter-widgets/controls",
            "_model_module_version": "1.5.0",
            "_model_name": "FloatProgressModel",
            "_view_count": null,
            "_view_module": "@jupyter-widgets/controls",
            "_view_module_version": "1.5.0",
            "_view_name": "ProgressView",
            "bar_style": "success",
            "description": "100%",
            "description_tooltip": null,
            "layout": "IPY_MODEL_7105a7b475fc46b68a6145cc28650181",
            "max": 2552,
            "min": 0,
            "orientation": "horizontal",
            "style": "IPY_MODEL_b33c62bdf730474d9bfecf2664b7add1",
            "value": 2552
          }
        },
        "922addb05eff4c62bf142e64beaae9cd": {
          "model_module": "@jupyter-widgets/controls",
          "model_name": "HTMLModel",
          "state": {
            "_dom_classes": [],
            "_model_module": "@jupyter-widgets/controls",
            "_model_module_version": "1.5.0",
            "_model_name": "HTMLModel",
            "_view_count": null,
            "_view_module": "@jupyter-widgets/controls",
            "_view_module_version": "1.5.0",
            "_view_name": "HTMLView",
            "description": "",
            "description_tooltip": null,
            "layout": "IPY_MODEL_4641eb00591649f5bd5d758bfa0a9ea5",
            "placeholder": "​",
            "style": "IPY_MODEL_17588ca7737c45b0b53c541ad75bdc6c",
            "value": " 2552/2552 [01:53&lt;00:00, 22.50it/s]"
          }
        },
        "b7f7286d02a24471b767abba500e393e": {
          "model_module": "@jupyter-widgets/base",
          "model_name": "LayoutModel",
          "state": {
            "_model_module": "@jupyter-widgets/base",
            "_model_module_version": "1.2.0",
            "_model_name": "LayoutModel",
            "_view_count": null,
            "_view_module": "@jupyter-widgets/base",
            "_view_module_version": "1.2.0",
            "_view_name": "LayoutView",
            "align_content": null,
            "align_items": null,
            "align_self": null,
            "border": null,
            "bottom": null,
            "display": null,
            "flex": null,
            "flex_flow": null,
            "grid_area": null,
            "grid_auto_columns": null,
            "grid_auto_flow": null,
            "grid_auto_rows": null,
            "grid_column": null,
            "grid_gap": null,
            "grid_row": null,
            "grid_template_areas": null,
            "grid_template_columns": null,
            "grid_template_rows": null,
            "height": null,
            "justify_content": null,
            "justify_items": null,
            "left": null,
            "margin": null,
            "max_height": null,
            "max_width": null,
            "min_height": null,
            "min_width": null,
            "object_fit": null,
            "object_position": null,
            "order": null,
            "overflow": null,
            "overflow_x": null,
            "overflow_y": null,
            "padding": null,
            "right": null,
            "top": null,
            "visibility": null,
            "width": null
          }
        },
        "7105a7b475fc46b68a6145cc28650181": {
          "model_module": "@jupyter-widgets/base",
          "model_name": "LayoutModel",
          "state": {
            "_model_module": "@jupyter-widgets/base",
            "_model_module_version": "1.2.0",
            "_model_name": "LayoutModel",
            "_view_count": null,
            "_view_module": "@jupyter-widgets/base",
            "_view_module_version": "1.2.0",
            "_view_name": "LayoutView",
            "align_content": null,
            "align_items": null,
            "align_self": null,
            "border": null,
            "bottom": null,
            "display": null,
            "flex": null,
            "flex_flow": null,
            "grid_area": null,
            "grid_auto_columns": null,
            "grid_auto_flow": null,
            "grid_auto_rows": null,
            "grid_column": null,
            "grid_gap": null,
            "grid_row": null,
            "grid_template_areas": null,
            "grid_template_columns": null,
            "grid_template_rows": null,
            "height": null,
            "justify_content": null,
            "justify_items": null,
            "left": null,
            "margin": null,
            "max_height": null,
            "max_width": null,
            "min_height": null,
            "min_width": null,
            "object_fit": null,
            "object_position": null,
            "order": null,
            "overflow": null,
            "overflow_x": null,
            "overflow_y": null,
            "padding": null,
            "right": null,
            "top": null,
            "visibility": null,
            "width": null
          }
        },
        "b33c62bdf730474d9bfecf2664b7add1": {
          "model_module": "@jupyter-widgets/controls",
          "model_name": "ProgressStyleModel",
          "state": {
            "_model_module": "@jupyter-widgets/controls",
            "_model_module_version": "1.5.0",
            "_model_name": "ProgressStyleModel",
            "_view_count": null,
            "_view_module": "@jupyter-widgets/base",
            "_view_module_version": "1.2.0",
            "_view_name": "StyleView",
            "bar_color": null,
            "description_width": "initial"
          }
        },
        "4641eb00591649f5bd5d758bfa0a9ea5": {
          "model_module": "@jupyter-widgets/base",
          "model_name": "LayoutModel",
          "state": {
            "_model_module": "@jupyter-widgets/base",
            "_model_module_version": "1.2.0",
            "_model_name": "LayoutModel",
            "_view_count": null,
            "_view_module": "@jupyter-widgets/base",
            "_view_module_version": "1.2.0",
            "_view_name": "LayoutView",
            "align_content": null,
            "align_items": null,
            "align_self": null,
            "border": null,
            "bottom": null,
            "display": null,
            "flex": null,
            "flex_flow": null,
            "grid_area": null,
            "grid_auto_columns": null,
            "grid_auto_flow": null,
            "grid_auto_rows": null,
            "grid_column": null,
            "grid_gap": null,
            "grid_row": null,
            "grid_template_areas": null,
            "grid_template_columns": null,
            "grid_template_rows": null,
            "height": null,
            "justify_content": null,
            "justify_items": null,
            "left": null,
            "margin": null,
            "max_height": null,
            "max_width": null,
            "min_height": null,
            "min_width": null,
            "object_fit": null,
            "object_position": null,
            "order": null,
            "overflow": null,
            "overflow_x": null,
            "overflow_y": null,
            "padding": null,
            "right": null,
            "top": null,
            "visibility": null,
            "width": null
          }
        },
        "17588ca7737c45b0b53c541ad75bdc6c": {
          "model_module": "@jupyter-widgets/controls",
          "model_name": "DescriptionStyleModel",
          "state": {
            "_model_module": "@jupyter-widgets/controls",
            "_model_module_version": "1.5.0",
            "_model_name": "DescriptionStyleModel",
            "_view_count": null,
            "_view_module": "@jupyter-widgets/base",
            "_view_module_version": "1.2.0",
            "_view_name": "StyleView",
            "description_width": ""
          }
        },
        "a45b4e4b17fb452c82f6fde5fda82288": {
          "model_module": "@jupyter-widgets/controls",
          "model_name": "HBoxModel",
          "state": {
            "_dom_classes": [],
            "_model_module": "@jupyter-widgets/controls",
            "_model_module_version": "1.5.0",
            "_model_name": "HBoxModel",
            "_view_count": null,
            "_view_module": "@jupyter-widgets/controls",
            "_view_module_version": "1.5.0",
            "_view_name": "HBoxView",
            "box_style": "",
            "children": [
              "IPY_MODEL_c3319b16979b45fb9156157629cea6cd",
              "IPY_MODEL_139639eda5b8422bad61609e0a033dcb"
            ],
            "layout": "IPY_MODEL_fe7169638f8a4099b599d86dd1a69810"
          }
        },
        "c3319b16979b45fb9156157629cea6cd": {
          "model_module": "@jupyter-widgets/controls",
          "model_name": "FloatProgressModel",
          "state": {
            "_dom_classes": [],
            "_model_module": "@jupyter-widgets/controls",
            "_model_module_version": "1.5.0",
            "_model_name": "FloatProgressModel",
            "_view_count": null,
            "_view_module": "@jupyter-widgets/controls",
            "_view_module_version": "1.5.0",
            "_view_name": "ProgressView",
            "bar_style": "success",
            "description": "100%",
            "description_tooltip": null,
            "layout": "IPY_MODEL_3c38fa103ebd4c2d9e228d56e904830e",
            "max": 1055,
            "min": 0,
            "orientation": "horizontal",
            "style": "IPY_MODEL_3713ce1ecc4e43aeb62b5b6692e41aa0",
            "value": 1055
          }
        },
        "139639eda5b8422bad61609e0a033dcb": {
          "model_module": "@jupyter-widgets/controls",
          "model_name": "HTMLModel",
          "state": {
            "_dom_classes": [],
            "_model_module": "@jupyter-widgets/controls",
            "_model_module_version": "1.5.0",
            "_model_name": "HTMLModel",
            "_view_count": null,
            "_view_module": "@jupyter-widgets/controls",
            "_view_module_version": "1.5.0",
            "_view_name": "HTMLView",
            "description": "",
            "description_tooltip": null,
            "layout": "IPY_MODEL_7fb26f42636f466cb0ca3266f2bc8188",
            "placeholder": "​",
            "style": "IPY_MODEL_b3494c685aa948e191097e77419e5a7e",
            "value": " 1055/1055 [00:47&lt;00:00, 22.44it/s]"
          }
        },
        "fe7169638f8a4099b599d86dd1a69810": {
          "model_module": "@jupyter-widgets/base",
          "model_name": "LayoutModel",
          "state": {
            "_model_module": "@jupyter-widgets/base",
            "_model_module_version": "1.2.0",
            "_model_name": "LayoutModel",
            "_view_count": null,
            "_view_module": "@jupyter-widgets/base",
            "_view_module_version": "1.2.0",
            "_view_name": "LayoutView",
            "align_content": null,
            "align_items": null,
            "align_self": null,
            "border": null,
            "bottom": null,
            "display": null,
            "flex": null,
            "flex_flow": null,
            "grid_area": null,
            "grid_auto_columns": null,
            "grid_auto_flow": null,
            "grid_auto_rows": null,
            "grid_column": null,
            "grid_gap": null,
            "grid_row": null,
            "grid_template_areas": null,
            "grid_template_columns": null,
            "grid_template_rows": null,
            "height": null,
            "justify_content": null,
            "justify_items": null,
            "left": null,
            "margin": null,
            "max_height": null,
            "max_width": null,
            "min_height": null,
            "min_width": null,
            "object_fit": null,
            "object_position": null,
            "order": null,
            "overflow": null,
            "overflow_x": null,
            "overflow_y": null,
            "padding": null,
            "right": null,
            "top": null,
            "visibility": null,
            "width": null
          }
        },
        "3c38fa103ebd4c2d9e228d56e904830e": {
          "model_module": "@jupyter-widgets/base",
          "model_name": "LayoutModel",
          "state": {
            "_model_module": "@jupyter-widgets/base",
            "_model_module_version": "1.2.0",
            "_model_name": "LayoutModel",
            "_view_count": null,
            "_view_module": "@jupyter-widgets/base",
            "_view_module_version": "1.2.0",
            "_view_name": "LayoutView",
            "align_content": null,
            "align_items": null,
            "align_self": null,
            "border": null,
            "bottom": null,
            "display": null,
            "flex": null,
            "flex_flow": null,
            "grid_area": null,
            "grid_auto_columns": null,
            "grid_auto_flow": null,
            "grid_auto_rows": null,
            "grid_column": null,
            "grid_gap": null,
            "grid_row": null,
            "grid_template_areas": null,
            "grid_template_columns": null,
            "grid_template_rows": null,
            "height": null,
            "justify_content": null,
            "justify_items": null,
            "left": null,
            "margin": null,
            "max_height": null,
            "max_width": null,
            "min_height": null,
            "min_width": null,
            "object_fit": null,
            "object_position": null,
            "order": null,
            "overflow": null,
            "overflow_x": null,
            "overflow_y": null,
            "padding": null,
            "right": null,
            "top": null,
            "visibility": null,
            "width": null
          }
        },
        "3713ce1ecc4e43aeb62b5b6692e41aa0": {
          "model_module": "@jupyter-widgets/controls",
          "model_name": "ProgressStyleModel",
          "state": {
            "_model_module": "@jupyter-widgets/controls",
            "_model_module_version": "1.5.0",
            "_model_name": "ProgressStyleModel",
            "_view_count": null,
            "_view_module": "@jupyter-widgets/base",
            "_view_module_version": "1.2.0",
            "_view_name": "StyleView",
            "bar_color": null,
            "description_width": "initial"
          }
        },
        "7fb26f42636f466cb0ca3266f2bc8188": {
          "model_module": "@jupyter-widgets/base",
          "model_name": "LayoutModel",
          "state": {
            "_model_module": "@jupyter-widgets/base",
            "_model_module_version": "1.2.0",
            "_model_name": "LayoutModel",
            "_view_count": null,
            "_view_module": "@jupyter-widgets/base",
            "_view_module_version": "1.2.0",
            "_view_name": "LayoutView",
            "align_content": null,
            "align_items": null,
            "align_self": null,
            "border": null,
            "bottom": null,
            "display": null,
            "flex": null,
            "flex_flow": null,
            "grid_area": null,
            "grid_auto_columns": null,
            "grid_auto_flow": null,
            "grid_auto_rows": null,
            "grid_column": null,
            "grid_gap": null,
            "grid_row": null,
            "grid_template_areas": null,
            "grid_template_columns": null,
            "grid_template_rows": null,
            "height": null,
            "justify_content": null,
            "justify_items": null,
            "left": null,
            "margin": null,
            "max_height": null,
            "max_width": null,
            "min_height": null,
            "min_width": null,
            "object_fit": null,
            "object_position": null,
            "order": null,
            "overflow": null,
            "overflow_x": null,
            "overflow_y": null,
            "padding": null,
            "right": null,
            "top": null,
            "visibility": null,
            "width": null
          }
        },
        "b3494c685aa948e191097e77419e5a7e": {
          "model_module": "@jupyter-widgets/controls",
          "model_name": "DescriptionStyleModel",
          "state": {
            "_model_module": "@jupyter-widgets/controls",
            "_model_module_version": "1.5.0",
            "_model_name": "DescriptionStyleModel",
            "_view_count": null,
            "_view_module": "@jupyter-widgets/base",
            "_view_module_version": "1.2.0",
            "_view_name": "StyleView",
            "description_width": ""
          }
        }
      }
    },
    "accelerator": "GPU"
  },
  "cells": [
    {
      "cell_type": "markdown",
      "metadata": {
        "id": "view-in-github",
        "colab_type": "text"
      },
      "source": [
        "<a href=\"https://colab.research.google.com/github/anindabitm/zindi_yield_prediction/blob/main/yield_nb.ipynb\" target=\"_parent\"><img src=\"https://colab.research.google.com/assets/colab-badge.svg\" alt=\"Open In Colab\"/></a>"
      ]
    },
    {
      "cell_type": "code",
      "metadata": {
        "colab": {
          "base_uri": "https://localhost:8080/"
        },
        "id": "st7WD2MNhcJh",
        "outputId": "ad5e9a6c-957b-439d-f926-4112553bf5ef"
      },
      "source": [
        "from google.colab import drive\r\n",
        "drive.mount('/content/drive')\r\n",
        "import os"
      ],
      "execution_count": null,
      "outputs": [
        {
          "output_type": "stream",
          "text": [
            "Mounted at /content/drive\n"
          ],
          "name": "stdout"
        }
      ]
    },
    {
      "cell_type": "code",
      "metadata": {
        "id": "af9giedbRwF7"
      },
      "source": [
        "import pandas as pd\r\n",
        "import gc\r\n",
        "import numpy as np\r\n",
        "from matplotlib import pyplot as plt\r\n",
        "from tqdm.notebook import tqdm\r\n",
        "from sklearn.preprocessing import StandardScaler,LabelEncoder\r\n",
        "import glob\r\n",
        "import re\r\n",
        "import tensorflow as tf\r\n",
        "from tensorflow import keras\r\n",
        "from tensorflow.keras.callbacks import Callback, EarlyStopping, ReduceLROnPlateau, ModelCheckpoint\r\n",
        "from tensorflow.keras import backend as K\r\n",
        "from keras.layers import Dense,Conv2D,TimeDistributed,Flatten,Input,AvgPool2D,LSTM,LeakyReLU,Concatenate,Dropout,Embedding\r\n",
        "from keras import Model"
      ],
      "execution_count": null,
      "outputs": []
    },
    {
      "cell_type": "code",
      "metadata": {
        "id": "ELAr__rVQ2SV"
      },
      "source": [
        "data = pd.read_csv('/content/drive/My Drive/yield-estimate/Train.csv')\r\n",
        "data['train'] = 1\r\n",
        "test = pd.read_csv('/content/drive/My Drive/yield-estimate/test_field_ids_with_year.csv')\r\n",
        "test['Quality'] = 3\r\n",
        "test['train'] = 0"
      ],
      "execution_count": null,
      "outputs": []
    },
    {
      "cell_type": "code",
      "metadata": {
        "id": "v4A4Kys7LZGV"
      },
      "source": [
        "addl_data = pd.read_csv('/content/drive/My Drive/yield-estimate/fields_w_additional_info.csv')"
      ],
      "execution_count": null,
      "outputs": []
    },
    {
      "cell_type": "code",
      "metadata": {
        "colab": {
          "base_uri": "https://localhost:8080/",
          "height": 241
        },
        "id": "97DphGNuLoSv",
        "outputId": "d5784efd-9ff1-4ccd-8fa2-68afd057b50e"
      },
      "source": [
        "soil = addl_data.iloc[:,:12]\r\n",
        "soil.head()"
      ],
      "execution_count": null,
      "outputs": [
        {
          "output_type": "execute_result",
          "data": {
            "text/html": [
              "<div>\n",
              "<style scoped>\n",
              "    .dataframe tbody tr th:only-of-type {\n",
              "        vertical-align: middle;\n",
              "    }\n",
              "\n",
              "    .dataframe tbody tr th {\n",
              "        vertical-align: top;\n",
              "    }\n",
              "\n",
              "    .dataframe thead th {\n",
              "        text-align: right;\n",
              "    }\n",
              "</style>\n",
              "<table border=\"1\" class=\"dataframe\">\n",
              "  <thead>\n",
              "    <tr style=\"text-align: right;\">\n",
              "      <th></th>\n",
              "      <th>Field_ID</th>\n",
              "      <th>soil_bdod_5-15cm_mean</th>\n",
              "      <th>soil_cec_5-15cm_mean</th>\n",
              "      <th>soil_cfvo_5-15cm_mean</th>\n",
              "      <th>soil_clay_5-15cm_mean</th>\n",
              "      <th>soil_nitrogen_5-15cm_mean</th>\n",
              "      <th>soil_ocd_5-15cm_mean</th>\n",
              "      <th>soil_ocs_0-30cm_mean</th>\n",
              "      <th>soil_phh2o_5-15cm_mean</th>\n",
              "      <th>soil_sand_5-15cm_mean</th>\n",
              "      <th>soil_silt_5-15cm_mean</th>\n",
              "      <th>soil_soc_5-15cm_mean</th>\n",
              "    </tr>\n",
              "  </thead>\n",
              "  <tbody>\n",
              "    <tr>\n",
              "      <th>0</th>\n",
              "      <td>MH2O0YH</td>\n",
              "      <td>118.0</td>\n",
              "      <td>257.0</td>\n",
              "      <td>85.0</td>\n",
              "      <td>463.0</td>\n",
              "      <td>2458.0</td>\n",
              "      <td>323.0</td>\n",
              "      <td>57.0</td>\n",
              "      <td>59.0</td>\n",
              "      <td>308.0</td>\n",
              "      <td>229.0</td>\n",
              "      <td>330.0</td>\n",
              "    </tr>\n",
              "    <tr>\n",
              "      <th>1</th>\n",
              "      <td>O9TURWL</td>\n",
              "      <td>120.0</td>\n",
              "      <td>288.0</td>\n",
              "      <td>84.0</td>\n",
              "      <td>462.0</td>\n",
              "      <td>2108.0</td>\n",
              "      <td>306.0</td>\n",
              "      <td>58.0</td>\n",
              "      <td>61.0</td>\n",
              "      <td>243.0</td>\n",
              "      <td>295.0</td>\n",
              "      <td>280.0</td>\n",
              "    </tr>\n",
              "    <tr>\n",
              "      <th>2</th>\n",
              "      <td>35AFSDD</td>\n",
              "      <td>120.0</td>\n",
              "      <td>263.0</td>\n",
              "      <td>102.0</td>\n",
              "      <td>495.0</td>\n",
              "      <td>1991.0</td>\n",
              "      <td>288.0</td>\n",
              "      <td>58.0</td>\n",
              "      <td>60.0</td>\n",
              "      <td>271.0</td>\n",
              "      <td>234.0</td>\n",
              "      <td>284.0</td>\n",
              "    </tr>\n",
              "    <tr>\n",
              "      <th>3</th>\n",
              "      <td>PM05EG9</td>\n",
              "      <td>122.0</td>\n",
              "      <td>206.0</td>\n",
              "      <td>66.0</td>\n",
              "      <td>431.0</td>\n",
              "      <td>2432.0</td>\n",
              "      <td>337.0</td>\n",
              "      <td>65.0</td>\n",
              "      <td>57.0</td>\n",
              "      <td>332.0</td>\n",
              "      <td>237.0</td>\n",
              "      <td>335.0</td>\n",
              "    </tr>\n",
              "    <tr>\n",
              "      <th>4</th>\n",
              "      <td>V7PZBCG</td>\n",
              "      <td>124.0</td>\n",
              "      <td>167.0</td>\n",
              "      <td>116.0</td>\n",
              "      <td>439.0</td>\n",
              "      <td>566.0</td>\n",
              "      <td>302.0</td>\n",
              "      <td>53.0</td>\n",
              "      <td>56.0</td>\n",
              "      <td>326.0</td>\n",
              "      <td>235.0</td>\n",
              "      <td>187.0</td>\n",
              "    </tr>\n",
              "  </tbody>\n",
              "</table>\n",
              "</div>"
            ],
            "text/plain": [
              "  Field_ID  soil_bdod_5-15cm_mean  ...  soil_silt_5-15cm_mean  soil_soc_5-15cm_mean\n",
              "0  MH2O0YH                  118.0  ...                  229.0                 330.0\n",
              "1  O9TURWL                  120.0  ...                  295.0                 280.0\n",
              "2  35AFSDD                  120.0  ...                  234.0                 284.0\n",
              "3  PM05EG9                  122.0  ...                  237.0                 335.0\n",
              "4  V7PZBCG                  124.0  ...                  235.0                 187.0\n",
              "\n",
              "[5 rows x 12 columns]"
            ]
          },
          "metadata": {
            "tags": []
          },
          "execution_count": 21
        }
      ]
    },
    {
      "cell_type": "code",
      "metadata": {
        "colab": {
          "base_uri": "https://localhost:8080/",
          "height": 241
        },
        "id": "tKcPkE8QM8Ho",
        "outputId": "0a58a60a-07da-4dbe-c6ba-e65655c072b8"
      },
      "source": [
        "soil['Quality'] = np.concatenate((data.Quality.values,test.Quality.values))\r\n",
        "soil.head()"
      ],
      "execution_count": null,
      "outputs": [
        {
          "output_type": "execute_result",
          "data": {
            "text/html": [
              "<div>\n",
              "<style scoped>\n",
              "    .dataframe tbody tr th:only-of-type {\n",
              "        vertical-align: middle;\n",
              "    }\n",
              "\n",
              "    .dataframe tbody tr th {\n",
              "        vertical-align: top;\n",
              "    }\n",
              "\n",
              "    .dataframe thead th {\n",
              "        text-align: right;\n",
              "    }\n",
              "</style>\n",
              "<table border=\"1\" class=\"dataframe\">\n",
              "  <thead>\n",
              "    <tr style=\"text-align: right;\">\n",
              "      <th></th>\n",
              "      <th>Field_ID</th>\n",
              "      <th>soil_bdod_5-15cm_mean</th>\n",
              "      <th>soil_cec_5-15cm_mean</th>\n",
              "      <th>soil_cfvo_5-15cm_mean</th>\n",
              "      <th>soil_clay_5-15cm_mean</th>\n",
              "      <th>soil_nitrogen_5-15cm_mean</th>\n",
              "      <th>soil_ocd_5-15cm_mean</th>\n",
              "      <th>soil_ocs_0-30cm_mean</th>\n",
              "      <th>soil_phh2o_5-15cm_mean</th>\n",
              "      <th>soil_sand_5-15cm_mean</th>\n",
              "      <th>soil_silt_5-15cm_mean</th>\n",
              "      <th>soil_soc_5-15cm_mean</th>\n",
              "      <th>Quality</th>\n",
              "    </tr>\n",
              "  </thead>\n",
              "  <tbody>\n",
              "    <tr>\n",
              "      <th>0</th>\n",
              "      <td>MH2O0YH</td>\n",
              "      <td>118.0</td>\n",
              "      <td>257.0</td>\n",
              "      <td>85.0</td>\n",
              "      <td>463.0</td>\n",
              "      <td>2458.0</td>\n",
              "      <td>323.0</td>\n",
              "      <td>57.0</td>\n",
              "      <td>59.0</td>\n",
              "      <td>308.0</td>\n",
              "      <td>229.0</td>\n",
              "      <td>330.0</td>\n",
              "      <td>3</td>\n",
              "    </tr>\n",
              "    <tr>\n",
              "      <th>1</th>\n",
              "      <td>O9TURWL</td>\n",
              "      <td>120.0</td>\n",
              "      <td>288.0</td>\n",
              "      <td>84.0</td>\n",
              "      <td>462.0</td>\n",
              "      <td>2108.0</td>\n",
              "      <td>306.0</td>\n",
              "      <td>58.0</td>\n",
              "      <td>61.0</td>\n",
              "      <td>243.0</td>\n",
              "      <td>295.0</td>\n",
              "      <td>280.0</td>\n",
              "      <td>2</td>\n",
              "    </tr>\n",
              "    <tr>\n",
              "      <th>2</th>\n",
              "      <td>35AFSDD</td>\n",
              "      <td>120.0</td>\n",
              "      <td>263.0</td>\n",
              "      <td>102.0</td>\n",
              "      <td>495.0</td>\n",
              "      <td>1991.0</td>\n",
              "      <td>288.0</td>\n",
              "      <td>58.0</td>\n",
              "      <td>60.0</td>\n",
              "      <td>271.0</td>\n",
              "      <td>234.0</td>\n",
              "      <td>284.0</td>\n",
              "      <td>3</td>\n",
              "    </tr>\n",
              "    <tr>\n",
              "      <th>3</th>\n",
              "      <td>PM05EG9</td>\n",
              "      <td>122.0</td>\n",
              "      <td>206.0</td>\n",
              "      <td>66.0</td>\n",
              "      <td>431.0</td>\n",
              "      <td>2432.0</td>\n",
              "      <td>337.0</td>\n",
              "      <td>65.0</td>\n",
              "      <td>57.0</td>\n",
              "      <td>332.0</td>\n",
              "      <td>237.0</td>\n",
              "      <td>335.0</td>\n",
              "      <td>2</td>\n",
              "    </tr>\n",
              "    <tr>\n",
              "      <th>4</th>\n",
              "      <td>V7PZBCG</td>\n",
              "      <td>124.0</td>\n",
              "      <td>167.0</td>\n",
              "      <td>116.0</td>\n",
              "      <td>439.0</td>\n",
              "      <td>566.0</td>\n",
              "      <td>302.0</td>\n",
              "      <td>53.0</td>\n",
              "      <td>56.0</td>\n",
              "      <td>326.0</td>\n",
              "      <td>235.0</td>\n",
              "      <td>187.0</td>\n",
              "      <td>2</td>\n",
              "    </tr>\n",
              "  </tbody>\n",
              "</table>\n",
              "</div>"
            ],
            "text/plain": [
              "  Field_ID  soil_bdod_5-15cm_mean  ...  soil_soc_5-15cm_mean  Quality\n",
              "0  MH2O0YH                  118.0  ...                 330.0        3\n",
              "1  O9TURWL                  120.0  ...                 280.0        2\n",
              "2  35AFSDD                  120.0  ...                 284.0        3\n",
              "3  PM05EG9                  122.0  ...                 335.0        2\n",
              "4  V7PZBCG                  124.0  ...                 187.0        2\n",
              "\n",
              "[5 rows x 13 columns]"
            ]
          },
          "metadata": {
            "tags": []
          },
          "execution_count": 28
        }
      ]
    },
    {
      "cell_type": "code",
      "metadata": {
        "id": "ASJuu7fbj4Pa"
      },
      "source": [
        "soil.to_csv('/content/drive/My Drive/yield-estimate/Soil.csv',index=False)"
      ],
      "execution_count": null,
      "outputs": []
    },
    {
      "cell_type": "code",
      "metadata": {
        "colab": {
          "base_uri": "https://localhost:8080/"
        },
        "id": "i0zu0fhSQkcd",
        "outputId": "13ca7392-3d69-4190-d4b9-1979ffd66e95"
      },
      "source": [
        "data.drop(['Yield'],axis=1,inplace=True)\r\n",
        "data.shape"
      ],
      "execution_count": null,
      "outputs": [
        {
          "output_type": "execute_result",
          "data": {
            "text/plain": [
              "(2977, 4)"
            ]
          },
          "metadata": {
            "tags": []
          },
          "execution_count": 33
        }
      ]
    },
    {
      "cell_type": "code",
      "metadata": {
        "colab": {
          "base_uri": "https://localhost:8080/",
          "height": 204
        },
        "id": "moAo9r59RHAp",
        "outputId": "ce1c7f49-8df4-4eb4-8f23-ca74ec15480a"
      },
      "source": [
        "data = pd.concat([data,test]).reset_index(drop=True)\r\n",
        "data.head()"
      ],
      "execution_count": null,
      "outputs": [
        {
          "output_type": "execute_result",
          "data": {
            "text/html": [
              "<div>\n",
              "<style scoped>\n",
              "    .dataframe tbody tr th:only-of-type {\n",
              "        vertical-align: middle;\n",
              "    }\n",
              "\n",
              "    .dataframe tbody tr th {\n",
              "        vertical-align: top;\n",
              "    }\n",
              "\n",
              "    .dataframe thead th {\n",
              "        text-align: right;\n",
              "    }\n",
              "</style>\n",
              "<table border=\"1\" class=\"dataframe\">\n",
              "  <thead>\n",
              "    <tr style=\"text-align: right;\">\n",
              "      <th></th>\n",
              "      <th>Field_ID</th>\n",
              "      <th>Year</th>\n",
              "      <th>Quality</th>\n",
              "      <th>train</th>\n",
              "    </tr>\n",
              "  </thead>\n",
              "  <tbody>\n",
              "    <tr>\n",
              "      <th>0</th>\n",
              "      <td>MH2O0YH</td>\n",
              "      <td>2019</td>\n",
              "      <td>3</td>\n",
              "      <td>1</td>\n",
              "    </tr>\n",
              "    <tr>\n",
              "      <th>1</th>\n",
              "      <td>O9TURWL</td>\n",
              "      <td>2019</td>\n",
              "      <td>2</td>\n",
              "      <td>1</td>\n",
              "    </tr>\n",
              "    <tr>\n",
              "      <th>2</th>\n",
              "      <td>35AFSDD</td>\n",
              "      <td>2019</td>\n",
              "      <td>3</td>\n",
              "      <td>1</td>\n",
              "    </tr>\n",
              "    <tr>\n",
              "      <th>3</th>\n",
              "      <td>PM05EG9</td>\n",
              "      <td>2019</td>\n",
              "      <td>2</td>\n",
              "      <td>1</td>\n",
              "    </tr>\n",
              "    <tr>\n",
              "      <th>4</th>\n",
              "      <td>V7PZBCG</td>\n",
              "      <td>2019</td>\n",
              "      <td>2</td>\n",
              "      <td>1</td>\n",
              "    </tr>\n",
              "  </tbody>\n",
              "</table>\n",
              "</div>"
            ],
            "text/plain": [
              "  Field_ID  Year  Quality  train\n",
              "0  MH2O0YH  2019        3      1\n",
              "1  O9TURWL  2019        2      1\n",
              "2  35AFSDD  2019        3      1\n",
              "3  PM05EG9  2019        2      1\n",
              "4  V7PZBCG  2019        2      1"
            ]
          },
          "metadata": {
            "tags": []
          },
          "execution_count": 34
        }
      ]
    },
    {
      "cell_type": "code",
      "metadata": {
        "id": "7p25GPaBMBZ3"
      },
      "source": [
        "climate=pd.DataFrame()\r\n",
        "climate['Field_ID'] = addl_data['Field_ID']\r\n",
        "climate['Year'] = data['Year']\r\n",
        "climate['Quality'] = data['Quality']"
      ],
      "execution_count": null,
      "outputs": []
    },
    {
      "cell_type": "code",
      "metadata": {
        "colab": {
          "base_uri": "https://localhost:8080/",
          "height": 302,
          "referenced_widgets": [
            "14a162db65ca41db9a0fc888c1be243b",
            "505d8667d687418fa777807d7cb8b308",
            "357caaaafdcb4f3dbdea68e5295f9660",
            "fbec0a6a5b4d4ed7831bf5c04e0e2dd6",
            "3ec3fca408694bbf9ec446230fa3511e",
            "a08fe31e51a64e92aaec27e62e85ef67",
            "45685693451c4f74b95cba0ce915f01f",
            "058e7821e2e544f88ff8604206e33583"
          ]
        },
        "id": "2KjyKRVQL5eG",
        "outputId": "12c35f71-9223-4647-8e05-1137406d02c5"
      },
      "source": [
        "cols = addl_data.columns[12:]\r\n",
        "cols = list(cols[:168])\r\n",
        "fea = []\r\n",
        "for col in cols:\r\n",
        "  fea.append(re.sub(\"_\\d+_\", \"\",col))\r\n",
        "\r\n",
        "for idx in tqdm(range(len(climate))):\r\n",
        "  year = climate.loc[idx,'Year']\r\n",
        "  field = climate.loc[idx,'Field_ID']\r\n",
        "  if (year == 2016):\r\n",
        "    col = list(range(12,180))\r\n",
        "  elif (year == 2017):\r\n",
        "    col = list(range(180,348))\r\n",
        "  elif (year == 2018):\r\n",
        "    col = list(range(348,516))\r\n",
        "  else:\r\n",
        "   col = list(range(516,684))\r\n",
        "\r\n",
        "  climate.loc[idx,fea] = addl_data.iloc[idx,col].values\r\n",
        "  \r\n",
        "climate.head()"
      ],
      "execution_count": null,
      "outputs": [
        {
          "output_type": "display_data",
          "data": {
            "application/vnd.jupyter.widget-view+json": {
              "model_id": "14a162db65ca41db9a0fc888c1be243b",
              "version_minor": 0,
              "version_major": 2
            },
            "text/plain": [
              "HBox(children=(FloatProgress(value=0.0, max=4032.0), HTML(value='')))"
            ]
          },
          "metadata": {
            "tags": []
          }
        },
        {
          "output_type": "stream",
          "text": [
            "\n"
          ],
          "name": "stdout"
        },
        {
          "output_type": "execute_result",
          "data": {
            "text/html": [
              "<div>\n",
              "<style scoped>\n",
              "    .dataframe tbody tr th:only-of-type {\n",
              "        vertical-align: middle;\n",
              "    }\n",
              "\n",
              "    .dataframe tbody tr th {\n",
              "        vertical-align: top;\n",
              "    }\n",
              "\n",
              "    .dataframe thead th {\n",
              "        text-align: right;\n",
              "    }\n",
              "</style>\n",
              "<table border=\"1\" class=\"dataframe\">\n",
              "  <thead>\n",
              "    <tr style=\"text-align: right;\">\n",
              "      <th></th>\n",
              "      <th>Field_ID</th>\n",
              "      <th>Year</th>\n",
              "      <th>Quality</th>\n",
              "      <th>climate1_aet</th>\n",
              "      <th>climate1_def</th>\n",
              "      <th>climate1_pdsi</th>\n",
              "      <th>climate1_pet</th>\n",
              "      <th>climate1_pr</th>\n",
              "      <th>climate1_ro</th>\n",
              "      <th>climate1_soil</th>\n",
              "      <th>climate1_srad</th>\n",
              "      <th>climate1_swe</th>\n",
              "      <th>climate1_tmmn</th>\n",
              "      <th>climate1_tmmx</th>\n",
              "      <th>climate1_vap</th>\n",
              "      <th>climate1_vpd</th>\n",
              "      <th>climate1_vs</th>\n",
              "      <th>climate2_aet</th>\n",
              "      <th>climate2_def</th>\n",
              "      <th>climate2_pdsi</th>\n",
              "      <th>climate2_pet</th>\n",
              "      <th>climate2_pr</th>\n",
              "      <th>climate2_ro</th>\n",
              "      <th>climate2_soil</th>\n",
              "      <th>climate2_srad</th>\n",
              "      <th>climate2_swe</th>\n",
              "      <th>climate2_tmmn</th>\n",
              "      <th>climate2_tmmx</th>\n",
              "      <th>climate2_vap</th>\n",
              "      <th>climate2_vpd</th>\n",
              "      <th>climate2_vs</th>\n",
              "      <th>climate3_aet</th>\n",
              "      <th>climate3_def</th>\n",
              "      <th>climate3_pdsi</th>\n",
              "      <th>climate3_pet</th>\n",
              "      <th>climate3_pr</th>\n",
              "      <th>climate3_ro</th>\n",
              "      <th>climate3_soil</th>\n",
              "      <th>climate3_srad</th>\n",
              "      <th>climate3_swe</th>\n",
              "      <th>...</th>\n",
              "      <th>climate10_pdsi</th>\n",
              "      <th>climate10_pet</th>\n",
              "      <th>climate10_pr</th>\n",
              "      <th>climate10_ro</th>\n",
              "      <th>climate10_soil</th>\n",
              "      <th>climate10_srad</th>\n",
              "      <th>climate10_swe</th>\n",
              "      <th>climate10_tmmn</th>\n",
              "      <th>climate10_tmmx</th>\n",
              "      <th>climate10_vap</th>\n",
              "      <th>climate10_vpd</th>\n",
              "      <th>climate10_vs</th>\n",
              "      <th>climate11_aet</th>\n",
              "      <th>climate11_def</th>\n",
              "      <th>climate11_pdsi</th>\n",
              "      <th>climate11_pet</th>\n",
              "      <th>climate11_pr</th>\n",
              "      <th>climate11_ro</th>\n",
              "      <th>climate11_soil</th>\n",
              "      <th>climate11_srad</th>\n",
              "      <th>climate11_swe</th>\n",
              "      <th>climate11_tmmn</th>\n",
              "      <th>climate11_tmmx</th>\n",
              "      <th>climate11_vap</th>\n",
              "      <th>climate11_vpd</th>\n",
              "      <th>climate11_vs</th>\n",
              "      <th>climate12_aet</th>\n",
              "      <th>climate12_def</th>\n",
              "      <th>climate12_pdsi</th>\n",
              "      <th>climate12_pet</th>\n",
              "      <th>climate12_pr</th>\n",
              "      <th>climate12_ro</th>\n",
              "      <th>climate12_soil</th>\n",
              "      <th>climate12_srad</th>\n",
              "      <th>climate12_swe</th>\n",
              "      <th>climate12_tmmn</th>\n",
              "      <th>climate12_tmmx</th>\n",
              "      <th>climate12_vap</th>\n",
              "      <th>climate12_vpd</th>\n",
              "      <th>climate12_vs</th>\n",
              "    </tr>\n",
              "  </thead>\n",
              "  <tbody>\n",
              "    <tr>\n",
              "      <th>0</th>\n",
              "      <td>MH2O0YH</td>\n",
              "      <td>2019</td>\n",
              "      <td>3</td>\n",
              "      <td>119.0</td>\n",
              "      <td>1405.0</td>\n",
              "      <td>370.0</td>\n",
              "      <td>1524.0</td>\n",
              "      <td>4.0</td>\n",
              "      <td>0.0</td>\n",
              "      <td>287.0</td>\n",
              "      <td>2543.0</td>\n",
              "      <td>0.0</td>\n",
              "      <td>112.0</td>\n",
              "      <td>285.0</td>\n",
              "      <td>1246.0</td>\n",
              "      <td>138.0</td>\n",
              "      <td>260.0</td>\n",
              "      <td>122.0</td>\n",
              "      <td>1367.0</td>\n",
              "      <td>260.0</td>\n",
              "      <td>1489.0</td>\n",
              "      <td>7.0</td>\n",
              "      <td>0.0</td>\n",
              "      <td>236.0</td>\n",
              "      <td>2609.0</td>\n",
              "      <td>0.0</td>\n",
              "      <td>116.0</td>\n",
              "      <td>297.0</td>\n",
              "      <td>1166.0</td>\n",
              "      <td>161.0</td>\n",
              "      <td>260.0</td>\n",
              "      <td>170.0</td>\n",
              "      <td>1464.0</td>\n",
              "      <td>120.0</td>\n",
              "      <td>1634.0</td>\n",
              "      <td>14.0</td>\n",
              "      <td>1.0</td>\n",
              "      <td>200.0</td>\n",
              "      <td>2585.0</td>\n",
              "      <td>0.0</td>\n",
              "      <td>...</td>\n",
              "      <td>-600.0</td>\n",
              "      <td>1191.0</td>\n",
              "      <td>96.0</td>\n",
              "      <td>5.0</td>\n",
              "      <td>99.0</td>\n",
              "      <td>2057.0</td>\n",
              "      <td>0.0</td>\n",
              "      <td>109.0</td>\n",
              "      <td>269.0</td>\n",
              "      <td>1637.0</td>\n",
              "      <td>80.0</td>\n",
              "      <td>250.0</td>\n",
              "      <td>791.0</td>\n",
              "      <td>357.0</td>\n",
              "      <td>-570.0</td>\n",
              "      <td>1148.0</td>\n",
              "      <td>83.0</td>\n",
              "      <td>4.0</td>\n",
              "      <td>93.0</td>\n",
              "      <td>2029.0</td>\n",
              "      <td>0.0</td>\n",
              "      <td>112.0</td>\n",
              "      <td>271.0</td>\n",
              "      <td>1615.0</td>\n",
              "      <td>85.0</td>\n",
              "      <td>240.0</td>\n",
              "      <td>1067.0</td>\n",
              "      <td>0.0</td>\n",
              "      <td>-400.0</td>\n",
              "      <td>1067.0</td>\n",
              "      <td>125.0</td>\n",
              "      <td>6.0</td>\n",
              "      <td>215.0</td>\n",
              "      <td>1880.0</td>\n",
              "      <td>0.0</td>\n",
              "      <td>100.0</td>\n",
              "      <td>267.0</td>\n",
              "      <td>1680.0</td>\n",
              "      <td>69.0</td>\n",
              "      <td>210.0</td>\n",
              "    </tr>\n",
              "    <tr>\n",
              "      <th>1</th>\n",
              "      <td>O9TURWL</td>\n",
              "      <td>2019</td>\n",
              "      <td>2</td>\n",
              "      <td>115.0</td>\n",
              "      <td>1376.0</td>\n",
              "      <td>410.0</td>\n",
              "      <td>1491.0</td>\n",
              "      <td>4.0</td>\n",
              "      <td>0.0</td>\n",
              "      <td>287.0</td>\n",
              "      <td>2581.0</td>\n",
              "      <td>0.0</td>\n",
              "      <td>108.0</td>\n",
              "      <td>288.0</td>\n",
              "      <td>1260.0</td>\n",
              "      <td>138.0</td>\n",
              "      <td>220.0</td>\n",
              "      <td>119.0</td>\n",
              "      <td>1362.0</td>\n",
              "      <td>290.0</td>\n",
              "      <td>1481.0</td>\n",
              "      <td>7.0</td>\n",
              "      <td>0.0</td>\n",
              "      <td>237.0</td>\n",
              "      <td>2639.0</td>\n",
              "      <td>0.0</td>\n",
              "      <td>118.0</td>\n",
              "      <td>305.0</td>\n",
              "      <td>1157.0</td>\n",
              "      <td>173.0</td>\n",
              "      <td>230.0</td>\n",
              "      <td>178.0</td>\n",
              "      <td>1518.0</td>\n",
              "      <td>160.0</td>\n",
              "      <td>1696.0</td>\n",
              "      <td>15.0</td>\n",
              "      <td>1.0</td>\n",
              "      <td>203.0</td>\n",
              "      <td>2652.0</td>\n",
              "      <td>0.0</td>\n",
              "      <td>...</td>\n",
              "      <td>-580.0</td>\n",
              "      <td>1228.0</td>\n",
              "      <td>79.0</td>\n",
              "      <td>4.0</td>\n",
              "      <td>102.0</td>\n",
              "      <td>2095.0</td>\n",
              "      <td>0.0</td>\n",
              "      <td>109.0</td>\n",
              "      <td>279.0</td>\n",
              "      <td>1640.0</td>\n",
              "      <td>90.0</td>\n",
              "      <td>230.0</td>\n",
              "      <td>743.0</td>\n",
              "      <td>413.0</td>\n",
              "      <td>-540.0</td>\n",
              "      <td>1156.0</td>\n",
              "      <td>78.0</td>\n",
              "      <td>4.0</td>\n",
              "      <td>96.0</td>\n",
              "      <td>2050.0</td>\n",
              "      <td>0.0</td>\n",
              "      <td>111.0</td>\n",
              "      <td>280.0</td>\n",
              "      <td>1628.0</td>\n",
              "      <td>93.0</td>\n",
              "      <td>200.0</td>\n",
              "      <td>1078.0</td>\n",
              "      <td>0.0</td>\n",
              "      <td>-360.0</td>\n",
              "      <td>1078.0</td>\n",
              "      <td>126.0</td>\n",
              "      <td>6.0</td>\n",
              "      <td>215.0</td>\n",
              "      <td>1883.0</td>\n",
              "      <td>0.0</td>\n",
              "      <td>99.0</td>\n",
              "      <td>273.0</td>\n",
              "      <td>1682.0</td>\n",
              "      <td>75.0</td>\n",
              "      <td>190.0</td>\n",
              "    </tr>\n",
              "    <tr>\n",
              "      <th>2</th>\n",
              "      <td>35AFSDD</td>\n",
              "      <td>2019</td>\n",
              "      <td>3</td>\n",
              "      <td>111.0</td>\n",
              "      <td>1401.0</td>\n",
              "      <td>410.0</td>\n",
              "      <td>1512.0</td>\n",
              "      <td>4.0</td>\n",
              "      <td>0.0</td>\n",
              "      <td>278.0</td>\n",
              "      <td>2571.0</td>\n",
              "      <td>0.0</td>\n",
              "      <td>109.0</td>\n",
              "      <td>288.0</td>\n",
              "      <td>1276.0</td>\n",
              "      <td>137.0</td>\n",
              "      <td>240.0</td>\n",
              "      <td>112.0</td>\n",
              "      <td>1384.0</td>\n",
              "      <td>290.0</td>\n",
              "      <td>1496.0</td>\n",
              "      <td>7.0</td>\n",
              "      <td>0.0</td>\n",
              "      <td>230.0</td>\n",
              "      <td>2629.0</td>\n",
              "      <td>0.0</td>\n",
              "      <td>119.0</td>\n",
              "      <td>306.0</td>\n",
              "      <td>1165.0</td>\n",
              "      <td>174.0</td>\n",
              "      <td>240.0</td>\n",
              "      <td>173.0</td>\n",
              "      <td>1548.0</td>\n",
              "      <td>160.0</td>\n",
              "      <td>1721.0</td>\n",
              "      <td>15.0</td>\n",
              "      <td>1.0</td>\n",
              "      <td>197.0</td>\n",
              "      <td>2632.0</td>\n",
              "      <td>0.0</td>\n",
              "      <td>...</td>\n",
              "      <td>-600.0</td>\n",
              "      <td>1240.0</td>\n",
              "      <td>73.0</td>\n",
              "      <td>4.0</td>\n",
              "      <td>100.0</td>\n",
              "      <td>2095.0</td>\n",
              "      <td>0.0</td>\n",
              "      <td>110.0</td>\n",
              "      <td>280.0</td>\n",
              "      <td>1644.0</td>\n",
              "      <td>91.0</td>\n",
              "      <td>240.0</td>\n",
              "      <td>718.0</td>\n",
              "      <td>435.0</td>\n",
              "      <td>-560.0</td>\n",
              "      <td>1153.0</td>\n",
              "      <td>75.0</td>\n",
              "      <td>4.0</td>\n",
              "      <td>93.0</td>\n",
              "      <td>2041.0</td>\n",
              "      <td>0.0</td>\n",
              "      <td>112.0</td>\n",
              "      <td>280.0</td>\n",
              "      <td>1637.0</td>\n",
              "      <td>93.0</td>\n",
              "      <td>200.0</td>\n",
              "      <td>1084.0</td>\n",
              "      <td>0.0</td>\n",
              "      <td>-360.0</td>\n",
              "      <td>1084.0</td>\n",
              "      <td>135.0</td>\n",
              "      <td>7.0</td>\n",
              "      <td>289.0</td>\n",
              "      <td>1875.0</td>\n",
              "      <td>0.0</td>\n",
              "      <td>100.0</td>\n",
              "      <td>274.0</td>\n",
              "      <td>1690.0</td>\n",
              "      <td>76.0</td>\n",
              "      <td>200.0</td>\n",
              "    </tr>\n",
              "    <tr>\n",
              "      <th>3</th>\n",
              "      <td>PM05EG9</td>\n",
              "      <td>2019</td>\n",
              "      <td>2</td>\n",
              "      <td>123.0</td>\n",
              "      <td>1378.0</td>\n",
              "      <td>370.0</td>\n",
              "      <td>1501.0</td>\n",
              "      <td>3.0</td>\n",
              "      <td>0.0</td>\n",
              "      <td>299.0</td>\n",
              "      <td>2550.0</td>\n",
              "      <td>0.0</td>\n",
              "      <td>110.0</td>\n",
              "      <td>282.0</td>\n",
              "      <td>1236.0</td>\n",
              "      <td>134.0</td>\n",
              "      <td>250.0</td>\n",
              "      <td>128.0</td>\n",
              "      <td>1325.0</td>\n",
              "      <td>250.0</td>\n",
              "      <td>1453.0</td>\n",
              "      <td>8.0</td>\n",
              "      <td>0.0</td>\n",
              "      <td>244.0</td>\n",
              "      <td>2612.0</td>\n",
              "      <td>0.0</td>\n",
              "      <td>115.0</td>\n",
              "      <td>295.0</td>\n",
              "      <td>1171.0</td>\n",
              "      <td>158.0</td>\n",
              "      <td>240.0</td>\n",
              "      <td>169.0</td>\n",
              "      <td>1475.0</td>\n",
              "      <td>120.0</td>\n",
              "      <td>1644.0</td>\n",
              "      <td>14.0</td>\n",
              "      <td>1.0</td>\n",
              "      <td>207.0</td>\n",
              "      <td>2592.0</td>\n",
              "      <td>0.0</td>\n",
              "      <td>...</td>\n",
              "      <td>-580.0</td>\n",
              "      <td>1161.0</td>\n",
              "      <td>106.0</td>\n",
              "      <td>5.0</td>\n",
              "      <td>102.0</td>\n",
              "      <td>2062.0</td>\n",
              "      <td>0.0</td>\n",
              "      <td>108.0</td>\n",
              "      <td>264.0</td>\n",
              "      <td>1648.0</td>\n",
              "      <td>73.0</td>\n",
              "      <td>240.0</td>\n",
              "      <td>826.0</td>\n",
              "      <td>297.0</td>\n",
              "      <td>-550.0</td>\n",
              "      <td>1123.0</td>\n",
              "      <td>86.0</td>\n",
              "      <td>4.0</td>\n",
              "      <td>95.0</td>\n",
              "      <td>2041.0</td>\n",
              "      <td>0.0</td>\n",
              "      <td>110.0</td>\n",
              "      <td>268.0</td>\n",
              "      <td>1619.0</td>\n",
              "      <td>81.0</td>\n",
              "      <td>220.0</td>\n",
              "      <td>1053.0</td>\n",
              "      <td>0.0</td>\n",
              "      <td>-390.0</td>\n",
              "      <td>1053.0</td>\n",
              "      <td>121.0</td>\n",
              "      <td>6.0</td>\n",
              "      <td>189.0</td>\n",
              "      <td>1898.0</td>\n",
              "      <td>0.0</td>\n",
              "      <td>98.0</td>\n",
              "      <td>263.0</td>\n",
              "      <td>1688.0</td>\n",
              "      <td>64.0</td>\n",
              "      <td>210.0</td>\n",
              "    </tr>\n",
              "    <tr>\n",
              "      <th>4</th>\n",
              "      <td>V7PZBCG</td>\n",
              "      <td>2019</td>\n",
              "      <td>2</td>\n",
              "      <td>643.0</td>\n",
              "      <td>988.0</td>\n",
              "      <td>270.0</td>\n",
              "      <td>1631.0</td>\n",
              "      <td>20.0</td>\n",
              "      <td>1.0</td>\n",
              "      <td>427.0</td>\n",
              "      <td>2438.0</td>\n",
              "      <td>0.0</td>\n",
              "      <td>161.0</td>\n",
              "      <td>320.0</td>\n",
              "      <td>1575.0</td>\n",
              "      <td>173.0</td>\n",
              "      <td>270.0</td>\n",
              "      <td>294.0</td>\n",
              "      <td>1370.0</td>\n",
              "      <td>140.0</td>\n",
              "      <td>1664.0</td>\n",
              "      <td>18.0</td>\n",
              "      <td>1.0</td>\n",
              "      <td>300.0</td>\n",
              "      <td>2576.0</td>\n",
              "      <td>0.0</td>\n",
              "      <td>174.0</td>\n",
              "      <td>332.0</td>\n",
              "      <td>1478.0</td>\n",
              "      <td>208.0</td>\n",
              "      <td>290.0</td>\n",
              "      <td>395.0</td>\n",
              "      <td>1409.0</td>\n",
              "      <td>-280.0</td>\n",
              "      <td>1804.0</td>\n",
              "      <td>35.0</td>\n",
              "      <td>2.0</td>\n",
              "      <td>234.0</td>\n",
              "      <td>2641.0</td>\n",
              "      <td>0.0</td>\n",
              "      <td>...</td>\n",
              "      <td>-590.0</td>\n",
              "      <td>1250.0</td>\n",
              "      <td>237.0</td>\n",
              "      <td>12.0</td>\n",
              "      <td>1179.0</td>\n",
              "      <td>2057.0</td>\n",
              "      <td>0.0</td>\n",
              "      <td>150.0</td>\n",
              "      <td>292.0</td>\n",
              "      <td>1998.0</td>\n",
              "      <td>89.0</td>\n",
              "      <td>240.0</td>\n",
              "      <td>1213.0</td>\n",
              "      <td>34.0</td>\n",
              "      <td>-550.0</td>\n",
              "      <td>1247.0</td>\n",
              "      <td>122.0</td>\n",
              "      <td>6.0</td>\n",
              "      <td>1123.0</td>\n",
              "      <td>2106.0</td>\n",
              "      <td>0.0</td>\n",
              "      <td>152.0</td>\n",
              "      <td>296.0</td>\n",
              "      <td>1960.0</td>\n",
              "      <td>99.0</td>\n",
              "      <td>250.0</td>\n",
              "      <td>1199.0</td>\n",
              "      <td>0.0</td>\n",
              "      <td>-380.0</td>\n",
              "      <td>1199.0</td>\n",
              "      <td>194.0</td>\n",
              "      <td>66.0</td>\n",
              "      <td>1214.0</td>\n",
              "      <td>1930.0</td>\n",
              "      <td>0.0</td>\n",
              "      <td>143.0</td>\n",
              "      <td>291.0</td>\n",
              "      <td>1972.0</td>\n",
              "      <td>87.0</td>\n",
              "      <td>270.0</td>\n",
              "    </tr>\n",
              "  </tbody>\n",
              "</table>\n",
              "<p>5 rows × 171 columns</p>\n",
              "</div>"
            ],
            "text/plain": [
              "  Field_ID  Year  Quality  ...  climate12_vap  climate12_vpd  climate12_vs\n",
              "0  MH2O0YH  2019        3  ...         1680.0           69.0         210.0\n",
              "1  O9TURWL  2019        2  ...         1682.0           75.0         190.0\n",
              "2  35AFSDD  2019        3  ...         1690.0           76.0         200.0\n",
              "3  PM05EG9  2019        2  ...         1688.0           64.0         210.0\n",
              "4  V7PZBCG  2019        2  ...         1972.0           87.0         270.0\n",
              "\n",
              "[5 rows x 171 columns]"
            ]
          },
          "metadata": {
            "tags": []
          },
          "execution_count": 36
        }
      ]
    },
    {
      "cell_type": "code",
      "metadata": {
        "id": "gFDi4D2IZ-nV"
      },
      "source": [
        "climate.to_csv('/content/drive/My Drive/yield-estimate/Climate.csv',index=False)"
      ],
      "execution_count": null,
      "outputs": []
    },
    {
      "cell_type": "code",
      "metadata": {
        "colab": {
          "base_uri": "https://localhost:8080/"
        },
        "id": "JPCCI4bBkrgJ",
        "outputId": "96d3fa4d-f00f-4df1-da5a-f662ac8bf22c"
      },
      "source": [
        "climate.iloc[:,3:].values.reshape(4032,12,14)[:,0,:]"
      ],
      "execution_count": null,
      "outputs": [
        {
          "output_type": "execute_result",
          "data": {
            "text/plain": [
              "array([[ 119., 1405.,  370., ..., 1246.,  138.,  260.],\n",
              "       [ 115., 1376.,  410., ..., 1260.,  138.,  220.],\n",
              "       [ 111., 1401.,  410., ..., 1276.,  137.,  240.],\n",
              "       ...,\n",
              "       [1043.,  265.,  432., ..., 1931.,  105.,  289.],\n",
              "       [1131.,  187.,  404., ..., 1850.,  111.,  273.],\n",
              "       [1121.,  205.,  409., ..., 1851.,  111.,  277.]])"
            ]
          },
          "metadata": {
            "tags": []
          },
          "execution_count": 39
        }
      ]
    },
    {
      "cell_type": "markdown",
      "metadata": {
        "id": "oIuaStQTL7xm"
      },
      "source": [
        "# Creating folds"
      ]
    },
    {
      "cell_type": "code",
      "metadata": {
        "id": "UiKFtQTTL7FW"
      },
      "source": [
        "from sklearn.model_selection import train_test_split,KFold\r\n",
        "kf = KFold(n_splits=5,shuffle=True,random_state=2020)\r\n",
        "fold_df = train.copy(deep=True)\r\n",
        "crop_yield = np.zeros(shape=(1055,1))\r\n",
        "for fold,(train_index, test_index) in enumerate(kf.split(train.Field_ID.values,train.Yield.values)):\r\n",
        "  fold_df.loc[test_index,f'fold'] = fold+1\r\n",
        "\r\n",
        "fold_df.head()"
      ],
      "execution_count": null,
      "outputs": []
    },
    {
      "cell_type": "code",
      "metadata": {
        "id": "ueUpnduWMDSS"
      },
      "source": [
        "fold_df.to_csv('/content/drive/My Drive/yield-estimate/folds.csv',index=False)"
      ],
      "execution_count": null,
      "outputs": []
    },
    {
      "cell_type": "markdown",
      "metadata": {
        "id": "Dcn5sM8-Rm3m"
      },
      "source": [
        "# Data reading section"
      ]
    },
    {
      "cell_type": "code",
      "metadata": {
        "id": "yd3v4rnrkwVS"
      },
      "source": [
        "# Copying in the zip files from Google Drive (alternately just upload them)\r\n",
        "!cp '/content/drive/My Drive/yield-estimate/image_arrays_train.zip' .\r\n",
        "!cp '/content/drive/My Drive/yield-estimate/image_arrays_test.zip' ."
      ],
      "execution_count": null,
      "outputs": []
    },
    {
      "cell_type": "code",
      "metadata": {
        "id": "Tf_cMN8llx1y"
      },
      "source": [
        "# Extract\r\n",
        "!unzip -q image_arrays_train.zip\r\n",
        "!unzip -q image_arrays_test.zip"
      ],
      "execution_count": null,
      "outputs": []
    },
    {
      "cell_type": "code",
      "metadata": {
        "colab": {
          "base_uri": "https://localhost:8080/"
        },
        "id": "h-qiW7uquvsU",
        "outputId": "55dc72af-38f8-441d-b51b-b5149b7f2a14"
      },
      "source": [
        "!ls"
      ],
      "execution_count": null,
      "outputs": [
        {
          "output_type": "stream",
          "text": [
            "drive\t\t   image_arrays_test.zip  image_arrays_train.zip\n",
            "image_arrays_test  image_arrays_train\t  sample_data\n"
          ],
          "name": "stdout"
        }
      ]
    },
    {
      "cell_type": "code",
      "metadata": {
        "colab": {
          "base_uri": "https://localhost:8080/"
        },
        "id": "ODh5XCQBugTO",
        "outputId": "e926b9ba-0a0c-4e3d-881c-69ba9a31dcc4"
      },
      "source": [
        "train_fns = glob.glob('./image_arrays_train/*.*')\r\n",
        "test_fns = glob.glob('./image_arrays_test/*.*')\r\n",
        "print('The number of training files are:',len(train_fns),' and number of test filenames are:',len(test_fns))"
      ],
      "execution_count": null,
      "outputs": [
        {
          "output_type": "stream",
          "text": [
            "The number of training files are: 2977  and number of test filenames are: 1055\n"
          ],
          "name": "stdout"
        }
      ]
    },
    {
      "cell_type": "code",
      "metadata": {
        "colab": {
          "base_uri": "https://localhost:8080/",
          "height": 221
        },
        "id": "Jzgwp_lKofBr",
        "outputId": "8b1362cb-fb33-4f50-b9bc-9e201bf35b31"
      },
      "source": [
        "train = pd.read_csv('/content/drive/My Drive/yield-estimate/Train.csv')\r\n",
        "print(train.shape)\r\n",
        "train.head()"
      ],
      "execution_count": null,
      "outputs": [
        {
          "output_type": "stream",
          "text": [
            "(2977, 4)\n"
          ],
          "name": "stdout"
        },
        {
          "output_type": "execute_result",
          "data": {
            "text/html": [
              "<div>\n",
              "<style scoped>\n",
              "    .dataframe tbody tr th:only-of-type {\n",
              "        vertical-align: middle;\n",
              "    }\n",
              "\n",
              "    .dataframe tbody tr th {\n",
              "        vertical-align: top;\n",
              "    }\n",
              "\n",
              "    .dataframe thead th {\n",
              "        text-align: right;\n",
              "    }\n",
              "</style>\n",
              "<table border=\"1\" class=\"dataframe\">\n",
              "  <thead>\n",
              "    <tr style=\"text-align: right;\">\n",
              "      <th></th>\n",
              "      <th>Field_ID</th>\n",
              "      <th>Year</th>\n",
              "      <th>Quality</th>\n",
              "      <th>Yield</th>\n",
              "    </tr>\n",
              "  </thead>\n",
              "  <tbody>\n",
              "    <tr>\n",
              "      <th>0</th>\n",
              "      <td>MH2O0YH</td>\n",
              "      <td>2019</td>\n",
              "      <td>3</td>\n",
              "      <td>3.686</td>\n",
              "    </tr>\n",
              "    <tr>\n",
              "      <th>1</th>\n",
              "      <td>O9TURWL</td>\n",
              "      <td>2019</td>\n",
              "      <td>2</td>\n",
              "      <td>5.657</td>\n",
              "    </tr>\n",
              "    <tr>\n",
              "      <th>2</th>\n",
              "      <td>35AFSDD</td>\n",
              "      <td>2019</td>\n",
              "      <td>3</td>\n",
              "      <td>3.082</td>\n",
              "    </tr>\n",
              "    <tr>\n",
              "      <th>3</th>\n",
              "      <td>PM05EG9</td>\n",
              "      <td>2019</td>\n",
              "      <td>2</td>\n",
              "      <td>2.707</td>\n",
              "    </tr>\n",
              "    <tr>\n",
              "      <th>4</th>\n",
              "      <td>V7PZBCG</td>\n",
              "      <td>2019</td>\n",
              "      <td>2</td>\n",
              "      <td>2.679</td>\n",
              "    </tr>\n",
              "  </tbody>\n",
              "</table>\n",
              "</div>"
            ],
            "text/plain": [
              "  Field_ID  Year  Quality  Yield\n",
              "0  MH2O0YH  2019        3  3.686\n",
              "1  O9TURWL  2019        2  5.657\n",
              "2  35AFSDD  2019        3  3.082\n",
              "3  PM05EG9  2019        2  2.707\n",
              "4  V7PZBCG  2019        2  2.679"
            ]
          },
          "metadata": {
            "tags": []
          },
          "execution_count": 4
        }
      ]
    },
    {
      "cell_type": "code",
      "metadata": {
        "colab": {
          "base_uri": "https://localhost:8080/",
          "height": 221
        },
        "id": "3br4hFOSEFp0",
        "outputId": "87b4a579-c355-40fc-c730-1878bcf66984"
      },
      "source": [
        "ss = pd.read_csv('/content/drive/My Drive/yield-estimate/SampleSubmission.csv')\r\n",
        "print(ss.shape)\r\n",
        "ss.head()"
      ],
      "execution_count": null,
      "outputs": [
        {
          "output_type": "stream",
          "text": [
            "(1055, 2)\n"
          ],
          "name": "stdout"
        },
        {
          "output_type": "execute_result",
          "data": {
            "text/html": [
              "<div>\n",
              "<style scoped>\n",
              "    .dataframe tbody tr th:only-of-type {\n",
              "        vertical-align: middle;\n",
              "    }\n",
              "\n",
              "    .dataframe tbody tr th {\n",
              "        vertical-align: top;\n",
              "    }\n",
              "\n",
              "    .dataframe thead th {\n",
              "        text-align: right;\n",
              "    }\n",
              "</style>\n",
              "<table border=\"1\" class=\"dataframe\">\n",
              "  <thead>\n",
              "    <tr style=\"text-align: right;\">\n",
              "      <th></th>\n",
              "      <th>Field_ID</th>\n",
              "      <th>Yield</th>\n",
              "    </tr>\n",
              "  </thead>\n",
              "  <tbody>\n",
              "    <tr>\n",
              "      <th>0</th>\n",
              "      <td>E9UZCEA</td>\n",
              "      <td>0</td>\n",
              "    </tr>\n",
              "    <tr>\n",
              "      <th>1</th>\n",
              "      <td>1WGGS1Q</td>\n",
              "      <td>0</td>\n",
              "    </tr>\n",
              "    <tr>\n",
              "      <th>2</th>\n",
              "      <td>EG2KXE2</td>\n",
              "      <td>0</td>\n",
              "    </tr>\n",
              "    <tr>\n",
              "      <th>3</th>\n",
              "      <td>HC3GQXF</td>\n",
              "      <td>0</td>\n",
              "    </tr>\n",
              "    <tr>\n",
              "      <th>4</th>\n",
              "      <td>7AK6GFK</td>\n",
              "      <td>0</td>\n",
              "    </tr>\n",
              "  </tbody>\n",
              "</table>\n",
              "</div>"
            ],
            "text/plain": [
              "  Field_ID  Yield\n",
              "0  E9UZCEA      0\n",
              "1  1WGGS1Q      0\n",
              "2  EG2KXE2      0\n",
              "3  HC3GQXF      0\n",
              "4  7AK6GFK      0"
            ]
          },
          "metadata": {
            "tags": []
          },
          "execution_count": 5
        }
      ]
    },
    {
      "cell_type": "code",
      "metadata": {
        "colab": {
          "base_uri": "https://localhost:8080/"
        },
        "id": "IucNsX6p3W9t",
        "outputId": "1dcb0086-5619-4888-85db-bad1a0721d31"
      },
      "source": [
        "train = train.loc[(train['Quality']==3) | (train['Quality']==2),:].reset_index(drop=True)\r\n",
        "train.shape"
      ],
      "execution_count": null,
      "outputs": [
        {
          "output_type": "execute_result",
          "data": {
            "text/plain": [
              "(2552, 4)"
            ]
          },
          "metadata": {
            "tags": []
          },
          "execution_count": 6
        }
      ]
    },
    {
      "cell_type": "code",
      "metadata": {
        "colab": {
          "base_uri": "https://localhost:8080/",
          "height": 204
        },
        "id": "4cRo9CeS36x0",
        "outputId": "6a48a3ea-24b7-480a-89ab-d05f5c2a8100"
      },
      "source": [
        "train.head()"
      ],
      "execution_count": null,
      "outputs": [
        {
          "output_type": "execute_result",
          "data": {
            "text/html": [
              "<div>\n",
              "<style scoped>\n",
              "    .dataframe tbody tr th:only-of-type {\n",
              "        vertical-align: middle;\n",
              "    }\n",
              "\n",
              "    .dataframe tbody tr th {\n",
              "        vertical-align: top;\n",
              "    }\n",
              "\n",
              "    .dataframe thead th {\n",
              "        text-align: right;\n",
              "    }\n",
              "</style>\n",
              "<table border=\"1\" class=\"dataframe\">\n",
              "  <thead>\n",
              "    <tr style=\"text-align: right;\">\n",
              "      <th></th>\n",
              "      <th>Field_ID</th>\n",
              "      <th>Year</th>\n",
              "      <th>Quality</th>\n",
              "      <th>Yield</th>\n",
              "    </tr>\n",
              "  </thead>\n",
              "  <tbody>\n",
              "    <tr>\n",
              "      <th>0</th>\n",
              "      <td>MH2O0YH</td>\n",
              "      <td>2019</td>\n",
              "      <td>3</td>\n",
              "      <td>3.686</td>\n",
              "    </tr>\n",
              "    <tr>\n",
              "      <th>1</th>\n",
              "      <td>O9TURWL</td>\n",
              "      <td>2019</td>\n",
              "      <td>2</td>\n",
              "      <td>5.657</td>\n",
              "    </tr>\n",
              "    <tr>\n",
              "      <th>2</th>\n",
              "      <td>35AFSDD</td>\n",
              "      <td>2019</td>\n",
              "      <td>3</td>\n",
              "      <td>3.082</td>\n",
              "    </tr>\n",
              "    <tr>\n",
              "      <th>3</th>\n",
              "      <td>PM05EG9</td>\n",
              "      <td>2019</td>\n",
              "      <td>2</td>\n",
              "      <td>2.707</td>\n",
              "    </tr>\n",
              "    <tr>\n",
              "      <th>4</th>\n",
              "      <td>V7PZBCG</td>\n",
              "      <td>2019</td>\n",
              "      <td>2</td>\n",
              "      <td>2.679</td>\n",
              "    </tr>\n",
              "  </tbody>\n",
              "</table>\n",
              "</div>"
            ],
            "text/plain": [
              "  Field_ID  Year  Quality  Yield\n",
              "0  MH2O0YH  2019        3  3.686\n",
              "1  O9TURWL  2019        2  5.657\n",
              "2  35AFSDD  2019        3  3.082\n",
              "3  PM05EG9  2019        2  2.707\n",
              "4  V7PZBCG  2019        2  2.679"
            ]
          },
          "metadata": {
            "tags": []
          },
          "execution_count": 7
        }
      ]
    },
    {
      "cell_type": "code",
      "metadata": {
        "id": "2Z7EPRKGvAPH"
      },
      "source": [
        "def get_array(df,length,train_status):\r\n",
        "  array = []\r\n",
        "  for idx in tqdm(range(length)):\r\n",
        "    if train_status == 1:\r\n",
        "      fn = './image_arrays_train/' + df.loc[idx,'Field_ID'] + '.npy'\r\n",
        "\r\n",
        "    else:\r\n",
        "      fn = './image_arrays_test/' + df.loc[idx,'Field_ID'] + '.npy'\r\n",
        "    \r\n",
        "    img = np.load(fn)[:,:32,:32]\r\n",
        "    img = img.transpose((1,2,0))\r\n",
        "    img = img.reshape(32,32,30,-1)\r\n",
        "    img = img.transpose((3,0,1,2))\r\n",
        "    img = img/np.max(img)\r\n",
        "    img = img.astype('float16')\r\n",
        "    array.append(img)\r\n",
        "  return np.stack(array)"
      ],
      "execution_count": null,
      "outputs": []
    },
    {
      "cell_type": "code",
      "metadata": {
        "colab": {
          "base_uri": "https://localhost:8080/",
          "height": 66,
          "referenced_widgets": [
            "7a54083bfb3344aa8d15079437db501a",
            "98e83c1ee4844d9f887e1b485a1053ca",
            "922addb05eff4c62bf142e64beaae9cd",
            "b7f7286d02a24471b767abba500e393e",
            "7105a7b475fc46b68a6145cc28650181",
            "b33c62bdf730474d9bfecf2664b7add1",
            "4641eb00591649f5bd5d758bfa0a9ea5",
            "17588ca7737c45b0b53c541ad75bdc6c"
          ]
        },
        "id": "unBpc1pWE26_",
        "outputId": "7145e9fc-728d-4043-8286-59a93f83490e"
      },
      "source": [
        "X = get_array(train,len(train),1)"
      ],
      "execution_count": null,
      "outputs": [
        {
          "output_type": "display_data",
          "data": {
            "application/vnd.jupyter.widget-view+json": {
              "model_id": "7a54083bfb3344aa8d15079437db501a",
              "version_major": 2,
              "version_minor": 0
            },
            "text/plain": [
              "HBox(children=(FloatProgress(value=0.0, max=2552.0), HTML(value='')))"
            ]
          },
          "metadata": {
            "tags": []
          }
        },
        {
          "output_type": "stream",
          "text": [
            "\n"
          ],
          "name": "stdout"
        }
      ]
    },
    {
      "cell_type": "code",
      "metadata": {
        "colab": {
          "base_uri": "https://localhost:8080/"
        },
        "id": "_45Q1FitJhu2",
        "outputId": "f5196259-5337-415f-e525-0272cd183bcc"
      },
      "source": [
        "X.shape"
      ],
      "execution_count": null,
      "outputs": [
        {
          "output_type": "execute_result",
          "data": {
            "text/plain": [
              "(2552, 12, 32, 32, 30)"
            ]
          },
          "metadata": {
            "tags": []
          },
          "execution_count": 32
        }
      ]
    },
    {
      "cell_type": "code",
      "metadata": {
        "id": "44y1FCMzGutj"
      },
      "source": [
        "np.save('/content/drive/My Drive/yield-estimate/train',X)"
      ],
      "execution_count": null,
      "outputs": []
    },
    {
      "cell_type": "code",
      "metadata": {
        "colab": {
          "base_uri": "https://localhost:8080/",
          "height": 83,
          "referenced_widgets": [
            "a45b4e4b17fb452c82f6fde5fda82288",
            "c3319b16979b45fb9156157629cea6cd",
            "139639eda5b8422bad61609e0a033dcb",
            "fe7169638f8a4099b599d86dd1a69810",
            "3c38fa103ebd4c2d9e228d56e904830e",
            "3713ce1ecc4e43aeb62b5b6692e41aa0",
            "7fb26f42636f466cb0ca3266f2bc8188",
            "b3494c685aa948e191097e77419e5a7e"
          ]
        },
        "id": "8GNKVPcQR-cj",
        "outputId": "a478ec5e-a7e1-449b-e6a1-3c3db9f2d322"
      },
      "source": [
        "test = get_array(ss,len(ss),0)\r\n",
        "print(test.shape)\r\n",
        "np.save('/content/drive/My Drive/yield-estimate/test',test)"
      ],
      "execution_count": null,
      "outputs": [
        {
          "output_type": "display_data",
          "data": {
            "application/vnd.jupyter.widget-view+json": {
              "model_id": "a45b4e4b17fb452c82f6fde5fda82288",
              "version_major": 2,
              "version_minor": 0
            },
            "text/plain": [
              "HBox(children=(FloatProgress(value=0.0, max=1055.0), HTML(value='')))"
            ]
          },
          "metadata": {
            "tags": []
          }
        },
        {
          "output_type": "stream",
          "text": [
            "\n",
            "(1055, 12, 32, 32, 30)\n"
          ],
          "name": "stdout"
        }
      ]
    },
    {
      "cell_type": "markdown",
      "metadata": {
        "id": "6rYbuj53SLOu"
      },
      "source": [
        "# Modelling"
      ]
    },
    {
      "cell_type": "code",
      "metadata": {
        "colab": {
          "base_uri": "https://localhost:8080/"
        },
        "id": "UoHFSos4Se8h",
        "outputId": "012bd82c-2627-4afe-fce9-7ea1909c49a9"
      },
      "source": [
        "#train = pd.read_csv('/content/drive/My Drive/yield-estimate/Train.csv')\r\n",
        "#train = train.loc[(train['Quality']==3) | (train['Quality']==2),:].reset_index(drop=True)\r\n",
        "train = pd.read_csv('/content/drive/My Drive/yield-estimate/folds.csv')\r\n",
        "train.shape"
      ],
      "execution_count": null,
      "outputs": [
        {
          "output_type": "execute_result",
          "data": {
            "text/plain": [
              "(2552, 5)"
            ]
          },
          "metadata": {
            "tags": []
          },
          "execution_count": 3
        }
      ]
    },
    {
      "cell_type": "code",
      "metadata": {
        "colab": {
          "base_uri": "https://localhost:8080/"
        },
        "id": "GZgF4PrZS4GA",
        "outputId": "5aaf902a-d94c-428b-bb0a-16f57d84598f"
      },
      "source": [
        "ss = pd.read_csv('/content/drive/My Drive/yield-estimate/SampleSubmission.csv')\r\n",
        "print(ss.shape)"
      ],
      "execution_count": null,
      "outputs": [
        {
          "output_type": "stream",
          "text": [
            "(1055, 2)\n"
          ],
          "name": "stdout"
        }
      ]
    },
    {
      "cell_type": "code",
      "metadata": {
        "colab": {
          "base_uri": "https://localhost:8080/"
        },
        "id": "LFo_v9MMHhUx",
        "outputId": "cf975743-f4e0-409d-d927-c85f0bc631f8"
      },
      "source": [
        "climate_df = pd.read_csv('/content/drive/My Drive/yield-estimate/Climate.csv')\r\n",
        "climate_train = climate_df.iloc[:2977]\r\n",
        "climate_train = climate_train.loc[(climate_train['Quality']==3) | (climate_train['Quality']==2),:].reset_index(drop=True)\r\n",
        "climate_train.fillna(value=0,inplace=True)\r\n",
        "climate_train.shape"
      ],
      "execution_count": null,
      "outputs": [
        {
          "output_type": "execute_result",
          "data": {
            "text/plain": [
              "(2552, 171)"
            ]
          },
          "metadata": {
            "tags": []
          },
          "execution_count": 5
        }
      ]
    },
    {
      "cell_type": "code",
      "metadata": {
        "colab": {
          "base_uri": "https://localhost:8080/"
        },
        "id": "jco2QGWtSQQn",
        "outputId": "5f44047c-368a-4255-e188-174d084cd0c3"
      },
      "source": [
        "soil = pd.read_csv('/content/drive/My Drive/yield-estimate/Soil.csv')\r\n",
        "soil_train = soil.iloc[:2977]\r\n",
        "soil_train = soil_train.loc[(soil_train['Quality']==3) | (soil_train['Quality']==2),:].reset_index(drop=True)\r\n",
        "soil_train.fillna(value=0,inplace=True)\r\n",
        "soil_train.shape"
      ],
      "execution_count": null,
      "outputs": [
        {
          "output_type": "execute_result",
          "data": {
            "text/plain": [
              "(2552, 13)"
            ]
          },
          "metadata": {
            "tags": []
          },
          "execution_count": 6
        }
      ]
    },
    {
      "cell_type": "code",
      "metadata": {
        "colab": {
          "base_uri": "https://localhost:8080/",
          "height": 204
        },
        "id": "VVthR7y5Dq6J",
        "outputId": "f6c75c54-3374-4d95-ed70-d453ec2a4c3b"
      },
      "source": [
        "test_year = pd.read_csv('/content/drive/My Drive/yield-estimate/test_field_ids_with_year.csv')\r\n",
        "test_year.head()"
      ],
      "execution_count": null,
      "outputs": [
        {
          "output_type": "execute_result",
          "data": {
            "text/html": [
              "<div>\n",
              "<style scoped>\n",
              "    .dataframe tbody tr th:only-of-type {\n",
              "        vertical-align: middle;\n",
              "    }\n",
              "\n",
              "    .dataframe tbody tr th {\n",
              "        vertical-align: top;\n",
              "    }\n",
              "\n",
              "    .dataframe thead th {\n",
              "        text-align: right;\n",
              "    }\n",
              "</style>\n",
              "<table border=\"1\" class=\"dataframe\">\n",
              "  <thead>\n",
              "    <tr style=\"text-align: right;\">\n",
              "      <th></th>\n",
              "      <th>Field_ID</th>\n",
              "      <th>Year</th>\n",
              "    </tr>\n",
              "  </thead>\n",
              "  <tbody>\n",
              "    <tr>\n",
              "      <th>0</th>\n",
              "      <td>E9UZCEA</td>\n",
              "      <td>2019</td>\n",
              "    </tr>\n",
              "    <tr>\n",
              "      <th>1</th>\n",
              "      <td>1WGGS1Q</td>\n",
              "      <td>2019</td>\n",
              "    </tr>\n",
              "    <tr>\n",
              "      <th>2</th>\n",
              "      <td>EG2KXE2</td>\n",
              "      <td>2019</td>\n",
              "    </tr>\n",
              "    <tr>\n",
              "      <th>3</th>\n",
              "      <td>HC3GQXF</td>\n",
              "      <td>2019</td>\n",
              "    </tr>\n",
              "    <tr>\n",
              "      <th>4</th>\n",
              "      <td>7AK6GFK</td>\n",
              "      <td>2019</td>\n",
              "    </tr>\n",
              "  </tbody>\n",
              "</table>\n",
              "</div>"
            ],
            "text/plain": [
              "  Field_ID  Year\n",
              "0  E9UZCEA  2019\n",
              "1  1WGGS1Q  2019\n",
              "2  EG2KXE2  2019\n",
              "3  HC3GQXF  2019\n",
              "4  7AK6GFK  2019"
            ]
          },
          "metadata": {
            "tags": []
          },
          "execution_count": 8
        }
      ]
    },
    {
      "cell_type": "code",
      "metadata": {
        "id": "O-NIuRY_ucb8"
      },
      "source": [
        "X1 = np.load('/content/drive/My Drive/yield-estimate/train.npy')"
      ],
      "execution_count": null,
      "outputs": []
    },
    {
      "cell_type": "code",
      "metadata": {
        "colab": {
          "base_uri": "https://localhost:8080/"
        },
        "id": "hSruXr6_Q2_V",
        "outputId": "26b3f4f9-1fe5-4306-f423-d388ecf8d3c4"
      },
      "source": [
        "X1.shape"
      ],
      "execution_count": null,
      "outputs": [
        {
          "output_type": "execute_result",
          "data": {
            "text/plain": [
              "(2552, 12, 32, 32, 30)"
            ]
          },
          "metadata": {
            "tags": []
          },
          "execution_count": 8
        }
      ]
    },
    {
      "cell_type": "code",
      "metadata": {
        "colab": {
          "base_uri": "https://localhost:8080/"
        },
        "id": "uSgzNnx_Q464",
        "outputId": "5c4b94f0-2a20-4c31-be4b-efeb616e2047"
      },
      "source": [
        "X2 = climate_train.iloc[:,3:].values\r\n",
        "y = train.Yield.values\r\n",
        "X2.shape,y.shape"
      ],
      "execution_count": null,
      "outputs": [
        {
          "output_type": "execute_result",
          "data": {
            "text/plain": [
              "((2552, 168), (2552,))"
            ]
          },
          "metadata": {
            "tags": []
          },
          "execution_count": 9
        }
      ]
    },
    {
      "cell_type": "code",
      "metadata": {
        "colab": {
          "base_uri": "https://localhost:8080/"
        },
        "id": "N6j_KtDCRI1W",
        "outputId": "ea0048b3-4b96-478f-d4ac-0a6011422a09"
      },
      "source": [
        "scaler1 = StandardScaler()\r\n",
        "X2 = scaler1.fit_transform(X2)\r\n",
        "X2 = X2.reshape(-1,12,14)\r\n",
        "X2.shape"
      ],
      "execution_count": null,
      "outputs": [
        {
          "output_type": "execute_result",
          "data": {
            "text/plain": [
              "(2552, 12, 14)"
            ]
          },
          "metadata": {
            "tags": []
          },
          "execution_count": 10
        }
      ]
    },
    {
      "cell_type": "code",
      "metadata": {
        "colab": {
          "base_uri": "https://localhost:8080/"
        },
        "id": "_q-b4DLIUFmC",
        "outputId": "e482eb68-8412-4bd7-f20f-b2608c6941f8"
      },
      "source": [
        "X3 = soil_train.iloc[:,1:12].values\r\n",
        "scaler2 = StandardScaler()\r\n",
        "X3 = scaler2.fit_transform(X3)\r\n",
        "X3.shape"
      ],
      "execution_count": null,
      "outputs": [
        {
          "output_type": "execute_result",
          "data": {
            "text/plain": [
              "(2552, 11)"
            ]
          },
          "metadata": {
            "tags": []
          },
          "execution_count": 11
        }
      ]
    },
    {
      "cell_type": "code",
      "metadata": {
        "colab": {
          "base_uri": "https://localhost:8080/"
        },
        "id": "XtXg21SSEc96",
        "outputId": "cdeb2bc1-8d45-4022-e09a-85a7136a2ad0"
      },
      "source": [
        "X4 = train.Year.values\r\n",
        "le = LabelEncoder()\r\n",
        "X4 = le.fit_transform(X4)\r\n",
        "X4.shape"
      ],
      "execution_count": null,
      "outputs": [
        {
          "output_type": "execute_result",
          "data": {
            "text/plain": [
              "(2552,)"
            ]
          },
          "metadata": {
            "tags": []
          },
          "execution_count": 12
        }
      ]
    },
    {
      "cell_type": "code",
      "metadata": {
        "id": "tcMG8KYKSp6g",
        "colab": {
          "base_uri": "https://localhost:8080/"
        },
        "outputId": "600e77c0-ec41-443d-c585-fa84daeef89d"
      },
      "source": [
        "test1 = np.load('/content/drive/My Drive/yield-estimate/test.npy')\r\n",
        "test1.shape"
      ],
      "execution_count": null,
      "outputs": [
        {
          "output_type": "execute_result",
          "data": {
            "text/plain": [
              "(1055, 12, 32, 32, 30)"
            ]
          },
          "metadata": {
            "tags": []
          },
          "execution_count": 14
        }
      ]
    },
    {
      "cell_type": "code",
      "metadata": {
        "colab": {
          "base_uri": "https://localhost:8080/"
        },
        "id": "x3-6QkWWaw64",
        "outputId": "009adb0e-44a6-4003-f25f-5e4f0b02cb44"
      },
      "source": [
        "climate_test = climate_df.iloc[2977:]\r\n",
        "climate_test.fillna(value=0,inplace=True)\r\n",
        "climate_test.shape"
      ],
      "execution_count": null,
      "outputs": [
        {
          "output_type": "stream",
          "text": [
            "/usr/local/lib/python3.6/dist-packages/pandas/core/frame.py:4327: SettingWithCopyWarning: \n",
            "A value is trying to be set on a copy of a slice from a DataFrame\n",
            "\n",
            "See the caveats in the documentation: https://pandas.pydata.org/pandas-docs/stable/user_guide/indexing.html#returning-a-view-versus-a-copy\n",
            "  downcast=downcast,\n"
          ],
          "name": "stderr"
        },
        {
          "output_type": "execute_result",
          "data": {
            "text/plain": [
              "(1055, 171)"
            ]
          },
          "metadata": {
            "tags": []
          },
          "execution_count": 15
        }
      ]
    },
    {
      "cell_type": "code",
      "metadata": {
        "colab": {
          "base_uri": "https://localhost:8080/"
        },
        "id": "oTsUqgKbbLkD",
        "outputId": "880301a5-863c-4a8a-d72f-2ed38e21ba8a"
      },
      "source": [
        "soil_test = soil.iloc[2977:]\r\n",
        "soil_test.fillna(value=0,inplace=True)\r\n",
        "soil_test.shape"
      ],
      "execution_count": null,
      "outputs": [
        {
          "output_type": "stream",
          "text": [
            "/usr/local/lib/python3.6/dist-packages/pandas/core/frame.py:4327: SettingWithCopyWarning: \n",
            "A value is trying to be set on a copy of a slice from a DataFrame\n",
            "\n",
            "See the caveats in the documentation: https://pandas.pydata.org/pandas-docs/stable/user_guide/indexing.html#returning-a-view-versus-a-copy\n",
            "  downcast=downcast,\n"
          ],
          "name": "stderr"
        },
        {
          "output_type": "execute_result",
          "data": {
            "text/plain": [
              "(1055, 13)"
            ]
          },
          "metadata": {
            "tags": []
          },
          "execution_count": 16
        }
      ]
    },
    {
      "cell_type": "code",
      "metadata": {
        "colab": {
          "base_uri": "https://localhost:8080/"
        },
        "id": "KLZLloAwbYqw",
        "outputId": "919acfb4-9284-4384-f9dd-59bb39a818ad"
      },
      "source": [
        "test2 = climate_test.iloc[:,3:].values\r\n",
        "test2 = scaler1.transform(test2)\r\n",
        "test2 = test2.reshape(-1,12,14)\r\n",
        "test2.shape"
      ],
      "execution_count": null,
      "outputs": [
        {
          "output_type": "execute_result",
          "data": {
            "text/plain": [
              "(1055, 12, 14)"
            ]
          },
          "metadata": {
            "tags": []
          },
          "execution_count": 17
        }
      ]
    },
    {
      "cell_type": "code",
      "metadata": {
        "colab": {
          "base_uri": "https://localhost:8080/"
        },
        "id": "r2sxzEw4byYt",
        "outputId": "917cc78b-04a3-450f-e2c9-7ec4ef816bb7"
      },
      "source": [
        "test3 = soil_test.iloc[:,1:12].values\r\n",
        "test3 = scaler2.transform(test3)\r\n",
        "test3.shape"
      ],
      "execution_count": null,
      "outputs": [
        {
          "output_type": "execute_result",
          "data": {
            "text/plain": [
              "(1055, 11)"
            ]
          },
          "metadata": {
            "tags": []
          },
          "execution_count": 18
        }
      ]
    },
    {
      "cell_type": "code",
      "metadata": {
        "colab": {
          "base_uri": "https://localhost:8080/"
        },
        "id": "UeBOUo7jElGT",
        "outputId": "5cda13c2-8a60-4fcb-9106-39009da953f8"
      },
      "source": [
        "test4 = test_year.Year.values\r\n",
        "test4 = le.transform(test4)\r\n",
        "test4.shape"
      ],
      "execution_count": null,
      "outputs": [
        {
          "output_type": "execute_result",
          "data": {
            "text/plain": [
              "(1055,)"
            ]
          },
          "metadata": {
            "tags": []
          },
          "execution_count": 19
        }
      ]
    },
    {
      "cell_type": "code",
      "metadata": {
        "id": "uCJTvuyeuyQo"
      },
      "source": [
        "def get_model():\r\n",
        "  input1 = Input(shape=(12,32,32,30))\r\n",
        "  input2 = Input(shape=(12,14))\r\n",
        "  input3 = Input(shape=(11))\r\n",
        "  input4 = Input(shape=(1))\r\n",
        "  x = TimeDistributed(Conv2D(filters=256,kernel_size=(3,3),strides=(2,2)))(input1)\r\n",
        "  x = TimeDistributed(LeakyReLU())(x)\r\n",
        "  x = TimeDistributed(Conv2D(filters=512,kernel_size=(3,3),strides=(2,2)))(x)\r\n",
        "  x = TimeDistributed(LeakyReLU())(x)\r\n",
        "  x = TimeDistributed(Conv2D(filters=1024,kernel_size=(3,3),strides=(2,2)))(x)\r\n",
        "  x = TimeDistributed(LeakyReLU())(x)\r\n",
        "  x = TimeDistributed(Flatten())(x)\r\n",
        "  concat1 = Concatenate()([x,input2])\r\n",
        "  x = LSTM(512,activation=\"tanh\",return_sequences=True)(concat1)\r\n",
        "  x = Dropout(0.3)(x)\r\n",
        "  x = LeakyReLU()(x)\r\n",
        "  x = LSTM(512,activation=\"tanh\")(x)\r\n",
        "  x = Dropout(0.3)(x)\r\n",
        "  x = LeakyReLU()(x)\r\n",
        "  embed = Embedding(input_dim=5,output_dim=50,input_length=1)(input4)\r\n",
        "  embed = Flatten()(embed)\r\n",
        "  concat2 = Concatenate()([x,input3,embed])\r\n",
        "  x = Dense(256,activation=None)(concat2)\r\n",
        "  x = LeakyReLU()(x)\r\n",
        "  x = Dense(64,activation=None)(x)\r\n",
        "  x = LeakyReLU()(x)\r\n",
        "  output = Dense(1)(x)\r\n",
        "  model = Model(inputs=[input1,input2,input3,input4],outputs=output)\r\n",
        "  model.compile(optimizer=tf.keras.optimizers.Adam(learning_rate=4e-4),loss=tf.keras.losses.MeanSquaredError(),metrics=tf.keras.metrics.RootMeanSquaredError())\r\n",
        "  #model.summary()\r\n",
        "  return model"
      ],
      "execution_count": null,
      "outputs": []
    },
    {
      "cell_type": "code",
      "metadata": {
        "id": "YWZl_AFjv4_y"
      },
      "source": [
        "EPOCHS = 10\r\n",
        "start_lr = 0.00001\r\n",
        "min_lr = 0.00001\r\n",
        "max_lr = 0.00005 * 8\r\n",
        "rampup_epochs = 5\r\n",
        "sustain_epochs = 0\r\n",
        "exp_decay = .8\r\n",
        "\r\n",
        "def lrfn(epoch):\r\n",
        "  if epoch < rampup_epochs:\r\n",
        "    return (max_lr - start_lr)/rampup_epochs * epoch + start_lr\r\n",
        "  elif epoch < rampup_epochs + sustain_epochs:\r\n",
        "    return max_lr\r\n",
        "  else:\r\n",
        "    return (max_lr - min_lr) * exp_decay**(epoch-rampup_epochs-sustain_epochs) + min_lr"
      ],
      "execution_count": null,
      "outputs": []
    },
    {
      "cell_type": "code",
      "metadata": {
        "id": "Ja160AHlAtgr",
        "colab": {
          "base_uri": "https://localhost:8080/"
        },
        "outputId": "1330b54b-5070-4485-8f43-26d3860b7d91"
      },
      "source": [
        "##########################FOLD 1##################################################\r\n",
        "train_index = list(train.loc[train['fold']!=1].index)\r\n",
        "test_index = list(train.loc[train['fold']==1].index)\r\n",
        "\r\n",
        "x_train1,x_valid1 = X1[train_index],X1[test_index]\r\n",
        "x_train2,x_valid2 = X2[train_index],X2[test_index]\r\n",
        "x_train3,x_valid3 = X3[train_index],X3[test_index]\r\n",
        "x_train4,x_valid4 = X4[train_index],X4[test_index]\r\n",
        "y_train,y_valid = y[train_index],y[test_index]\r\n",
        "print(x_train1.shape,x_train2.shape,x_train3.shape,x_train4.shape,x_valid1.shape,x_valid2.shape,x_valid3.shape,x_valid4.shape)\r\n",
        "   \r\n",
        "lr_callback = tf.keras.callbacks.LearningRateScheduler(lambda epoch: lrfn(epoch), verbose=True)\r\n",
        "  \r\n",
        "#reduce_lr = tf.keras.callbacks.ReduceLROnPlateau(monitor='val_loss', factor=0.2,patience=2, min_lr=0.0001)\r\n",
        "model_checkpoint_callback = tf.keras.callbacks.ModelCheckpoint(filepath='/content/drive/My Drive/yield-estimate/model/model_1.h5',\r\n",
        "                                                               save_weights_only=False,\r\n",
        "                                                               monitor='val_loss',\r\n",
        "                                                               mode='min',\r\n",
        "                                                               save_best_only=True)\r\n",
        "model = get_model()\r\n",
        "#model.fit(x=(x_train1,x_train2,x_train3,x_train4),y=y_train,epochs=EPOCHS,validation_data=((x_valid1,x_valid2,x_valid3,x_valid4),y_valid),callbacks=[model_checkpoint_callback],batch_size=8) "
      ],
      "execution_count": null,
      "outputs": [
        {
          "output_type": "stream",
          "text": [
            "(2041, 12, 32, 32, 30) (2041, 12, 14) (2041, 11) (2041,) (511, 12, 32, 32, 30) (511, 12, 14) (511, 11) (511,)\n"
          ],
          "name": "stdout"
        }
      ]
    },
    {
      "cell_type": "code",
      "metadata": {
        "colab": {
          "base_uri": "https://localhost:8080/",
          "height": 419
        },
        "id": "QZ-vEdDl1pab",
        "outputId": "462cf698-38f0-40e9-fd16-53ce7f5c0037"
      },
      "source": [
        "lr_finder = LRFinder(model)\r\n",
        "lr_finder.find((x_train1,x_train2,x_train3,x_train4),y_train, start_lr=0.0000001, end_lr=100, batch_size=512, epochs=5)\r\n",
        "lr_finder.plot_loss(n_skip_beginning=20, n_skip_end=5)\r\n",
        "plt.show()"
      ],
      "execution_count": null,
      "outputs": [
        {
          "output_type": "stream",
          "text": [
            "Epoch 1/5\n",
            "4/4 [==============================] - 23s 3s/step - loss: 12.7342 - root_mean_squared_error: 3.5683\n",
            "Epoch 2/5\n",
            "4/4 [==============================] - 5s 1s/step - loss: 12.5381 - root_mean_squared_error: 3.5408\n",
            "Epoch 3/5\n",
            "4/4 [==============================] - 5s 1s/step - loss: 9.8198 - root_mean_squared_error: 3.1106\n",
            "Epoch 4/5\n",
            "4/4 [==============================] - 4s 857ms/step - loss: 16.8836 - root_mean_squared_error: 3.9412\n"
          ],
          "name": "stdout"
        },
        {
          "output_type": "display_data",
          "data": {
            "image/png": "[encoded data removed]",
            "text/plain": [
              "<Figure size 432x288 with 1 Axes>"
            ]
          },
          "metadata": {
            "tags": [],
            "needs_background": "light"
          }
        }
      ]
    },
    {
      "cell_type": "code",
      "metadata": {
        "id": "0ZIeoH6w1JOa"
      },
      "source": [
        "class MetricsCheckpoint(Callback):\r\n",
        "    \"\"\"Callback that saves metrics after each epoch\"\"\"\r\n",
        "    def __init__(self, savepath):\r\n",
        "        super(MetricsCheckpoint, self).__init__()\r\n",
        "        self.savepath = savepath\r\n",
        "        self.history = {}\r\n",
        "    def on_epoch_end(self, epoch, logs=None):\r\n",
        "        for k, v in logs.items():\r\n",
        "            self.history.setdefault(k, []).append(v)\r\n",
        "        np.save(self.savepath, self.history)\r\n",
        "\r\n",
        "def plotKerasLearningCurve():\r\n",
        "    plt.figure(figsize=(10,5))\r\n",
        "    metrics = np.load('logs.npy')[()]\r\n",
        "    filt = ['acc'] # try to add 'loss' to see the loss learning curve\r\n",
        "    for k in filter(lambda x : np.any([kk in x for kk in filt]), metrics.keys()):\r\n",
        "        l = np.array(metrics[k])\r\n",
        "        plt.plot(l, c= 'r' if 'val' not in k else 'b', label='val' if 'val' in k else 'train')\r\n",
        "        x = np.argmin(l) if 'loss' in k else np.argmax(l)\r\n",
        "        y = l[x]\r\n",
        "        plt.scatter(x,y, lw=0, alpha=0.25, s=100, c='r' if 'val' not in k else 'b')\r\n",
        "        plt.text(x, y, '{} = {:.4f}'.format(x,y), size='15', color= 'r' if 'val' not in k else 'b')   \r\n",
        "    plt.legend(loc=4)\r\n",
        "    plt.axis([0, None, None, None]);\r\n",
        "    plt.grid()\r\n",
        "    plt.xlabel('Number of epochs')\r\n",
        "\r\n",
        "def plot_confusion_matrix(cm, classes,\r\n",
        "                          normalize=False,\r\n",
        "                          title='Confusion matrix',\r\n",
        "                          cmap=plt.cm.Blues):\r\n",
        "    \"\"\"\r\n",
        "    This function prints and plots the confusion matrix.\r\n",
        "    Normalization can be applied by setting `normalize=True`.\r\n",
        "    \"\"\"\r\n",
        "    plt.figure(figsize = (5,5))\r\n",
        "    plt.imshow(cm, interpolation='nearest', cmap=cmap)\r\n",
        "    plt.title(title)\r\n",
        "    plt.colorbar()\r\n",
        "    tick_marks = np.arange(len(classes))\r\n",
        "    plt.xticks(tick_marks, classes, rotation=90)\r\n",
        "    plt.yticks(tick_marks, classes)\r\n",
        "    if normalize:\r\n",
        "        cm = cm.astype('float') / cm.sum(axis=1)[:, np.newaxis]\r\n",
        "\r\n",
        "    thresh = cm.max() / 2.\r\n",
        "    for i, j in itertools.product(range(cm.shape[0]), range(cm.shape[1])):\r\n",
        "        plt.text(j, i, cm[i, j],\r\n",
        "                 horizontalalignment=\"center\",\r\n",
        "                 color=\"white\" if cm[i, j] > thresh else \"black\")\r\n",
        "    plt.tight_layout()\r\n",
        "    plt.ylabel('True label')\r\n",
        "    plt.xlabel('Predicted label')\r\n",
        "\r\n",
        "dict_characters = {0: '0', 1: '1', 2: '2', \r\n",
        "        3: '3', 4: '4', 5: '5', 6: '6', 7:'7',\r\n",
        "        8: '8', 9: '9'}\r\n",
        "\r\n",
        "from matplotlib import pyplot as plt\r\n",
        "import math\r\n",
        "from keras.callbacks import LambdaCallback\r\n",
        "import keras.backend as K\r\n",
        "\r\n",
        "\r\n",
        "class LRFinder:\r\n",
        "    \"\"\"\r\n",
        "    Plots the change of the loss function of a Keras model when the learning rate is exponentially increasing.\r\n",
        "    See for details:\r\n",
        "    https://towardsdatascience.com/estimating-optimal-learning-rate-for-a-deep-neural-network-ce32f2556ce0\r\n",
        "    \"\"\"\r\n",
        "    def __init__(self, model):\r\n",
        "        self.model = model\r\n",
        "        self.losses = []\r\n",
        "        self.lrs = []\r\n",
        "        self.best_loss = 1e9\r\n",
        "\r\n",
        "    def on_batch_end(self, batch, logs):\r\n",
        "        # Log the learning rate\r\n",
        "        lr = K.get_value(self.model.optimizer.lr)\r\n",
        "        self.lrs.append(lr)\r\n",
        "\r\n",
        "        # Log the loss\r\n",
        "        loss = logs['loss']\r\n",
        "        self.losses.append(loss)\r\n",
        "\r\n",
        "        # Check whether the loss got too large or NaN\r\n",
        "        if math.isnan(loss) or loss > self.best_loss * 4:\r\n",
        "            self.model.stop_training = True\r\n",
        "            return\r\n",
        "\r\n",
        "        if loss < self.best_loss:\r\n",
        "            self.best_loss = loss\r\n",
        "\r\n",
        "        # Increase the learning rate for the next batch\r\n",
        "        lr *= self.lr_mult\r\n",
        "        K.set_value(self.model.optimizer.lr, lr)\r\n",
        "\r\n",
        "    def find(self, x_train,y_train, start_lr, end_lr, batch_size=64, epochs=1):\r\n",
        "        x_train1 = x_train[0]\r\n",
        "        x_train2 = x_train[1]\r\n",
        "        x_train3 = x_train[2]\r\n",
        "        x_train4 = x_train[3]\r\n",
        "               \r\n",
        "        num_batches = epochs * x_train1.shape[0] / batch_size\r\n",
        "        self.lr_mult = (end_lr / start_lr) ** (1 / num_batches)\r\n",
        "\r\n",
        "        # Save weights into a file\r\n",
        "        self.model.save_weights('tmp.h5')\r\n",
        "\r\n",
        "        # Remember the original learning rate\r\n",
        "        original_lr = K.get_value(self.model.optimizer.lr)\r\n",
        "\r\n",
        "        # Set the initial learning rate\r\n",
        "        K.set_value(self.model.optimizer.lr, start_lr)\r\n",
        "\r\n",
        "        callback = LambdaCallback(on_batch_end=lambda batch, logs: self.on_batch_end(batch, logs))\r\n",
        "\r\n",
        "        self.model.fit((x_train1,x_train2,x_train3,x_train4), y_train,\r\n",
        "                        batch_size=batch_size, epochs=epochs,\r\n",
        "                        callbacks=[callback])\r\n",
        "\r\n",
        "        # Restore the weights to the state before model fitting\r\n",
        "        self.model.load_weights('tmp.h5')\r\n",
        "\r\n",
        "        # Restore the original learning rate\r\n",
        "        K.set_value(self.model.optimizer.lr, original_lr)\r\n",
        "\r\n",
        "    def plot_loss(self, n_skip_beginning=10, n_skip_end=5):\r\n",
        "        \"\"\"\r\n",
        "        Plots the loss.\r\n",
        "        Parameters:\r\n",
        "            n_skip_beginning - number of batches to skip on the left.\r\n",
        "            n_skip_end - number of batches to skip on the right.\r\n",
        "        \"\"\"\r\n",
        "        plt.ylabel(\"loss\")\r\n",
        "        plt.xlabel(\"learning rate (log scale)\")\r\n",
        "        plt.plot(self.lrs[n_skip_beginning:-n_skip_end], self.losses[n_skip_beginning:-n_skip_end])\r\n",
        "        plt.xscale('log')\r\n",
        "\r\n",
        "    def plot_loss_change(self, sma=1, n_skip_beginning=10, n_skip_end=5, y_lim=(-0.01, 0.01)):\r\n",
        "        \"\"\"\r\n",
        "        Plots rate of change of the loss function.\r\n",
        "        Parameters:\r\n",
        "            sma - number of batches for simple moving average to smooth out the curve.\r\n",
        "            n_skip_beginning - number of batches to skip on the left.\r\n",
        "            n_skip_end - number of batches to skip on the right.\r\n",
        "            y_lim - limits for the y axis.\r\n",
        "        \"\"\"\r\n",
        "        assert sma >= 1\r\n",
        "        derivatives = [0] * sma\r\n",
        "        for i in range(sma, len(self.lrs)):\r\n",
        "            derivative = (self.losses[i] - self.losses[i - sma]) / sma\r\n",
        "            derivatives.append(derivative)\r\n",
        "\r\n",
        "        plt.ylabel(\"rate of loss change\")\r\n",
        "        plt.xlabel(\"learning rate (log scale)\")\r\n",
        "        plt.plot(self.lrs[n_skip_beginning:-n_skip_end], derivatives[n_skip_beginning:-n_skip_end])\r\n",
        "        plt.xscale('log')\r\n",
        "        plt.ylim(y_lim)"
      ],
      "execution_count": null,
      "outputs": []
    },
    {
      "cell_type": "code",
      "metadata": {
        "id": "57dJxvVbBNTS",
        "colab": {
          "base_uri": "https://localhost:8080/"
        },
        "outputId": "1b3b6007-2c0f-43cd-b87c-91b2a631f09a"
      },
      "source": [
        "##########################FOLD 2##################################################\r\n",
        "train_index = list(train.loc[train['fold']!=2].index)\r\n",
        "test_index = list(train.loc[train['fold']==2].index)\r\n",
        "\r\n",
        "x_train1,x_valid1 = X1[train_index],X1[test_index]\r\n",
        "x_train2,x_valid2 = X2[train_index],X2[test_index]\r\n",
        "x_train3,x_valid3 = X3[train_index],X3[test_index]\r\n",
        "x_train4,x_valid4 = X4[train_index],X4[test_index]\r\n",
        "y_train,y_valid = y[train_index],y[test_index]\r\n",
        "print(x_train1.shape,x_train2.shape,x_train3.shape,x_train4.shape,x_valid1.shape,x_valid2.shape,x_valid3.shape,x_valid4.shape)\r\n",
        "   \r\n",
        "lr_callback = tf.keras.callbacks.LearningRateScheduler(lambda epoch: lrfn(epoch), verbose=True)\r\n",
        "  \r\n",
        "#reduce_lr = tf.keras.callbacks.ReduceLROnPlateau(monitor='val_loss', factor=0.2,patience=2, min_lr=0.0001)\r\n",
        "model_checkpoint_callback = tf.keras.callbacks.ModelCheckpoint(filepath='/content/drive/My Drive/yield-estimate/model/model_2.h5',\r\n",
        "                                                               save_weights_only=False,\r\n",
        "                                                               monitor='val_loss',\r\n",
        "                                                               mode='min',\r\n",
        "                                                               save_best_only=True)\r\n",
        "model = get_model()\r\n",
        "model.fit(x=(x_train1,x_train2,x_train3,x_train4),y=y_train,epochs=EPOCHS,validation_data=((x_valid1,x_valid2,x_valid3,x_valid4),y_valid),callbacks=[model_checkpoint_callback]) "
      ],
      "execution_count": null,
      "outputs": [
        {
          "output_type": "stream",
          "text": [
            "(2041, 12, 32, 32, 30) (2041, 12, 14) (2041, 11) (2041,) (511, 12, 32, 32, 30) (511, 12, 14) (511, 11) (511,)\n",
            "WARNING:tensorflow:Layer lstm will not use cuDNN kernel since it doesn't meet the cuDNN kernel criteria. It will use generic GPU kernel as fallback when running on GPU\n",
            "WARNING:tensorflow:Layer lstm_1 will not use cuDNN kernel since it doesn't meet the cuDNN kernel criteria. It will use generic GPU kernel as fallback when running on GPU\n",
            "Epoch 1/12\n",
            "64/64 [==============================] - 17s 111ms/step - loss: 7.9069 - root_mean_squared_error: 2.7742 - val_loss: 2.5049 - val_root_mean_squared_error: 1.5827\n",
            "Epoch 2/12\n",
            "64/64 [==============================] - 5s 85ms/step - loss: 2.4967 - root_mean_squared_error: 1.5798 - val_loss: 2.4383 - val_root_mean_squared_error: 1.5615\n",
            "Epoch 3/12\n",
            "64/64 [==============================] - 5s 83ms/step - loss: 2.5823 - root_mean_squared_error: 1.6063 - val_loss: 2.3697 - val_root_mean_squared_error: 1.5394\n",
            "Epoch 4/12\n",
            "64/64 [==============================] - 5s 84ms/step - loss: 2.4018 - root_mean_squared_error: 1.5494 - val_loss: 2.3198 - val_root_mean_squared_error: 1.5231\n",
            "Epoch 5/12\n",
            "64/64 [==============================] - 6s 87ms/step - loss: 2.3694 - root_mean_squared_error: 1.5383 - val_loss: 2.3075 - val_root_mean_squared_error: 1.5191\n",
            "Epoch 6/12\n",
            "64/64 [==============================] - 5s 85ms/step - loss: 2.4241 - root_mean_squared_error: 1.5564 - val_loss: 2.4710 - val_root_mean_squared_error: 1.5720\n",
            "Epoch 7/12\n",
            "64/64 [==============================] - 6s 91ms/step - loss: 2.5756 - root_mean_squared_error: 1.6047 - val_loss: 2.3351 - val_root_mean_squared_error: 1.5281\n",
            "Epoch 8/12\n",
            "64/64 [==============================] - 6s 89ms/step - loss: 2.3382 - root_mean_squared_error: 1.5280 - val_loss: 2.3455 - val_root_mean_squared_error: 1.5315\n",
            "Epoch 9/12\n",
            "64/64 [==============================] - 5s 85ms/step - loss: 2.2390 - root_mean_squared_error: 1.4957 - val_loss: 2.4086 - val_root_mean_squared_error: 1.5520\n",
            "Epoch 10/12\n",
            "64/64 [==============================] - 5s 83ms/step - loss: 2.4164 - root_mean_squared_error: 1.5541 - val_loss: 2.3370 - val_root_mean_squared_error: 1.5287\n",
            "Epoch 11/12\n",
            "64/64 [==============================] - 6s 87ms/step - loss: 2.4038 - root_mean_squared_error: 1.5501 - val_loss: 2.4431 - val_root_mean_squared_error: 1.5631\n",
            "Epoch 12/12\n",
            "64/64 [==============================] - 5s 85ms/step - loss: 2.3280 - root_mean_squared_error: 1.5252 - val_loss: 2.4925 - val_root_mean_squared_error: 1.5788\n"
          ],
          "name": "stdout"
        },
        {
          "output_type": "execute_result",
          "data": {
            "text/plain": [
              "<tensorflow.python.keras.callbacks.History at 0x7fdaa02aad68>"
            ]
          },
          "metadata": {
            "tags": []
          },
          "execution_count": 22
        }
      ]
    },
    {
      "cell_type": "code",
      "metadata": {
        "colab": {
          "base_uri": "https://localhost:8080/"
        },
        "id": "NY48BgFpRcef",
        "outputId": "df9b90e6-12d8-4741-9eb2-593755fdc3a2"
      },
      "source": [
        "import gc\r\n",
        "del model\r\n",
        "gc.collect()"
      ],
      "execution_count": null,
      "outputs": [
        {
          "output_type": "execute_result",
          "data": {
            "text/plain": [
              "1984"
            ]
          },
          "metadata": {
            "tags": []
          },
          "execution_count": 23
        }
      ]
    },
    {
      "cell_type": "code",
      "metadata": {
        "colab": {
          "base_uri": "https://localhost:8080/"
        },
        "id": "sRdMpopZNNGk",
        "outputId": "a83f75e2-3422-4c50-ec9c-326dbd1e0051"
      },
      "source": [
        "##########################FOLD 3##################################################\r\n",
        "train_index = list(train.loc[train['fold']!=3].index)\r\n",
        "test_index = list(train.loc[train['fold']==3].index)\r\n",
        "\r\n",
        "x_train1,x_valid1 = X1[train_index],X1[test_index]\r\n",
        "x_train2,x_valid2 = X2[train_index],X2[test_index]\r\n",
        "x_train3,x_valid3 = X3[train_index],X3[test_index]\r\n",
        "x_train4,x_valid4 = X4[train_index],X4[test_index]\r\n",
        "y_train,y_valid = y[train_index],y[test_index]\r\n",
        "print(x_train1.shape,x_train2.shape,x_train3.shape,x_train4.shape,x_valid1.shape,x_valid2.shape,x_valid3.shape,x_valid4.shape)\r\n",
        "   \r\n",
        "lr_callback = tf.keras.callbacks.LearningRateScheduler(lambda epoch: lrfn(epoch), verbose=True)\r\n",
        "  \r\n",
        "#reduce_lr = tf.keras.callbacks.ReduceLROnPlateau(monitor='val_loss', factor=0.2,patience=2, min_lr=0.0001)\r\n",
        "model_checkpoint_callback = tf.keras.callbacks.ModelCheckpoint(filepath='/content/drive/My Drive/yield-estimate/model/model_3.h5',\r\n",
        "                                                               save_weights_only=False,\r\n",
        "                                                               monitor='val_loss',\r\n",
        "                                                               mode='min',\r\n",
        "                                                               save_best_only=True)\r\n",
        "model = get_model()\r\n",
        "model.fit(x=(x_train1,x_train2,x_train3,x_train4),y=y_train,epochs=EPOCHS,validation_data=((x_valid1,x_valid2,x_valid3,x_valid4),y_valid),callbacks=[model_checkpoint_callback]) "
      ],
      "execution_count": null,
      "outputs": [
        {
          "output_type": "stream",
          "text": [
            "(2042, 12, 32, 32, 30) (2042, 12, 14) (2042, 11) (2042,) (510, 12, 32, 32, 30) (510, 12, 14) (510, 11) (510,)\n",
            "WARNING:tensorflow:Layer lstm_2 will not use cuDNN kernel since it doesn't meet the cuDNN kernel criteria. It will use generic GPU kernel as fallback when running on GPU\n",
            "WARNING:tensorflow:Layer lstm_3 will not use cuDNN kernel since it doesn't meet the cuDNN kernel criteria. It will use generic GPU kernel as fallback when running on GPU\n",
            "Epoch 1/12\n",
            "64/64 [==============================] - 9s 108ms/step - loss: 7.1304 - root_mean_squared_error: 2.6395 - val_loss: 2.8183 - val_root_mean_squared_error: 1.6788\n",
            "Epoch 2/12\n",
            "64/64 [==============================] - 6s 88ms/step - loss: 3.7555 - root_mean_squared_error: 1.9284 - val_loss: 2.7720 - val_root_mean_squared_error: 1.6649\n",
            "Epoch 3/12\n",
            "64/64 [==============================] - 6s 89ms/step - loss: 2.4322 - root_mean_squared_error: 1.5593 - val_loss: 2.7894 - val_root_mean_squared_error: 1.6702\n",
            "Epoch 4/12\n",
            "64/64 [==============================] - 6s 87ms/step - loss: 2.2293 - root_mean_squared_error: 1.4923 - val_loss: 2.7330 - val_root_mean_squared_error: 1.6532\n",
            "Epoch 5/12\n",
            "64/64 [==============================] - 6s 90ms/step - loss: 2.3538 - root_mean_squared_error: 1.5335 - val_loss: 2.6633 - val_root_mean_squared_error: 1.6320\n",
            "Epoch 6/12\n",
            "64/64 [==============================] - 6s 89ms/step - loss: 2.6009 - root_mean_squared_error: 1.6084 - val_loss: 2.8860 - val_root_mean_squared_error: 1.6988\n",
            "Epoch 7/12\n",
            "64/64 [==============================] - 6s 91ms/step - loss: 2.4981 - root_mean_squared_error: 1.5793 - val_loss: 2.6294 - val_root_mean_squared_error: 1.6215\n",
            "Epoch 8/12\n",
            "64/64 [==============================] - 6s 90ms/step - loss: 2.2475 - root_mean_squared_error: 1.4979 - val_loss: 2.6313 - val_root_mean_squared_error: 1.6221\n",
            "Epoch 9/12\n",
            "64/64 [==============================] - 6s 88ms/step - loss: 2.1805 - root_mean_squared_error: 1.4759 - val_loss: 2.6611 - val_root_mean_squared_error: 1.6313\n",
            "Epoch 10/12\n",
            "64/64 [==============================] - 5s 86ms/step - loss: 2.3183 - root_mean_squared_error: 1.5219 - val_loss: 2.6155 - val_root_mean_squared_error: 1.6172\n",
            "Epoch 11/12\n",
            "64/64 [==============================] - 5s 86ms/step - loss: 2.2761 - root_mean_squared_error: 1.5083 - val_loss: 2.6811 - val_root_mean_squared_error: 1.6374\n",
            "Epoch 12/12\n",
            "64/64 [==============================] - 6s 91ms/step - loss: 2.3741 - root_mean_squared_error: 1.5404 - val_loss: 2.6756 - val_root_mean_squared_error: 1.6357\n"
          ],
          "name": "stdout"
        },
        {
          "output_type": "execute_result",
          "data": {
            "text/plain": [
              "<tensorflow.python.keras.callbacks.History at 0x7fda0e0797b8>"
            ]
          },
          "metadata": {
            "tags": []
          },
          "execution_count": 24
        }
      ]
    },
    {
      "cell_type": "code",
      "metadata": {
        "colab": {
          "base_uri": "https://localhost:8080/"
        },
        "id": "k52bf79kR2O4",
        "outputId": "6896380e-f092-456a-e674-8efdfbb4ac7a"
      },
      "source": [
        "del model\r\n",
        "gc.collect()"
      ],
      "execution_count": null,
      "outputs": [
        {
          "output_type": "execute_result",
          "data": {
            "text/plain": [
              "1757"
            ]
          },
          "metadata": {
            "tags": []
          },
          "execution_count": 27
        }
      ]
    },
    {
      "cell_type": "code",
      "metadata": {
        "colab": {
          "base_uri": "https://localhost:8080/"
        },
        "id": "aiPfle_TNayP",
        "outputId": "39844bd4-1002-4c6a-8c27-0df95063c9b9"
      },
      "source": [
        "##########################FOLD 4##################################################\r\n",
        "train_index = list(train.loc[train['fold']!=4].index)\r\n",
        "test_index = list(train.loc[train['fold']==4].index)\r\n",
        "\r\n",
        "x_train1,x_valid1 = X1[train_index],X1[test_index]\r\n",
        "x_train2,x_valid2 = X2[train_index],X2[test_index]\r\n",
        "x_train3,x_valid3 = X3[train_index],X3[test_index]\r\n",
        "x_train4,x_valid4 = X4[train_index],X4[test_index]\r\n",
        "y_train,y_valid = y[train_index],y[test_index]\r\n",
        "print(x_train1.shape,x_train2.shape,x_train3.shape,x_train4.shape,x_valid1.shape,x_valid2.shape,x_valid3.shape,x_valid4.shape)\r\n",
        "   \r\n",
        "lr_callback = tf.keras.callbacks.LearningRateScheduler(lambda epoch: lrfn(epoch), verbose=True)\r\n",
        "  \r\n",
        "#reduce_lr = tf.keras.callbacks.ReduceLROnPlateau(monitor='val_loss', factor=0.2,patience=2, min_lr=0.0001)\r\n",
        "model_checkpoint_callback = tf.keras.callbacks.ModelCheckpoint(filepath='/content/drive/My Drive/yield-estimate/model/model_4.h5',\r\n",
        "                                                               save_weights_only=False,\r\n",
        "                                                               monitor='val_loss',\r\n",
        "                                                               mode='min',\r\n",
        "                                                               save_best_only=True)\r\n",
        "model = get_model()\r\n",
        "model.fit(x=(x_train1,x_train2,x_train3,x_train4),y=y_train,epochs=EPOCHS,validation_data=((x_valid1,x_valid2,x_valid3,x_valid4),y_valid),callbacks=[model_checkpoint_callback]) "
      ],
      "execution_count": null,
      "outputs": [
        {
          "output_type": "stream",
          "text": [
            "(2042, 12, 32, 32, 30) (2042, 12, 14) (2042, 11) (2042,) (510, 12, 32, 32, 30) (510, 12, 14) (510, 11) (510,)\n",
            "WARNING:tensorflow:Layer lstm_4 will not use cuDNN kernel since it doesn't meet the cuDNN kernel criteria. It will use generic GPU kernel as fallback when running on GPU\n",
            "WARNING:tensorflow:Layer lstm_5 will not use cuDNN kernel since it doesn't meet the cuDNN kernel criteria. It will use generic GPU kernel as fallback when running on GPU\n",
            "Epoch 1/12\n",
            "64/64 [==============================] - 9s 107ms/step - loss: 6.2564 - root_mean_squared_error: 2.4606 - val_loss: 2.7801 - val_root_mean_squared_error: 1.6674\n",
            "Epoch 2/12\n",
            "64/64 [==============================] - 6s 87ms/step - loss: 2.6317 - root_mean_squared_error: 1.6217 - val_loss: 2.4376 - val_root_mean_squared_error: 1.5613\n",
            "Epoch 3/12\n",
            "64/64 [==============================] - 5s 85ms/step - loss: 2.4923 - root_mean_squared_error: 1.5780 - val_loss: 2.6705 - val_root_mean_squared_error: 1.6342\n",
            "Epoch 4/12\n",
            "64/64 [==============================] - 6s 92ms/step - loss: 2.5657 - root_mean_squared_error: 1.5981 - val_loss: 2.3583 - val_root_mean_squared_error: 1.5357\n",
            "Epoch 5/12\n",
            "64/64 [==============================] - 6s 90ms/step - loss: 2.3381 - root_mean_squared_error: 1.5283 - val_loss: 2.3959 - val_root_mean_squared_error: 1.5479\n",
            "Epoch 6/12\n",
            "64/64 [==============================] - 6s 95ms/step - loss: 2.3332 - root_mean_squared_error: 1.5265 - val_loss: 2.3302 - val_root_mean_squared_error: 1.5265\n",
            "Epoch 7/12\n",
            "64/64 [==============================] - 6s 90ms/step - loss: 2.2105 - root_mean_squared_error: 1.4854 - val_loss: 2.3324 - val_root_mean_squared_error: 1.5272\n",
            "Epoch 8/12\n",
            "64/64 [==============================] - 6s 94ms/step - loss: 2.1272 - root_mean_squared_error: 1.4576 - val_loss: 2.3995 - val_root_mean_squared_error: 1.5490\n",
            "Epoch 9/12\n",
            "64/64 [==============================] - 6s 93ms/step - loss: 2.5691 - root_mean_squared_error: 1.6016 - val_loss: 2.3833 - val_root_mean_squared_error: 1.5438\n",
            "Epoch 10/12\n",
            "64/64 [==============================] - 5s 85ms/step - loss: 2.2378 - root_mean_squared_error: 1.4946 - val_loss: 2.4436 - val_root_mean_squared_error: 1.5632\n",
            "Epoch 11/12\n",
            "64/64 [==============================] - 6s 90ms/step - loss: 2.5648 - root_mean_squared_error: 1.6008 - val_loss: 2.3610 - val_root_mean_squared_error: 1.5365\n",
            "Epoch 12/12\n",
            "64/64 [==============================] - 6s 88ms/step - loss: 2.3918 - root_mean_squared_error: 1.5458 - val_loss: 2.3726 - val_root_mean_squared_error: 1.5403\n"
          ],
          "name": "stdout"
        },
        {
          "output_type": "execute_result",
          "data": {
            "text/plain": [
              "<tensorflow.python.keras.callbacks.History at 0x7fd9de0b0748>"
            ]
          },
          "metadata": {
            "tags": []
          },
          "execution_count": 28
        }
      ]
    },
    {
      "cell_type": "code",
      "metadata": {
        "colab": {
          "base_uri": "https://localhost:8080/"
        },
        "id": "Axwsu3YiSAIn",
        "outputId": "6dfa48af-b014-4e31-c629-2dda15babdb2"
      },
      "source": [
        "del model\r\n",
        "gc.collect()"
      ],
      "execution_count": null,
      "outputs": [
        {
          "output_type": "execute_result",
          "data": {
            "text/plain": [
              "1799"
            ]
          },
          "metadata": {
            "tags": []
          },
          "execution_count": 29
        }
      ]
    },
    {
      "cell_type": "code",
      "metadata": {
        "colab": {
          "base_uri": "https://localhost:8080/"
        },
        "id": "sixebgFrNgCR",
        "outputId": "7e3237f2-2117-4ba8-e954-65ab70a0750b"
      },
      "source": [
        "##########################FOLD 5##################################################\r\n",
        "train_index = list(train.loc[train['fold']!=5].index)\r\n",
        "test_index = list(train.loc[train['fold']==5].index)\r\n",
        "\r\n",
        "x_train1,x_valid1 = X1[train_index],X1[test_index]\r\n",
        "x_train2,x_valid2 = X2[train_index],X2[test_index]\r\n",
        "x_train3,x_valid3 = X3[train_index],X3[test_index]\r\n",
        "x_train4,x_valid4 = X4[train_index],X4[test_index]\r\n",
        "y_train,y_valid = y[train_index],y[test_index]\r\n",
        "print(x_train1.shape,x_train2.shape,x_train3.shape,x_train4.shape,x_valid1.shape,x_valid2.shape,x_valid3.shape,x_valid4.shape)\r\n",
        "   \r\n",
        "lr_callback = tf.keras.callbacks.LearningRateScheduler(lambda epoch: lrfn(epoch), verbose=True)\r\n",
        "  \r\n",
        "#reduce_lr = tf.keras.callbacks.ReduceLROnPlateau(monitor='val_loss', factor=0.2,patience=2, min_lr=0.0001)\r\n",
        "model_checkpoint_callback = tf.keras.callbacks.ModelCheckpoint(filepath='/content/drive/My Drive/yield-estimate/model/model_5.h5',\r\n",
        "                                                               save_weights_only=False,\r\n",
        "                                                               monitor='val_loss',\r\n",
        "                                                               mode='min',\r\n",
        "                                                               save_best_only=True)\r\n",
        "model = get_model()\r\n",
        "model.fit(x=(x_train1,x_train2,x_train3,x_train4),y=y_train,epochs=EPOCHS,validation_data=((x_valid1,x_valid2,x_valid3,x_valid4),y_valid),callbacks=[model_checkpoint_callback]) "
      ],
      "execution_count": null,
      "outputs": [
        {
          "output_type": "stream",
          "text": [
            "(2042, 12, 32, 32, 30) (2042, 12, 14) (2042, 11) (2042,) (510, 12, 32, 32, 30) (510, 12, 14) (510, 11) (510,)\n",
            "WARNING:tensorflow:Layer lstm_6 will not use cuDNN kernel since it doesn't meet the cuDNN kernel criteria. It will use generic GPU kernel as fallback when running on GPU\n",
            "WARNING:tensorflow:Layer lstm_7 will not use cuDNN kernel since it doesn't meet the cuDNN kernel criteria. It will use generic GPU kernel as fallback when running on GPU\n",
            "Epoch 1/12\n",
            "64/64 [==============================] - 9s 113ms/step - loss: 7.0846 - root_mean_squared_error: 2.6485 - val_loss: 2.1682 - val_root_mean_squared_error: 1.4725\n",
            "Epoch 2/12\n",
            "64/64 [==============================] - 6s 90ms/step - loss: 2.9360 - root_mean_squared_error: 1.7129 - val_loss: 2.0774 - val_root_mean_squared_error: 1.4413\n",
            "Epoch 3/12\n",
            "64/64 [==============================] - 5s 86ms/step - loss: 2.6303 - root_mean_squared_error: 1.6203 - val_loss: 2.2474 - val_root_mean_squared_error: 1.4991\n",
            "Epoch 4/12\n",
            "64/64 [==============================] - 6s 91ms/step - loss: 2.4174 - root_mean_squared_error: 1.5543 - val_loss: 2.0153 - val_root_mean_squared_error: 1.4196\n",
            "Epoch 5/12\n",
            "64/64 [==============================] - 6s 90ms/step - loss: 2.3822 - root_mean_squared_error: 1.5429 - val_loss: 2.1115 - val_root_mean_squared_error: 1.4531\n",
            "Epoch 6/12\n",
            "64/64 [==============================] - 6s 92ms/step - loss: 2.5279 - root_mean_squared_error: 1.5887 - val_loss: 2.0228 - val_root_mean_squared_error: 1.4222\n",
            "Epoch 7/12\n",
            "64/64 [==============================] - 5s 85ms/step - loss: 2.2747 - root_mean_squared_error: 1.5075 - val_loss: 2.0804 - val_root_mean_squared_error: 1.4424\n",
            "Epoch 8/12\n",
            "64/64 [==============================] - 5s 84ms/step - loss: 2.5068 - root_mean_squared_error: 1.5829 - val_loss: 2.0197 - val_root_mean_squared_error: 1.4212\n",
            "Epoch 9/12\n",
            "64/64 [==============================] - 6s 86ms/step - loss: 2.4338 - root_mean_squared_error: 1.5590 - val_loss: 2.0550 - val_root_mean_squared_error: 1.4335\n",
            "Epoch 10/12\n",
            "64/64 [==============================] - 6s 89ms/step - loss: 2.4204 - root_mean_squared_error: 1.5549 - val_loss: 2.0485 - val_root_mean_squared_error: 1.4312\n",
            "Epoch 11/12\n",
            "64/64 [==============================] - 5s 86ms/step - loss: 2.4192 - root_mean_squared_error: 1.5544 - val_loss: 2.0740 - val_root_mean_squared_error: 1.4401\n",
            "Epoch 12/12\n",
            "64/64 [==============================] - 5s 84ms/step - loss: 2.3387 - root_mean_squared_error: 1.5284 - val_loss: 2.0342 - val_root_mean_squared_error: 1.4262\n"
          ],
          "name": "stdout"
        },
        {
          "output_type": "execute_result",
          "data": {
            "text/plain": [
              "<tensorflow.python.keras.callbacks.History at 0x7fd9d0250908>"
            ]
          },
          "metadata": {
            "tags": []
          },
          "execution_count": 30
        }
      ]
    },
    {
      "cell_type": "code",
      "metadata": {
        "colab": {
          "base_uri": "https://localhost:8080/"
        },
        "id": "v7rhtOuQSuM1",
        "outputId": "53aa760e-42ed-46fc-a9ca-1d9b3be93936"
      },
      "source": [
        "del model\r\n",
        "gc.collect()"
      ],
      "execution_count": null,
      "outputs": [
        {
          "output_type": "execute_result",
          "data": {
            "text/plain": [
              "1799"
            ]
          },
          "metadata": {
            "tags": []
          },
          "execution_count": 31
        }
      ]
    },
    {
      "cell_type": "code",
      "metadata": {
        "colab": {
          "base_uri": "https://localhost:8080/"
        },
        "id": "lUDB4DTMjoq6",
        "outputId": "5987c77c-f433-4013-8d62-af74a009af46"
      },
      "source": [
        "!pip install keras-lr-finder"
      ],
      "execution_count": null,
      "outputs": [
        {
          "output_type": "stream",
          "text": [
            "Requirement already satisfied: keras-lr-finder in /usr/local/lib/python3.6/dist-packages (0.1)\n",
            "Requirement already satisfied: matplotlib in /usr/local/lib/python3.6/dist-packages (from keras-lr-finder) (3.2.2)\n",
            "Requirement already satisfied: keras>=2.0.0 in /usr/local/lib/python3.6/dist-packages (from keras-lr-finder) (2.4.3)\n",
            "Requirement already satisfied: kiwisolver>=1.0.1 in /usr/local/lib/python3.6/dist-packages (from matplotlib->keras-lr-finder) (1.3.1)\n",
            "Requirement already satisfied: cycler>=0.10 in /usr/local/lib/python3.6/dist-packages (from matplotlib->keras-lr-finder) (0.10.0)\n",
            "Requirement already satisfied: pyparsing!=2.0.4,!=2.1.2,!=2.1.6,>=2.0.1 in /usr/local/lib/python3.6/dist-packages (from matplotlib->keras-lr-finder) (2.4.7)\n",
            "Requirement already satisfied: python-dateutil>=2.1 in /usr/local/lib/python3.6/dist-packages (from matplotlib->keras-lr-finder) (2.8.1)\n",
            "Requirement already satisfied: numpy>=1.11 in /usr/local/lib/python3.6/dist-packages (from matplotlib->keras-lr-finder) (1.19.4)\n",
            "Requirement already satisfied: h5py in /usr/local/lib/python3.6/dist-packages (from keras>=2.0.0->keras-lr-finder) (2.10.0)\n",
            "Requirement already satisfied: pyyaml in /usr/local/lib/python3.6/dist-packages (from keras>=2.0.0->keras-lr-finder) (3.13)\n",
            "Requirement already satisfied: scipy>=0.14 in /usr/local/lib/python3.6/dist-packages (from keras>=2.0.0->keras-lr-finder) (1.4.1)\n",
            "Requirement already satisfied: six in /usr/local/lib/python3.6/dist-packages (from cycler>=0.10->matplotlib->keras-lr-finder) (1.15.0)\n"
          ],
          "name": "stdout"
        }
      ]
    },
    {
      "cell_type": "code",
      "metadata": {
        "id": "pu0ElcY9j4OI"
      },
      "source": [
        "from keras_lr_finder import LRFinder"
      ],
      "execution_count": null,
      "outputs": []
    },
    {
      "cell_type": "code",
      "metadata": {
        "colab": {
          "background_save": true,
          "base_uri": "https://localhost:8080/"
        },
        "id": "aIiZFPIBj8Du",
        "outputId": "63d4d7d8-b150-4ec3-bfa3-8c85138cafac"
      },
      "source": [
        "lr_finder = LRFinder(model)\r\n",
        "lr_finder.find(x_train, y_train, 0.0001, 1, 512, 5)"
      ],
      "execution_count": null,
      "outputs": [
        {
          "output_type": "stream",
          "text": [
            "Epoch 1/5\n",
            "4/4 [==============================] - 82s 19s/step - loss: 12.0197 - root_mean_squared_error: 3.4661\n",
            "Epoch 2/5\n",
            "4/4 [==============================] - 75s 19s/step - loss: 5.2700 - root_mean_squared_error: 2.2946\n",
            "Epoch 3/5\n",
            "4/4 [==============================] - 73s 18s/step - loss: 43.5195 - root_mean_squared_error: 5.6437\n"
          ],
          "name": "stdout"
        }
      ]
    },
    {
      "cell_type": "code",
      "metadata": {
        "id": "L0rVPIApkySq"
      },
      "source": [
        "lr_finder.plot_loss()"
      ],
      "execution_count": null,
      "outputs": []
    },
    {
      "cell_type": "markdown",
      "metadata": {
        "id": "yEbhmfDWNDgo"
      },
      "source": [
        "# Generating predictions"
      ]
    },
    {
      "cell_type": "code",
      "metadata": {
        "id": "43_FXFivNC45",
        "colab": {
          "base_uri": "https://localhost:8080/"
        },
        "outputId": "91efd2a4-924b-4669-8083-576fdf7e37c0"
      },
      "source": [
        "crop_yield = np.zeros(shape=(1055,1))\r\n",
        "\r\n",
        "model = tf.keras.models.load_model('/content/drive/My Drive/yield-estimate/model/model_1.h5')\r\n",
        "crop_yield += model.predict((test1,test2,test3,test4))\r\n",
        "del model\r\n",
        "gc.collect()\r\n",
        "model = tf.keras.models.load_model('/content/drive/My Drive/yield-estimate/model/model_2.h5')\r\n",
        "crop_yield += model.predict((test1,test2,test3,test4))\r\n",
        "del model\r\n",
        "gc.collect()\r\n",
        "model = tf.keras.models.load_model('/content/drive/My Drive/yield-estimate/model/model_3.h5')\r\n",
        "crop_yield += model.predict((test1,test2,test3,test4))\r\n",
        "del model\r\n",
        "gc.collect()\r\n",
        "model = tf.keras.models.load_model('/content/drive/My Drive/yield-estimate/model/model_4.h5')\r\n",
        "crop_yield += model.predict((test1,test2,test3,test4))\r\n",
        "del model\r\n",
        "gc.collect()\r\n",
        "model = tf.keras.models.load_model('/content/drive/My Drive/yield-estimate/model/model_5.h5')\r\n",
        "crop_yield += model.predict((test1,test2,test3,test4))\r\n",
        "del model\r\n",
        "gc.collect()"
      ],
      "execution_count": null,
      "outputs": [
        {
          "output_type": "stream",
          "text": [
            "WARNING:tensorflow:Layer lstm will not use cuDNN kernel since it doesn't meet the cuDNN kernel criteria. It will use generic GPU kernel as fallback when running on GPU\n",
            "WARNING:tensorflow:Layer lstm_1 will not use cuDNN kernel since it doesn't meet the cuDNN kernel criteria. It will use generic GPU kernel as fallback when running on GPU\n",
            "WARNING:tensorflow:Layer lstm will not use cuDNN kernel since it doesn't meet the cuDNN kernel criteria. It will use generic GPU kernel as fallback when running on GPU\n",
            "WARNING:tensorflow:Layer lstm_1 will not use cuDNN kernel since it doesn't meet the cuDNN kernel criteria. It will use generic GPU kernel as fallback when running on GPU\n",
            "WARNING:tensorflow:Layer lstm_2 will not use cuDNN kernel since it doesn't meet the cuDNN kernel criteria. It will use generic GPU kernel as fallback when running on GPU\n",
            "WARNING:tensorflow:Layer lstm_3 will not use cuDNN kernel since it doesn't meet the cuDNN kernel criteria. It will use generic GPU kernel as fallback when running on GPU\n",
            "WARNING:tensorflow:Layer lstm_4 will not use cuDNN kernel since it doesn't meet the cuDNN kernel criteria. It will use generic GPU kernel as fallback when running on GPU\n",
            "WARNING:tensorflow:Layer lstm_5 will not use cuDNN kernel since it doesn't meet the cuDNN kernel criteria. It will use generic GPU kernel as fallback when running on GPU\n",
            "WARNING:tensorflow:Layer lstm_6 will not use cuDNN kernel since it doesn't meet the cuDNN kernel criteria. It will use generic GPU kernel as fallback when running on GPU\n",
            "WARNING:tensorflow:Layer lstm_7 will not use cuDNN kernel since it doesn't meet the cuDNN kernel criteria. It will use generic GPU kernel as fallback when running on GPU\n"
          ],
          "name": "stdout"
        },
        {
          "output_type": "execute_result",
          "data": {
            "text/plain": [
              "7861"
            ]
          },
          "metadata": {
            "tags": []
          },
          "execution_count": 21
        }
      ]
    },
    {
      "cell_type": "code",
      "metadata": {
        "colab": {
          "base_uri": "https://localhost:8080/"
        },
        "id": "Nj9ahshnWGMp",
        "outputId": "3d1a221e-e339-4ba3-ce65-55342694e54a"
      },
      "source": [
        "crop_yield[:10]"
      ],
      "execution_count": null,
      "outputs": [
        {
          "output_type": "execute_result",
          "data": {
            "text/plain": [
              "array([[15.70167828],\n",
              "       [18.30293512],\n",
              "       [17.15458751],\n",
              "       [16.65882707],\n",
              "       [16.39486885],\n",
              "       [21.53106165],\n",
              "       [24.06424379],\n",
              "       [23.01271152],\n",
              "       [19.70296931],\n",
              "       [21.13050795]])"
            ]
          },
          "metadata": {
            "tags": []
          },
          "execution_count": 22
        }
      ]
    },
    {
      "cell_type": "code",
      "metadata": {
        "colab": {
          "base_uri": "https://localhost:8080/",
          "height": 204
        },
        "id": "ZTgDLbqDahmV",
        "outputId": "65e8bf2e-2580-4f1c-b067-52b8bedadf56"
      },
      "source": [
        "ss['Yield'] = crop_yield/5\r\n",
        "ss.head()"
      ],
      "execution_count": null,
      "outputs": [
        {
          "output_type": "execute_result",
          "data": {
            "text/html": [
              "<div>\n",
              "<style scoped>\n",
              "    .dataframe tbody tr th:only-of-type {\n",
              "        vertical-align: middle;\n",
              "    }\n",
              "\n",
              "    .dataframe tbody tr th {\n",
              "        vertical-align: top;\n",
              "    }\n",
              "\n",
              "    .dataframe thead th {\n",
              "        text-align: right;\n",
              "    }\n",
              "</style>\n",
              "<table border=\"1\" class=\"dataframe\">\n",
              "  <thead>\n",
              "    <tr style=\"text-align: right;\">\n",
              "      <th></th>\n",
              "      <th>Field_ID</th>\n",
              "      <th>Yield</th>\n",
              "    </tr>\n",
              "  </thead>\n",
              "  <tbody>\n",
              "    <tr>\n",
              "      <th>0</th>\n",
              "      <td>E9UZCEA</td>\n",
              "      <td>3.140336</td>\n",
              "    </tr>\n",
              "    <tr>\n",
              "      <th>1</th>\n",
              "      <td>1WGGS1Q</td>\n",
              "      <td>3.660587</td>\n",
              "    </tr>\n",
              "    <tr>\n",
              "      <th>2</th>\n",
              "      <td>EG2KXE2</td>\n",
              "      <td>3.430918</td>\n",
              "    </tr>\n",
              "    <tr>\n",
              "      <th>3</th>\n",
              "      <td>HC3GQXF</td>\n",
              "      <td>3.331765</td>\n",
              "    </tr>\n",
              "    <tr>\n",
              "      <th>4</th>\n",
              "      <td>7AK6GFK</td>\n",
              "      <td>3.278974</td>\n",
              "    </tr>\n",
              "  </tbody>\n",
              "</table>\n",
              "</div>"
            ],
            "text/plain": [
              "  Field_ID     Yield\n",
              "0  E9UZCEA  3.140336\n",
              "1  1WGGS1Q  3.660587\n",
              "2  EG2KXE2  3.430918\n",
              "3  HC3GQXF  3.331765\n",
              "4  7AK6GFK  3.278974"
            ]
          },
          "metadata": {
            "tags": []
          },
          "execution_count": 23
        }
      ]
    },
    {
      "cell_type": "code",
      "metadata": {
        "id": "1Y6rdRizap6N"
      },
      "source": [
        "ss.to_csv('/content/drive/My Drive/yield-estimate/sub_5fold.csv',index=False)"
      ],
      "execution_count": null,
      "outputs": []
    }
  ]
}